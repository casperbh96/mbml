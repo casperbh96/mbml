{
  "nbformat": 4,
  "nbformat_minor": 0,
  "metadata": {
    "kernelspec": {
      "display_name": "Python 3",
      "language": "python",
      "name": "python3"
    },
    "language_info": {
      "codemirror_mode": {
        "name": "ipython",
        "version": 3
      },
      "file_extension": ".py",
      "mimetype": "text/x-python",
      "name": "python",
      "nbconvert_exporter": "python",
      "pygments_lexer": "ipython3",
      "version": "3.8.2"
    },
    "colab": {
      "name": "recommendation_products.ipynb",
      "provenance": [],
      "collapsed_sections": [
        "wN0G9BST02ru"
      ],
      "machine_shape": "hm",
      "include_colab_link": true
    }
  },
  "cells": [
    {
      "cell_type": "markdown",
      "metadata": {
        "id": "view-in-github",
        "colab_type": "text"
      },
      "source": [
        "<a href=\"https://colab.research.google.com/github/casperbh96/mbml/blob/master/recommendation_products.ipynb\" target=\"_parent\"><img src=\"https://colab.research.google.com/assets/colab-badge.svg\" alt=\"Open In Colab\"/></a>"
      ]
    },
    {
      "cell_type": "markdown",
      "metadata": {
        "id": "b3mke2L002rc",
        "colab_type": "text"
      },
      "source": [
        "# Importing the packages"
      ]
    },
    {
      "cell_type": "code",
      "metadata": {
        "id": "4n8C_LBViwNl",
        "colab_type": "code",
        "outputId": "54fe97e4-c133-43a0-fb9d-31a4948bd526",
        "colab": {
          "base_uri": "https://localhost:8080/",
          "height": 134
        }
      },
      "source": [
        "# Install Pyro, if necessary\n",
        "!pip install pyro-ppl"
      ],
      "execution_count": 53,
      "outputs": [
        {
          "output_type": "stream",
          "text": [
            "Requirement already satisfied: pyro-ppl in /usr/local/lib/python3.6/dist-packages (1.3.1)\n",
            "Requirement already satisfied: tqdm>=4.36 in /usr/local/lib/python3.6/dist-packages (from pyro-ppl) (4.41.1)\n",
            "Requirement already satisfied: opt-einsum>=2.3.2 in /usr/local/lib/python3.6/dist-packages (from pyro-ppl) (3.2.1)\n",
            "Requirement already satisfied: numpy>=1.7 in /usr/local/lib/python3.6/dist-packages (from pyro-ppl) (1.18.4)\n",
            "Requirement already satisfied: torch>=1.4.0 in /usr/local/lib/python3.6/dist-packages (from pyro-ppl) (1.5.0+cu101)\n",
            "Requirement already satisfied: pyro-api>=0.1.1 in /usr/local/lib/python3.6/dist-packages (from pyro-ppl) (0.1.2)\n",
            "Requirement already satisfied: future in /usr/local/lib/python3.6/dist-packages (from torch>=1.4.0->pyro-ppl) (0.16.0)\n"
          ],
          "name": "stdout"
        }
      ]
    },
    {
      "cell_type": "code",
      "metadata": {
        "id": "eFLJgVvW02re",
        "colab_type": "code",
        "colab": {}
      },
      "source": [
        "import pandas as pd\n",
        "import matplotlib.pyplot as plt\n",
        "import seaborn as sns\n",
        "import numpy as np\n",
        "from datetime import datetime\n",
        "from sklearn.impute import SimpleImputer\n",
        "from sklearn import linear_model\n",
        "import copy\n",
        "import torch\n",
        "\n",
        "import pyro\n",
        "import pyro.distributions as dist\n",
        "from pyro.contrib.autoguide import AutoDiagonalNormal, AutoMultivariateNormal\n",
        "from pyro.infer import MCMC, NUTS, HMC, SVI, Trace_ELBO\n",
        "from pyro.optim import Adam, ClippedAdam\n",
        "\n",
        "pd.set_option('display.max_columns', 50)\n",
        "%matplotlib inline"
      ],
      "execution_count": 0,
      "outputs": []
    },
    {
      "cell_type": "markdown",
      "metadata": {
        "id": "mCqtx0jR02rk",
        "colab_type": "text"
      },
      "source": [
        "# Loading the dataset\n",
        "\n",
        "This is the Santander Product Recommendation dataset from [Kaggle](https://www.kaggle.com/c/santander-product-recommendation/data)."
      ]
    },
    {
      "cell_type": "code",
      "metadata": {
        "id": "BI_eUa3Q1qiK",
        "colab_type": "code",
        "outputId": "84ec52d2-c353-457b-b3f1-10ae79a87e50",
        "colab": {
          "base_uri": "https://localhost:8080/",
          "height": 34
        }
      },
      "source": [
        "from google.colab import drive\n",
        "drive.mount('/content/gdrive')"
      ],
      "execution_count": 55,
      "outputs": [
        {
          "output_type": "stream",
          "text": [
            "Drive already mounted at /content/gdrive; to attempt to forcibly remount, call drive.mount(\"/content/gdrive\", force_remount=True).\n"
          ],
          "name": "stdout"
        }
      ]
    },
    {
      "cell_type": "code",
      "metadata": {
        "id": "JQjPQIs002rl",
        "colab_type": "code",
        "outputId": "2f9bb06e-50a1-4b48-cd09-209a34b24915",
        "colab": {
          "base_uri": "https://localhost:8080/",
          "height": 333
        }
      },
      "source": [
        "#Add the path of the file \"train_vers2.csv\" here\n",
        "#train_path = 'data/train_ver2.csv'\n",
        "#train_path = '/content/gdrive/My Drive/MSc: AI/2. semester/MBML/train_ver2.csv'\n",
        "train_path = '/content/gdrive/My Drive/DTU/Model-based machined learning/project/data/train_ver2.csv'\n",
        "\n",
        "train_df = pd.read_csv(train_path, parse_dates=['fecha_dato', 'fecha_alta', 'ult_fec_cli_1t'], sep=\",\",na_values = ['?', 'NA'])\n",
        "\n",
        "train_df.head(5)"
      ],
      "execution_count": 56,
      "outputs": [
        {
          "output_type": "stream",
          "text": [
            "/usr/local/lib/python3.6/dist-packages/IPython/core/interactiveshell.py:2718: DtypeWarning: Columns (5,8,11,15) have mixed types.Specify dtype option on import or set low_memory=False.\n",
            "  interactivity=interactivity, compiler=compiler, result=result)\n"
          ],
          "name": "stderr"
        },
        {
          "output_type": "execute_result",
          "data": {
            "text/html": [
              "<div>\n",
              "<style scoped>\n",
              "    .dataframe tbody tr th:only-of-type {\n",
              "        vertical-align: middle;\n",
              "    }\n",
              "\n",
              "    .dataframe tbody tr th {\n",
              "        vertical-align: top;\n",
              "    }\n",
              "\n",
              "    .dataframe thead th {\n",
              "        text-align: right;\n",
              "    }\n",
              "</style>\n",
              "<table border=\"1\" class=\"dataframe\">\n",
              "  <thead>\n",
              "    <tr style=\"text-align: right;\">\n",
              "      <th></th>\n",
              "      <th>fecha_dato</th>\n",
              "      <th>ncodpers</th>\n",
              "      <th>ind_empleado</th>\n",
              "      <th>pais_residencia</th>\n",
              "      <th>sexo</th>\n",
              "      <th>age</th>\n",
              "      <th>fecha_alta</th>\n",
              "      <th>ind_nuevo</th>\n",
              "      <th>antiguedad</th>\n",
              "      <th>indrel</th>\n",
              "      <th>ult_fec_cli_1t</th>\n",
              "      <th>indrel_1mes</th>\n",
              "      <th>tiprel_1mes</th>\n",
              "      <th>indresi</th>\n",
              "      <th>indext</th>\n",
              "      <th>conyuemp</th>\n",
              "      <th>canal_entrada</th>\n",
              "      <th>indfall</th>\n",
              "      <th>tipodom</th>\n",
              "      <th>cod_prov</th>\n",
              "      <th>nomprov</th>\n",
              "      <th>ind_actividad_cliente</th>\n",
              "      <th>renta</th>\n",
              "      <th>segmento</th>\n",
              "      <th>ind_ahor_fin_ult1</th>\n",
              "      <th>ind_aval_fin_ult1</th>\n",
              "      <th>ind_cco_fin_ult1</th>\n",
              "      <th>ind_cder_fin_ult1</th>\n",
              "      <th>ind_cno_fin_ult1</th>\n",
              "      <th>ind_ctju_fin_ult1</th>\n",
              "      <th>ind_ctma_fin_ult1</th>\n",
              "      <th>ind_ctop_fin_ult1</th>\n",
              "      <th>ind_ctpp_fin_ult1</th>\n",
              "      <th>ind_deco_fin_ult1</th>\n",
              "      <th>ind_deme_fin_ult1</th>\n",
              "      <th>ind_dela_fin_ult1</th>\n",
              "      <th>ind_ecue_fin_ult1</th>\n",
              "      <th>ind_fond_fin_ult1</th>\n",
              "      <th>ind_hip_fin_ult1</th>\n",
              "      <th>ind_plan_fin_ult1</th>\n",
              "      <th>ind_pres_fin_ult1</th>\n",
              "      <th>ind_reca_fin_ult1</th>\n",
              "      <th>ind_tjcr_fin_ult1</th>\n",
              "      <th>ind_valo_fin_ult1</th>\n",
              "      <th>ind_viv_fin_ult1</th>\n",
              "      <th>ind_nomina_ult1</th>\n",
              "      <th>ind_nom_pens_ult1</th>\n",
              "      <th>ind_recibo_ult1</th>\n",
              "    </tr>\n",
              "  </thead>\n",
              "  <tbody>\n",
              "    <tr>\n",
              "      <th>0</th>\n",
              "      <td>2015-01-28</td>\n",
              "      <td>1375586</td>\n",
              "      <td>N</td>\n",
              "      <td>ES</td>\n",
              "      <td>H</td>\n",
              "      <td>35</td>\n",
              "      <td>2015-01-12</td>\n",
              "      <td>0.0</td>\n",
              "      <td>6</td>\n",
              "      <td>1.0</td>\n",
              "      <td>NaT</td>\n",
              "      <td>1</td>\n",
              "      <td>A</td>\n",
              "      <td>S</td>\n",
              "      <td>N</td>\n",
              "      <td>NaN</td>\n",
              "      <td>KHL</td>\n",
              "      <td>N</td>\n",
              "      <td>1.0</td>\n",
              "      <td>29.0</td>\n",
              "      <td>MALAGA</td>\n",
              "      <td>1.0</td>\n",
              "      <td>87218.10</td>\n",
              "      <td>02 - PARTICULARES</td>\n",
              "      <td>0</td>\n",
              "      <td>0</td>\n",
              "      <td>1</td>\n",
              "      <td>0</td>\n",
              "      <td>0</td>\n",
              "      <td>0</td>\n",
              "      <td>0</td>\n",
              "      <td>0</td>\n",
              "      <td>0</td>\n",
              "      <td>0</td>\n",
              "      <td>0</td>\n",
              "      <td>0</td>\n",
              "      <td>0</td>\n",
              "      <td>0</td>\n",
              "      <td>0</td>\n",
              "      <td>0</td>\n",
              "      <td>0</td>\n",
              "      <td>0</td>\n",
              "      <td>0</td>\n",
              "      <td>0</td>\n",
              "      <td>0</td>\n",
              "      <td>0.0</td>\n",
              "      <td>0.0</td>\n",
              "      <td>0</td>\n",
              "    </tr>\n",
              "    <tr>\n",
              "      <th>1</th>\n",
              "      <td>2015-01-28</td>\n",
              "      <td>1050611</td>\n",
              "      <td>N</td>\n",
              "      <td>ES</td>\n",
              "      <td>V</td>\n",
              "      <td>23</td>\n",
              "      <td>2012-08-10</td>\n",
              "      <td>0.0</td>\n",
              "      <td>35</td>\n",
              "      <td>1.0</td>\n",
              "      <td>NaT</td>\n",
              "      <td>1</td>\n",
              "      <td>I</td>\n",
              "      <td>S</td>\n",
              "      <td>S</td>\n",
              "      <td>NaN</td>\n",
              "      <td>KHE</td>\n",
              "      <td>N</td>\n",
              "      <td>1.0</td>\n",
              "      <td>13.0</td>\n",
              "      <td>CIUDAD REAL</td>\n",
              "      <td>0.0</td>\n",
              "      <td>35548.74</td>\n",
              "      <td>03 - UNIVERSITARIO</td>\n",
              "      <td>0</td>\n",
              "      <td>0</td>\n",
              "      <td>1</td>\n",
              "      <td>0</td>\n",
              "      <td>0</td>\n",
              "      <td>0</td>\n",
              "      <td>0</td>\n",
              "      <td>0</td>\n",
              "      <td>0</td>\n",
              "      <td>0</td>\n",
              "      <td>0</td>\n",
              "      <td>0</td>\n",
              "      <td>0</td>\n",
              "      <td>0</td>\n",
              "      <td>0</td>\n",
              "      <td>0</td>\n",
              "      <td>0</td>\n",
              "      <td>0</td>\n",
              "      <td>0</td>\n",
              "      <td>0</td>\n",
              "      <td>0</td>\n",
              "      <td>0.0</td>\n",
              "      <td>0.0</td>\n",
              "      <td>0</td>\n",
              "    </tr>\n",
              "    <tr>\n",
              "      <th>2</th>\n",
              "      <td>2015-01-28</td>\n",
              "      <td>1050612</td>\n",
              "      <td>N</td>\n",
              "      <td>ES</td>\n",
              "      <td>V</td>\n",
              "      <td>23</td>\n",
              "      <td>2012-08-10</td>\n",
              "      <td>0.0</td>\n",
              "      <td>35</td>\n",
              "      <td>1.0</td>\n",
              "      <td>NaT</td>\n",
              "      <td>1</td>\n",
              "      <td>I</td>\n",
              "      <td>S</td>\n",
              "      <td>N</td>\n",
              "      <td>NaN</td>\n",
              "      <td>KHE</td>\n",
              "      <td>N</td>\n",
              "      <td>1.0</td>\n",
              "      <td>13.0</td>\n",
              "      <td>CIUDAD REAL</td>\n",
              "      <td>0.0</td>\n",
              "      <td>122179.11</td>\n",
              "      <td>03 - UNIVERSITARIO</td>\n",
              "      <td>0</td>\n",
              "      <td>0</td>\n",
              "      <td>1</td>\n",
              "      <td>0</td>\n",
              "      <td>0</td>\n",
              "      <td>0</td>\n",
              "      <td>0</td>\n",
              "      <td>0</td>\n",
              "      <td>0</td>\n",
              "      <td>0</td>\n",
              "      <td>0</td>\n",
              "      <td>0</td>\n",
              "      <td>0</td>\n",
              "      <td>0</td>\n",
              "      <td>0</td>\n",
              "      <td>0</td>\n",
              "      <td>0</td>\n",
              "      <td>0</td>\n",
              "      <td>0</td>\n",
              "      <td>0</td>\n",
              "      <td>0</td>\n",
              "      <td>0.0</td>\n",
              "      <td>0.0</td>\n",
              "      <td>0</td>\n",
              "    </tr>\n",
              "    <tr>\n",
              "      <th>3</th>\n",
              "      <td>2015-01-28</td>\n",
              "      <td>1050613</td>\n",
              "      <td>N</td>\n",
              "      <td>ES</td>\n",
              "      <td>H</td>\n",
              "      <td>22</td>\n",
              "      <td>2012-08-10</td>\n",
              "      <td>0.0</td>\n",
              "      <td>35</td>\n",
              "      <td>1.0</td>\n",
              "      <td>NaT</td>\n",
              "      <td>1</td>\n",
              "      <td>I</td>\n",
              "      <td>S</td>\n",
              "      <td>N</td>\n",
              "      <td>NaN</td>\n",
              "      <td>KHD</td>\n",
              "      <td>N</td>\n",
              "      <td>1.0</td>\n",
              "      <td>50.0</td>\n",
              "      <td>ZARAGOZA</td>\n",
              "      <td>0.0</td>\n",
              "      <td>119775.54</td>\n",
              "      <td>03 - UNIVERSITARIO</td>\n",
              "      <td>0</td>\n",
              "      <td>0</td>\n",
              "      <td>0</td>\n",
              "      <td>0</td>\n",
              "      <td>0</td>\n",
              "      <td>0</td>\n",
              "      <td>0</td>\n",
              "      <td>0</td>\n",
              "      <td>0</td>\n",
              "      <td>1</td>\n",
              "      <td>0</td>\n",
              "      <td>0</td>\n",
              "      <td>0</td>\n",
              "      <td>0</td>\n",
              "      <td>0</td>\n",
              "      <td>0</td>\n",
              "      <td>0</td>\n",
              "      <td>0</td>\n",
              "      <td>0</td>\n",
              "      <td>0</td>\n",
              "      <td>0</td>\n",
              "      <td>0.0</td>\n",
              "      <td>0.0</td>\n",
              "      <td>0</td>\n",
              "    </tr>\n",
              "    <tr>\n",
              "      <th>4</th>\n",
              "      <td>2015-01-28</td>\n",
              "      <td>1050614</td>\n",
              "      <td>N</td>\n",
              "      <td>ES</td>\n",
              "      <td>V</td>\n",
              "      <td>23</td>\n",
              "      <td>2012-08-10</td>\n",
              "      <td>0.0</td>\n",
              "      <td>35</td>\n",
              "      <td>1.0</td>\n",
              "      <td>NaT</td>\n",
              "      <td>1</td>\n",
              "      <td>A</td>\n",
              "      <td>S</td>\n",
              "      <td>N</td>\n",
              "      <td>NaN</td>\n",
              "      <td>KHE</td>\n",
              "      <td>N</td>\n",
              "      <td>1.0</td>\n",
              "      <td>50.0</td>\n",
              "      <td>ZARAGOZA</td>\n",
              "      <td>1.0</td>\n",
              "      <td>NaN</td>\n",
              "      <td>03 - UNIVERSITARIO</td>\n",
              "      <td>0</td>\n",
              "      <td>0</td>\n",
              "      <td>1</td>\n",
              "      <td>0</td>\n",
              "      <td>0</td>\n",
              "      <td>0</td>\n",
              "      <td>0</td>\n",
              "      <td>0</td>\n",
              "      <td>0</td>\n",
              "      <td>0</td>\n",
              "      <td>0</td>\n",
              "      <td>0</td>\n",
              "      <td>0</td>\n",
              "      <td>0</td>\n",
              "      <td>0</td>\n",
              "      <td>0</td>\n",
              "      <td>0</td>\n",
              "      <td>0</td>\n",
              "      <td>0</td>\n",
              "      <td>0</td>\n",
              "      <td>0</td>\n",
              "      <td>0.0</td>\n",
              "      <td>0.0</td>\n",
              "      <td>0</td>\n",
              "    </tr>\n",
              "  </tbody>\n",
              "</table>\n",
              "</div>"
            ],
            "text/plain": [
              "  fecha_dato  ncodpers ind_empleado pais_residencia sexo  age fecha_alta  \\\n",
              "0 2015-01-28   1375586            N              ES    H   35 2015-01-12   \n",
              "1 2015-01-28   1050611            N              ES    V   23 2012-08-10   \n",
              "2 2015-01-28   1050612            N              ES    V   23 2012-08-10   \n",
              "3 2015-01-28   1050613            N              ES    H   22 2012-08-10   \n",
              "4 2015-01-28   1050614            N              ES    V   23 2012-08-10   \n",
              "\n",
              "   ind_nuevo antiguedad  indrel ult_fec_cli_1t indrel_1mes tiprel_1mes  \\\n",
              "0        0.0          6     1.0            NaT           1           A   \n",
              "1        0.0         35     1.0            NaT           1           I   \n",
              "2        0.0         35     1.0            NaT           1           I   \n",
              "3        0.0         35     1.0            NaT           1           I   \n",
              "4        0.0         35     1.0            NaT           1           A   \n",
              "\n",
              "  indresi indext conyuemp canal_entrada indfall  tipodom  cod_prov  \\\n",
              "0       S      N      NaN           KHL       N      1.0      29.0   \n",
              "1       S      S      NaN           KHE       N      1.0      13.0   \n",
              "2       S      N      NaN           KHE       N      1.0      13.0   \n",
              "3       S      N      NaN           KHD       N      1.0      50.0   \n",
              "4       S      N      NaN           KHE       N      1.0      50.0   \n",
              "\n",
              "       nomprov  ind_actividad_cliente      renta            segmento  \\\n",
              "0       MALAGA                    1.0   87218.10   02 - PARTICULARES   \n",
              "1  CIUDAD REAL                    0.0   35548.74  03 - UNIVERSITARIO   \n",
              "2  CIUDAD REAL                    0.0  122179.11  03 - UNIVERSITARIO   \n",
              "3     ZARAGOZA                    0.0  119775.54  03 - UNIVERSITARIO   \n",
              "4     ZARAGOZA                    1.0        NaN  03 - UNIVERSITARIO   \n",
              "\n",
              "   ind_ahor_fin_ult1  ind_aval_fin_ult1  ind_cco_fin_ult1  ind_cder_fin_ult1  \\\n",
              "0                  0                  0                 1                  0   \n",
              "1                  0                  0                 1                  0   \n",
              "2                  0                  0                 1                  0   \n",
              "3                  0                  0                 0                  0   \n",
              "4                  0                  0                 1                  0   \n",
              "\n",
              "   ind_cno_fin_ult1  ind_ctju_fin_ult1  ind_ctma_fin_ult1  ind_ctop_fin_ult1  \\\n",
              "0                 0                  0                  0                  0   \n",
              "1                 0                  0                  0                  0   \n",
              "2                 0                  0                  0                  0   \n",
              "3                 0                  0                  0                  0   \n",
              "4                 0                  0                  0                  0   \n",
              "\n",
              "   ind_ctpp_fin_ult1  ind_deco_fin_ult1  ind_deme_fin_ult1  ind_dela_fin_ult1  \\\n",
              "0                  0                  0                  0                  0   \n",
              "1                  0                  0                  0                  0   \n",
              "2                  0                  0                  0                  0   \n",
              "3                  0                  1                  0                  0   \n",
              "4                  0                  0                  0                  0   \n",
              "\n",
              "   ind_ecue_fin_ult1  ind_fond_fin_ult1  ind_hip_fin_ult1  ind_plan_fin_ult1  \\\n",
              "0                  0                  0                 0                  0   \n",
              "1                  0                  0                 0                  0   \n",
              "2                  0                  0                 0                  0   \n",
              "3                  0                  0                 0                  0   \n",
              "4                  0                  0                 0                  0   \n",
              "\n",
              "   ind_pres_fin_ult1  ind_reca_fin_ult1  ind_tjcr_fin_ult1  ind_valo_fin_ult1  \\\n",
              "0                  0                  0                  0                  0   \n",
              "1                  0                  0                  0                  0   \n",
              "2                  0                  0                  0                  0   \n",
              "3                  0                  0                  0                  0   \n",
              "4                  0                  0                  0                  0   \n",
              "\n",
              "   ind_viv_fin_ult1  ind_nomina_ult1  ind_nom_pens_ult1  ind_recibo_ult1  \n",
              "0                 0              0.0                0.0                0  \n",
              "1                 0              0.0                0.0                0  \n",
              "2                 0              0.0                0.0                0  \n",
              "3                 0              0.0                0.0                0  \n",
              "4                 0              0.0                0.0                0  "
            ]
          },
          "metadata": {
            "tags": []
          },
          "execution_count": 56
        }
      ]
    },
    {
      "cell_type": "code",
      "metadata": {
        "id": "pMeYgUQWZ5CQ",
        "colab_type": "code",
        "outputId": "5835ac0e-2225-47f8-e396-73eab831ee48",
        "colab": {
          "base_uri": "https://localhost:8080/",
          "height": 34
        }
      },
      "source": [
        "print(train_df.shape)"
      ],
      "execution_count": 57,
      "outputs": [
        {
          "output_type": "stream",
          "text": [
            "(13647309, 48)\n"
          ],
          "name": "stdout"
        }
      ]
    },
    {
      "cell_type": "code",
      "metadata": {
        "id": "oCsZFs8H02rs",
        "colab_type": "code",
        "colab": {}
      },
      "source": [
        "columns_num = ['age',\n",
        "               'renta',\n",
        "               'antiguedad',\n",
        "               'ncodpers']\n",
        "\n",
        "columns_cat = ['ind_empleado',\n",
        "               'pais_residencia',   \n",
        "               'sexo',\n",
        "               'ind_nuevo',\n",
        "               'indrel',                    \n",
        "               'tiprel_1mes', \n",
        "               'indresi',\n",
        "               'indrel_1mes',\n",
        "               'indext',\n",
        "               'canal_entrada',     #The encoding creates too much columns, not very relevant (the weights are low)\n",
        "               'conyuemp',           #100% of NaN values (see below)\n",
        "               'indfall',\n",
        "               'nomprov',\n",
        "               'segmento',\n",
        "               'tipodom',\n",
        "               'cod_prov',\n",
        "               'ind_actividad_cliente']\n",
        "\n",
        "columns_date =['fecha_dato',\n",
        "               'fecha_alta',\n",
        "               'ult_fec_cli_1t']    #100% of NaN values (see below)"
      ],
      "execution_count": 0,
      "outputs": []
    },
    {
      "cell_type": "markdown",
      "metadata": {
        "id": "wN0G9BST02ru",
        "colab_type": "text"
      },
      "source": [
        "# Descriptive Statistics & Visualization"
      ]
    },
    {
      "cell_type": "code",
      "metadata": {
        "id": "AaSv3imz02rv",
        "colab_type": "code",
        "outputId": "3d09c087-7e82-4f69-9c3e-6076e5070cc0",
        "colab": {
          "base_uri": "https://localhost:8080/",
          "height": 941
        }
      },
      "source": [
        "print(\"age value statistics\", train_df['age'].describe())\n",
        "print(\"\\n \\n \\n renta value statistics \\n\\n\", train_df['renta'].describe())\n",
        "\n",
        "print(\"\\n\\n\\n categorical value statistics \\n\\n\", train_df[columns_cat].describe())\n",
        "print(\"\\n\\n\\n date value statistics \\n\\n\", train_df[columns_date].describe())"
      ],
      "execution_count": 59,
      "outputs": [
        {
          "output_type": "stream",
          "text": [
            "age value statistics count     13647309\n",
            "unique         235\n",
            "top             23\n",
            "freq        542682\n",
            "Name: age, dtype: int64\n",
            "\n",
            " \n",
            " \n",
            " renta value statistics \n",
            "\n",
            " count    1.085293e+07\n",
            "mean     1.342543e+05\n",
            "std      2.306202e+05\n",
            "min      1.202730e+03\n",
            "25%      6.871098e+04\n",
            "50%      1.018500e+05\n",
            "75%      1.559560e+05\n",
            "max      2.889440e+07\n",
            "Name: renta, dtype: float64\n",
            "\n",
            "\n",
            "\n",
            " categorical value statistics \n",
            "\n",
            "           ind_nuevo        indrel     tipodom      cod_prov  \\\n",
            "count  1.361958e+07  1.361958e+07  13619574.0  1.355372e+07   \n",
            "mean   5.956184e-02  1.178399e+00         1.0  2.657147e+01   \n",
            "std    2.366733e-01  4.177469e+00         0.0  1.278402e+01   \n",
            "min    0.000000e+00  1.000000e+00         1.0  1.000000e+00   \n",
            "25%    0.000000e+00  1.000000e+00         1.0  1.500000e+01   \n",
            "50%    0.000000e+00  1.000000e+00         1.0  2.800000e+01   \n",
            "75%    0.000000e+00  1.000000e+00         1.0  3.500000e+01   \n",
            "max    1.000000e+00  9.900000e+01         1.0  5.200000e+01   \n",
            "\n",
            "       ind_actividad_cliente  \n",
            "count           1.361958e+07  \n",
            "mean            4.578105e-01  \n",
            "std             4.982169e-01  \n",
            "min             0.000000e+00  \n",
            "25%             0.000000e+00  \n",
            "50%             0.000000e+00  \n",
            "75%             1.000000e+00  \n",
            "max             1.000000e+00  \n",
            "\n",
            "\n",
            "\n",
            " date value statistics \n",
            "\n",
            "                  fecha_dato           fecha_alta       ult_fec_cli_1t\n",
            "count              13647309             13619575                24793\n",
            "unique                   17                 6756                  223\n",
            "top     2016-05-28 00:00:00  2014-07-28 00:00:00  2015-12-24 00:00:00\n",
            "freq                 931453                57389                  763\n",
            "first   2015-01-28 00:00:00  1995-01-16 00:00:00  2015-07-01 00:00:00\n",
            "last    2016-05-28 00:00:00  2016-05-31 00:00:00  2016-05-30 00:00:00\n"
          ],
          "name": "stdout"
        }
      ]
    },
    {
      "cell_type": "code",
      "metadata": {
        "id": "kLckxpNq02rx",
        "colab_type": "code",
        "colab": {}
      },
      "source": [
        "def plot_dates(datetimes, title):\n",
        "    # Size of figure\n",
        "    plt.figure(figsize=(15,8))\n",
        "\n",
        "    # Plot the values\n",
        "    sns.barplot(\n",
        "        datetimes.index, \n",
        "        datetimes.values,\n",
        "        alpha=0.7,\n",
        "        color=(0, 0, 0.9)\n",
        "    )\n",
        "\n",
        "    # Make labels x: yyyymm format\n",
        "    plt.xlabel('Year and month ', fontsize=16)\n",
        "    plt.ylabel('Number of customers on date', fontsize=16)\n",
        "\n",
        "    # Make xlabel vertical instead of horizontal\n",
        "    plt.xticks(rotation='vertical')\n",
        "    \n",
        "    plt.suptitle(title, fontsize=24)\n",
        "\n",
        "    plt.show()"
      ],
      "execution_count": 0,
      "outputs": []
    },
    {
      "cell_type": "code",
      "metadata": {
        "scrolled": false,
        "id": "XaxHJiN602r1",
        "colab_type": "code",
        "outputId": "b4758c85-f28b-4668-a8b3-faf5cf32aafc",
        "colab": {
          "base_uri": "https://localhost:8080/",
          "height": 588
        }
      },
      "source": [
        "yearmonth = train_df['fecha_dato'].apply(\n",
        "    lambda x: (100*x.year) + x.month\n",
        ").value_counts()\n",
        "\n",
        "plot_dates(yearmonth, 'Training data - customers')"
      ],
      "execution_count": 61,
      "outputs": [
        {
          "output_type": "display_data",
          "data": {
            "image/png": "[encoded data removed]",
            "text/plain": [
              "<Figure size 1080x576 with 1 Axes>"
            ]
          },
          "metadata": {
            "tags": [],
            "needs_background": "light"
          }
        }
      ]
    },
    {
      "cell_type": "markdown",
      "metadata": {
        "id": "_NLy5pKz02r-",
        "colab_type": "text"
      },
      "source": [
        "# Cleaning the dataset"
      ]
    },
    {
      "cell_type": "code",
      "metadata": {
        "scrolled": false,
        "id": "JBCkD3eO02r_",
        "colab_type": "code",
        "outputId": "e4e8487e-b2d8-4e8e-d025-a0bc52bbc40d",
        "colab": {
          "base_uri": "https://localhost:8080/",
          "height": 874
        }
      },
      "source": [
        "print(\"Training NaN values percentages \\n\\n\",(train_df.isna().sum()/train_df.shape[0])*100)"
      ],
      "execution_count": 62,
      "outputs": [
        {
          "output_type": "stream",
          "text": [
            "Training NaN values percentages \n",
            "\n",
            " fecha_dato                0.000000\n",
            "ncodpers                  0.000000\n",
            "ind_empleado              0.203220\n",
            "pais_residencia           0.203220\n",
            "sexo                      0.203732\n",
            "age                       0.000000\n",
            "fecha_alta                0.203220\n",
            "ind_nuevo                 0.203220\n",
            "antiguedad                0.000000\n",
            "indrel                    0.203220\n",
            "ult_fec_cli_1t           99.818330\n",
            "indrel_1mes               1.097513\n",
            "tiprel_1mes               1.097513\n",
            "indresi                   0.203220\n",
            "indext                    0.203220\n",
            "conyuemp                 99.986752\n",
            "canal_entrada             1.363829\n",
            "indfall                   0.203220\n",
            "tipodom                   0.203227\n",
            "cod_prov                  0.685784\n",
            "nomprov                   0.685784\n",
            "ind_actividad_cliente     0.203220\n",
            "renta                    20.475648\n",
            "segmento                  1.387585\n",
            "ind_ahor_fin_ult1         0.000000\n",
            "ind_aval_fin_ult1         0.000000\n",
            "ind_cco_fin_ult1          0.000000\n",
            "ind_cder_fin_ult1         0.000000\n",
            "ind_cno_fin_ult1          0.000000\n",
            "ind_ctju_fin_ult1         0.000000\n",
            "ind_ctma_fin_ult1         0.000000\n",
            "ind_ctop_fin_ult1         0.000000\n",
            "ind_ctpp_fin_ult1         0.000000\n",
            "ind_deco_fin_ult1         0.000000\n",
            "ind_deme_fin_ult1         0.000000\n",
            "ind_dela_fin_ult1         0.000000\n",
            "ind_ecue_fin_ult1         0.000000\n",
            "ind_fond_fin_ult1         0.000000\n",
            "ind_hip_fin_ult1          0.000000\n",
            "ind_plan_fin_ult1         0.000000\n",
            "ind_pres_fin_ult1         0.000000\n",
            "ind_reca_fin_ult1         0.000000\n",
            "ind_tjcr_fin_ult1         0.000000\n",
            "ind_valo_fin_ult1         0.000000\n",
            "ind_viv_fin_ult1          0.000000\n",
            "ind_nomina_ult1           0.117701\n",
            "ind_nom_pens_ult1         0.117701\n",
            "ind_recibo_ult1           0.000000\n",
            "dtype: float64\n"
          ],
          "name": "stdout"
        }
      ]
    },
    {
      "cell_type": "code",
      "metadata": {
        "id": "vbTP3Dx6VrBB",
        "colab_type": "code",
        "colab": {}
      },
      "source": [
        "def nan_value_check(value):\n",
        "    check = str(val).replace(' ', '').lower()\n",
        "    if check == '?' or check == 'na' or check == 'nan':\n",
        "        return True\n",
        "    else:\n",
        "        return False"
      ],
      "execution_count": 0,
      "outputs": []
    },
    {
      "cell_type": "markdown",
      "metadata": {
        "id": "UOKOqSrW02sB",
        "colab_type": "text"
      },
      "source": [
        "## Removing the obvious features\n",
        "\n",
        "We can clearly see that 'ult_fec_cli_1t' and 'conyuemp' should be removed, because they have almost 100% NaN values, which we cannot use for anything."
      ]
    },
    {
      "cell_type": "code",
      "metadata": {
        "id": "NguSG-MH02sB",
        "colab_type": "code",
        "colab": {}
      },
      "source": [
        "# remove columns with too many NaN values\n",
        "drop_features = ['ult_fec_cli_1t', 'conyuemp']\n",
        "#nomprov and cod_prov are the same information, and the encoding creates too many columns\n",
        "drop_features.append('nomprov')\n",
        "drop_features.append('cod_prov')\n",
        "#tipodom has only one value\n",
        "drop_features.append('tipodom')\n",
        "#the encoding of canal_entrada and pais_residencia creates too many columns\n",
        "drop_features.append('canal_entrada')\n",
        "drop_features.append('pais_residencia')"
      ],
      "execution_count": 0,
      "outputs": []
    },
    {
      "cell_type": "code",
      "metadata": {
        "id": "j4fE4jB102sF",
        "colab_type": "code",
        "colab": {}
      },
      "source": [
        "train_df = train_df.drop(drop_features, axis=1)"
      ],
      "execution_count": 0,
      "outputs": []
    },
    {
      "cell_type": "code",
      "metadata": {
        "id": "fjmObaDp02sJ",
        "colab_type": "code",
        "colab": {}
      },
      "source": [
        "columns_date.remove(drop_features[0])\n",
        "columns_cat.remove(drop_features[1])\n",
        "columns_cat.remove(drop_features[2])\n",
        "columns_cat.remove(drop_features[3])\n",
        "columns_cat.remove(drop_features[4])\n",
        "columns_cat.remove(drop_features[5])\n",
        "columns_cat.remove(drop_features[6])"
      ],
      "execution_count": 0,
      "outputs": []
    },
    {
      "cell_type": "markdown",
      "metadata": {
        "id": "68wt3dgR02sM",
        "colab_type": "text"
      },
      "source": [
        "## The feature 'renta'\n",
        "\n",
        "This feature has nan values, but not enough to where we want to drop it. Instead, we choose to prepare it for imputation."
      ]
    },
    {
      "cell_type": "code",
      "metadata": {
        "id": "VXrrVByO02sM",
        "colab_type": "code",
        "colab": {}
      },
      "source": [
        "# make nan values into numpy nan values\n",
        "train_df['renta'] = train_df['renta'].fillna(np.nan)"
      ],
      "execution_count": 0,
      "outputs": []
    },
    {
      "cell_type": "markdown",
      "metadata": {
        "id": "_qcZmrHT02sP",
        "colab_type": "text"
      },
      "source": [
        "We have chosen to impute the values for renta, since the feature could potentially have good predictive power, in terms of which products a customer might want to purchase."
      ]
    },
    {
      "cell_type": "code",
      "metadata": {
        "id": "kQacRoAA02sP",
        "colab_type": "code",
        "outputId": "1914e74a-ba1c-4dc9-b84b-daff28a5c892",
        "colab": {
          "base_uri": "https://localhost:8080/",
          "height": 101
        }
      },
      "source": [
        "print(\"Number of Nan values in column renta before the process:\")\n",
        "print(train_df['renta'].isna().sum())\n",
        "\n",
        "imputer = SimpleImputer(missing_values=np.nan, strategy=\"mean\")\n",
        "train_df['renta'] = imputer.fit_transform(train_df['renta'].values.reshape(-1, 1))\n",
        "\n",
        "print(\"\\nAfter the imputation:\")\n",
        "print(train_df['renta'].isna().sum())"
      ],
      "execution_count": 68,
      "outputs": [
        {
          "output_type": "stream",
          "text": [
            "Number of Nan values in column renta before the process:\n",
            "2794375\n",
            "\n",
            "After the imputation:\n",
            "0\n"
          ],
          "name": "stdout"
        }
      ]
    },
    {
      "cell_type": "markdown",
      "metadata": {
        "id": "A4VGPHTW02sS",
        "colab_type": "text"
      },
      "source": [
        "## The rest of the data\n",
        "\n",
        "We choose to drop the rest of the rows that contains NaN values, since it represents a low percentage."
      ]
    },
    {
      "cell_type": "code",
      "metadata": {
        "id": "H6EdN41sCWDS",
        "colab_type": "code",
        "colab": {}
      },
      "source": [
        "train_df['age'] = train_df['age'].str.strip()\n",
        "train_df['antiguedad'] = train_df['antiguedad'].str.strip()"
      ],
      "execution_count": 0,
      "outputs": []
    },
    {
      "cell_type": "code",
      "metadata": {
        "id": "nCARkbqj02sS",
        "colab_type": "code",
        "colab": {}
      },
      "source": [
        "train_df = train_df.dropna(axis=0, how='any')"
      ],
      "execution_count": 0,
      "outputs": []
    },
    {
      "cell_type": "code",
      "metadata": {
        "id": "Ke0JJLPsCppr",
        "colab_type": "code",
        "colab": {}
      },
      "source": [
        "train_df['age'] = train_df['age'].astype(np.float64)\n",
        "train_df['antiguedad'] = train_df['antiguedad'].astype(np.float64)"
      ],
      "execution_count": 0,
      "outputs": []
    },
    {
      "cell_type": "markdown",
      "metadata": {
        "id": "Rd0N5-heje0B",
        "colab_type": "text"
      },
      "source": [
        "## The feature \"indrel_1mes\"\n",
        "\n",
        "This feature can take only 5 different values, but actually, we can more types because some of the numbers are \"float\" while others are \"string\".\n"
      ]
    },
    {
      "cell_type": "code",
      "metadata": {
        "id": "VYaHmLHYj2hm",
        "colab_type": "code",
        "colab": {}
      },
      "source": [
        "new_vals = []\n",
        "for val in train_df[\"indrel_1mes\"]:\n",
        "  if type(val)=='str':\n",
        "    val = float(val)\n",
        "  new_vals.append(val)\n",
        "train_df[\"indrel_1mes\"] = np.array(new_vals, dtype=float)"
      ],
      "execution_count": 0,
      "outputs": []
    },
    {
      "cell_type": "markdown",
      "metadata": {
        "id": "V54RADq302sW",
        "colab_type": "text"
      },
      "source": [
        "## A quick check on the total number of NaN values"
      ]
    },
    {
      "cell_type": "code",
      "metadata": {
        "id": "5lUnEAKG02sW",
        "colab_type": "code",
        "outputId": "4d5b90ca-3ee0-4ed6-a252-96b31766042d",
        "colab": {
          "base_uri": "https://localhost:8080/",
          "height": 34
        }
      },
      "source": [
        "train_nan_values = 0\n",
        "\n",
        "for name, values in train_df.iteritems():\n",
        "    for val in values:\n",
        "        if nan_value_check(val):\n",
        "            train_nan_values += 1\n",
        "            \n",
        "print(f'There are {train_nan_values} NaN values in training dataset')"
      ],
      "execution_count": 73,
      "outputs": [
        {
          "output_type": "stream",
          "text": [
            "There are 0 NaN values in training dataset\n"
          ],
          "name": "stdout"
        }
      ]
    },
    {
      "cell_type": "markdown",
      "metadata": {
        "id": "LRYzrRxQ02sa",
        "colab_type": "text"
      },
      "source": [
        "# Preparing X and Y values\n",
        "\n",
        "In this section, we want to prepare our inputs and outputs of the model. In particular, we want to include the prior information of which products the customer is already paying for."
      ]
    },
    {
      "cell_type": "code",
      "metadata": {
        "id": "8T-_NbeT02sa",
        "colab_type": "code",
        "colab": {}
      },
      "source": [
        "y_variables = ['ind_ahor_fin_ult1', 'ind_aval_fin_ult1',\n",
        "       'ind_cco_fin_ult1', 'ind_cder_fin_ult1', 'ind_cno_fin_ult1',\n",
        "       'ind_ctju_fin_ult1', 'ind_ctma_fin_ult1', 'ind_ctop_fin_ult1',\n",
        "       'ind_ctpp_fin_ult1', 'ind_deco_fin_ult1', 'ind_deme_fin_ult1',\n",
        "       'ind_dela_fin_ult1', 'ind_ecue_fin_ult1', 'ind_fond_fin_ult1',\n",
        "       'ind_hip_fin_ult1', 'ind_plan_fin_ult1', 'ind_pres_fin_ult1',\n",
        "       'ind_reca_fin_ult1', 'ind_tjcr_fin_ult1', 'ind_valo_fin_ult1',\n",
        "       'ind_viv_fin_ult1', 'ind_nomina_ult1', 'ind_nom_pens_ult1',\n",
        "       'ind_recibo_ult1']"
      ],
      "execution_count": 0,
      "outputs": []
    },
    {
      "cell_type": "code",
      "metadata": {
        "id": "cYM--r0hHXs3",
        "colab_type": "code",
        "colab": {}
      },
      "source": [
        "X_cat = np.concatenate([pd.get_dummies(train_df[x]) for x in columns_cat], axis=1)\n",
        "\n",
        "#We don't need the codpers to make predictions based on the profile\n",
        "X_num = train_df[columns_num[:-1]]\n",
        "\n",
        "X = np.concatenate([X_cat, X_num], axis=1)\n",
        "\n",
        "mat = train_df[y_variables].values\n",
        "Y = mat[:].astype(\"int\")"
      ],
      "execution_count": 0,
      "outputs": []
    },
    {
      "cell_type": "code",
      "metadata": {
        "id": "h8EZkryOj_8a",
        "colab_type": "code",
        "colab": {}
      },
      "source": [
        "# standardize input features\n",
        "X_mean = X.mean(axis=0)\n",
        "X_std = X.std(axis=0)\n",
        "X = (X - X_mean) / X_std"
      ],
      "execution_count": 0,
      "outputs": []
    },
    {
      "cell_type": "code",
      "metadata": {
        "id": "OIgSwJreMsz2",
        "colab_type": "code",
        "colab": {}
      },
      "source": [
        "filter = []\n",
        "for i in range(Y.shape[0]):\n",
        "  filter.append(sum(Y[i]) == 1)\n",
        "\n",
        "X = X[filter]\n",
        "Y = Y[filter]"
      ],
      "execution_count": 0,
      "outputs": []
    },
    {
      "cell_type": "markdown",
      "metadata": {
        "colab_type": "text",
        "id": "EdsMF6a14hPv"
      },
      "source": [
        "#Functions to assess the accuracy of the model"
      ]
    },
    {
      "cell_type": "markdown",
      "metadata": {
        "colab_type": "text",
        "id": "DBbIhsy44hPx"
      },
      "source": [
        "For the general accuracy:"
      ]
    },
    {
      "cell_type": "code",
      "metadata": {
        "colab_type": "code",
        "id": "LMNzCxAn4hPy",
        "colab": {}
      },
      "source": [
        "def accuracy(y_hat, y_test):\n",
        "  return 1.0*np.sum(y_hat == y_test) / len(y_test)"
      ],
      "execution_count": 0,
      "outputs": []
    },
    {
      "cell_type": "markdown",
      "metadata": {
        "colab_type": "text",
        "id": "xdh0kWH14hP4"
      },
      "source": [
        "Then, we check the number of times where a customer has bought a product, and if this product has been predicted by the model"
      ]
    },
    {
      "cell_type": "code",
      "metadata": {
        "colab_type": "code",
        "id": "iddW-uVl4hP5",
        "colab": {}
      },
      "source": [
        "def accuracy_2(y_hat, y_test):\n",
        "  correct = 0\n",
        "  for i in range(len(y_test)):\n",
        "    if y_test[i] == 1:\n",
        "      correct += y_hat[i]\n",
        "\n",
        "  if sum(y_test) > 0:\n",
        "    return 1.0*correct/sum(y_test)\n",
        "  else:\n",
        "    return \"This product has never been bought by the customers, and has been predicted \\\"bought\\\" \" + str(sum(y_hat)) + \" times by the model\""
      ],
      "execution_count": 0,
      "outputs": []
    },
    {
      "cell_type": "markdown",
      "metadata": {
        "colab_type": "text",
        "id": "_5LH77504hP8"
      },
      "source": [
        "Finally, we count the number of times where we have predicted something, and this prediction was correct"
      ]
    },
    {
      "cell_type": "code",
      "metadata": {
        "colab_type": "code",
        "id": "8kpee2kI4hP8",
        "colab": {}
      },
      "source": [
        "def accuracy_model(y_hat, y_test):\n",
        "  correct = 0\n",
        "  for i in range(len(y_hat)):\n",
        "    if y_hat[i] == 1:\n",
        "      correct += y_test[i]\n",
        "      \n",
        "  if sum(y_hat) > 0:\n",
        "    return 1.0*correct/sum(y_hat)\n",
        "  else:\n",
        "    return \"This product has never been predicted as bought by the model, and has been bought \" + str(sum(y_test)) + \" times by the customers\""
      ],
      "execution_count": 0,
      "outputs": []
    },
    {
      "cell_type": "markdown",
      "metadata": {
        "colab_type": "text",
        "id": "Hnz-IKLt4hP-"
      },
      "source": [
        "This function will compute the accuracy of a full line of predictions:"
      ]
    },
    {
      "cell_type": "code",
      "metadata": {
        "colab_type": "code",
        "id": "IuLT7hPz4hP_",
        "colab": {}
      },
      "source": [
        "def accuracy_full_line(y_hat, y_test):\n",
        "  correct = 0\n",
        "  nb_products = len(y_hat[1])\n",
        "  for i in range(len(y_hat)):\n",
        "    test = 0\n",
        "    for j in range(nb_products):\n",
        "      test += (y_hat[i][j] == y_test[i][j])\n",
        "    if test == nb_products:\n",
        "      correct += 1\n",
        "  return correct/len(y_test)"
      ],
      "execution_count": 0,
      "outputs": []
    },
    {
      "cell_type": "markdown",
      "metadata": {
        "colab_type": "text",
        "id": "3uqkD_A04hQD"
      },
      "source": [
        "Thess functions return the accuracy of the predictions by products for each line"
      ]
    },
    {
      "cell_type": "code",
      "metadata": {
        "colab_type": "code",
        "id": "lBDEK9VB4hQE",
        "colab": {}
      },
      "source": [
        "def accuracy_by_product(y_hat, y_test):\n",
        "  E = []\n",
        "  for i in range(len(y_hat[1])):\n",
        "    E.append(accuracy(y_hat[:,i],y_test[:,i]))\n",
        "  return E\n",
        "\n",
        "def accuracy_2_by_product(y_hat, y_test):\n",
        "  E = []\n",
        "  for i in range(len(y_hat[1])):\n",
        "    E.append(accuracy_2(y_hat[:,i],y_test[:,i]))\n",
        "  return E\n",
        "\n",
        "def accuracy_model_by_product(y_hat, y_test):\n",
        "  E = []\n",
        "  for i in range(len(y_hat[1])):\n",
        "    E.append(accuracy_model(y_hat[:,i],y_test[:,i]))\n",
        "  return E"
      ],
      "execution_count": 0,
      "outputs": []
    },
    {
      "cell_type": "markdown",
      "metadata": {
        "id": "XF9U79XbzTt3",
        "colab_type": "text"
      },
      "source": [
        "#Baseline"
      ]
    },
    {
      "cell_type": "markdown",
      "metadata": {
        "id": "rLffu40AyFzE",
        "colab_type": "text"
      },
      "source": [
        "###For only one product: (product number 7)\n",
        "For this first example, we just try to predict for one product, and the prediction is based on the features in \"columns_cat\""
      ]
    },
    {
      "cell_type": "code",
      "metadata": {
        "id": "HeWnUDMKs2xZ",
        "colab_type": "code",
        "outputId": "31abe24c-21cd-4dd1-df73-ce09a25d13c3",
        "colab": {
          "base_uri": "https://localhost:8080/",
          "height": 34
        }
      },
      "source": [
        "Y_one_product = Y[:,2]\n",
        "\n",
        "print(\"number of 1 values :\", (sum(Y_one_product)))"
      ],
      "execution_count": 99,
      "outputs": [
        {
          "output_type": "stream",
          "text": [
            "number of 1 values : 1951346\n"
          ],
          "name": "stdout"
        }
      ]
    },
    {
      "cell_type": "code",
      "metadata": {
        "id": "8X0cVcy8kaYT",
        "colab_type": "code",
        "outputId": "ac524ee2-22d4-4723-9e49-fa4b5a62608f",
        "colab": {
          "base_uri": "https://localhost:8080/",
          "height": 50
        }
      },
      "source": [
        "#Train/test split\n",
        "train_perc = 0.75 # percentage of training data\n",
        "split_point = int(train_perc*len(Y))\n",
        "perm = np.random.permutation(len(Y))\n",
        "ix_train = perm[:split_point]\n",
        "ix_test = perm[split_point:]\n",
        "X_train = X[ix_train,:]\n",
        "X_test = X[ix_test,:]\n",
        "Y_train = Y_one_product[ix_train]\n",
        "Y_test = Y_one_product[ix_test]\n",
        "print(\"num train: %d\" % len(Y_train))\n",
        "print(\"num test: %d\" % len(Y_test))"
      ],
      "execution_count": 100,
      "outputs": [
        {
          "output_type": "stream",
          "text": [
            "num train: 1741176\n",
            "num test: 580392\n"
          ],
          "name": "stdout"
        }
      ]
    },
    {
      "cell_type": "code",
      "metadata": {
        "id": "4pNWFTLtkcB4",
        "colab_type": "code",
        "outputId": "2376db34-7731-4807-8754-7f35cfe4592d",
        "colab": {
          "base_uri": "https://localhost:8080/",
          "height": 101
        }
      },
      "source": [
        "# create and fit logistic regression model\n",
        "logreg = linear_model.LogisticRegression(solver='lbfgs', multi_class='auto', max_iter = 5000)\n",
        "logreg.fit(X_train, Y_train)\n",
        "\n",
        "# make predictions for test set\n",
        "Y_hat = logreg.predict(X_test)\n",
        "print(\"predictions:\", Y_hat)\n",
        "print(\"true values:\", Y_test)\n",
        "\n",
        "# evaluate prediction accuracy\n",
        "print(\"Accuracy:\", accuracy(Y_hat, Y_test))\n",
        "print(\"Accuracy (measure 2):\", accuracy_2(Y_hat, Y_test))\n",
        "print(\"Accuracy (measure 3):\", accuracy_model(Y_hat, Y_test))"
      ],
      "execution_count": 101,
      "outputs": [
        {
          "output_type": "stream",
          "text": [
            "predictions: [1 1 1 ... 1 1 1]\n",
            "true values: [1 0 1 ... 0 1 1]\n",
            "Accuracy: 0.8459058705151001\n",
            "Accuracy (measure 2): 0.9803917951366896\n",
            "Accuracy (measure 3): 0.8569066217572022\n"
          ],
          "name": "stdout"
        }
      ]
    },
    {
      "cell_type": "code",
      "metadata": {
        "id": "4qHXjF9akh0W",
        "colab_type": "code",
        "outputId": "21cf0441-2592-457d-9899-3bdd8f321c12",
        "colab": {
          "base_uri": "https://localhost:8080/",
          "height": 50
        }
      },
      "source": [
        "print(sum(Y_hat))\n",
        "print(sum(Y_test))"
      ],
      "execution_count": 102,
      "outputs": [
        {
          "output_type": "stream",
          "text": [
            "558160\n",
            "487857\n"
          ],
          "name": "stdout"
        }
      ]
    },
    {
      "cell_type": "markdown",
      "metadata": {
        "id": "iLClnM9dyLmx",
        "colab_type": "text"
      },
      "source": [
        "###For all the products:"
      ]
    },
    {
      "cell_type": "code",
      "metadata": {
        "id": "TEDKSpKQyUwo",
        "colab_type": "code",
        "outputId": "07c478a3-1eaa-49e7-f338-d43adba1b710",
        "colab": {
          "base_uri": "https://localhost:8080/",
          "height": 50
        }
      },
      "source": [
        "#Train/test split\n",
        "train_perc = 0.75 # percentage of training data\n",
        "split_point = int(train_perc*len(Y))\n",
        "perm = np.random.permutation(len(Y))\n",
        "ix_train = perm[:split_point]\n",
        "ix_test = perm[split_point:]\n",
        "X_train = X[ix_train,:]\n",
        "X_test = X[ix_test,:]\n",
        "Y_train = Y[ix_train]\n",
        "Y_test = Y[ix_test]\n",
        "print(\"num train: %d\" % len(Y_train))\n",
        "print(\"num test: %d\" % len(Y_test))"
      ],
      "execution_count": 103,
      "outputs": [
        {
          "output_type": "stream",
          "text": [
            "num train: 1741176\n",
            "num test: 580392\n"
          ],
          "name": "stdout"
        }
      ]
    },
    {
      "cell_type": "code",
      "metadata": {
        "id": "gUdLV7C_yiNy",
        "colab_type": "code",
        "outputId": "bec6a2e9-c62c-44bd-d817-1cefb492c33c",
        "colab": {
          "base_uri": "https://localhost:8080/",
          "height": 118
        }
      },
      "source": [
        "from sklearn.tree import DecisionTreeClassifier\n",
        "\n",
        "dtc = DecisionTreeClassifier()\n",
        "dtc.fit(X_train, Y_train)"
      ],
      "execution_count": 104,
      "outputs": [
        {
          "output_type": "execute_result",
          "data": {
            "text/plain": [
              "DecisionTreeClassifier(ccp_alpha=0.0, class_weight=None, criterion='gini',\n",
              "                       max_depth=None, max_features=None, max_leaf_nodes=None,\n",
              "                       min_impurity_decrease=0.0, min_impurity_split=None,\n",
              "                       min_samples_leaf=1, min_samples_split=2,\n",
              "                       min_weight_fraction_leaf=0.0, presort='deprecated',\n",
              "                       random_state=None, splitter='best')"
            ]
          },
          "metadata": {
            "tags": []
          },
          "execution_count": 104
        }
      ]
    },
    {
      "cell_type": "code",
      "metadata": {
        "id": "XmbmBXlfy5mE",
        "colab_type": "code",
        "colab": {}
      },
      "source": [
        "Y_hat = dtc.predict(X_test)"
      ],
      "execution_count": 0,
      "outputs": []
    },
    {
      "cell_type": "code",
      "metadata": {
        "id": "b5Tgs4YIbNFN",
        "colab_type": "code",
        "outputId": "47685e7b-7cb3-4925-cd6c-1d580fbc2074",
        "colab": {
          "base_uri": "https://localhost:8080/",
          "height": 104
        }
      },
      "source": [
        "print(accuracy_full_line(Y_hat, Y_test))\n",
        "print(accuracy_by_product(Y_hat, Y_test))\n",
        "print(accuracy_2_by_product(Y_hat, Y_test))\n",
        "print(accuracy_model_by_product(Y_hat, Y_test))"
      ],
      "execution_count": 106,
      "outputs": [
        {
          "output_type": "stream",
          "text": [
            "0.9799824945898634\n",
            "[1.0, 1.0, 0.985087664888558, 0.9999913851328068, 0.9964299990351349, 0.9997363850638878, 0.9982115535706901, 0.9963369584694483, 0.9990316889274835, 0.9984079725426953, 0.9999793243187363, 0.9988507767164262, 0.9968021612978815, 0.9998466553639609, 0.999908682407752, 0.9998707769921019, 0.9998552702311542, 0.9989886145915174, 0.9995520269059532, 0.9998070269748721, 0.9999155743015066, 1.0, 0.9999879391859295, 0.9981064521909331]\n",
            "[1.0, 'This product has never been bought by the customers, and has been predicted \"bought\" 0 times by the model', 0.9915826054172122, 0.926829268292683, 0.739071303672042, 0.991509518276879, 0.8233788395904437, 0.9652915676129212, 0.955372301722047, 0.4093886462882096, 0.7894736842105263, 0.8893280632411067, 0.8844492440604752, 0.9434832756632064, 0.9572072072072072, 0.9782460910944936, 0.9551122194513716, 0.9097794609044331, 0.9008498583569405, 0.9490881458966566, 0.9397781299524565, 'This product has never been bought by the customers, and has been predicted \"bought\" 0 times by the model', 0.5, 0.35361216730038025]\n",
            "[1.0, 'This product has never been predicted as bought by the model, and has been bought 0 times by the customers', 0.9906914566938806, 0.95, 0.8391793514228988, 0.9947991391678622, 0.8740942028985508, 0.9749992937653607, 0.9759663032705649, 0.4947229551451187, 0.8823529411764706, 0.9318056322473771, 0.9299132947976878, 0.9533799533799534, 0.9259259259259259, 0.9709851551956815, 0.9745547073791349, 0.9573370839193625, 0.9492537313432836, 0.9652241112828439, 0.9817880794701986, 'This product has never been predicted as bought by the model, and has been bought 0 times by the customers', 0.5714285714285714, 0.6512605042016807]\n"
          ],
          "name": "stdout"
        }
      ]
    },
    {
      "cell_type": "markdown",
      "metadata": {
        "id": "0A2YKvO3yioC",
        "colab_type": "text"
      },
      "source": [
        "#And now we will use Pyro. First model: predictions for one product based on the profile of the customers\n",
        "\n",
        "First we use Pyro for one product"
      ]
    },
    {
      "cell_type": "code",
      "metadata": {
        "id": "hz9iT1XZs_GS",
        "colab_type": "code",
        "colab": {}
      },
      "source": [
        "Y_one_product = Y[:,2]"
      ],
      "execution_count": 0,
      "outputs": []
    },
    {
      "cell_type": "code",
      "metadata": {
        "id": "665r8vwguIqy",
        "colab_type": "code",
        "colab": {
          "base_uri": "https://localhost:8080/",
          "height": 50
        },
        "outputId": "d7565c7c-155c-4720-8f67-f92fee234cad"
      },
      "source": [
        "#Train/test split\n",
        "train_perc = 0.75 # percentage of training data\n",
        "split_point = int(train_perc*len(Y))\n",
        "perm = np.random.permutation(len(Y))\n",
        "ix_train = perm[:split_point]\n",
        "ix_test = perm[split_point:]\n",
        "X_train = X[ix_train,:]\n",
        "X_test = X[ix_test,:]\n",
        "Y_train = Y_one_product[ix_train]\n",
        "Y_test = Y_one_product[ix_test]\n",
        "print(\"num train: %d\" % len(Y_train))\n",
        "print(\"num test: %d\" % len(Y_test))"
      ],
      "execution_count": 108,
      "outputs": [
        {
          "output_type": "stream",
          "text": [
            "num train: 1741176\n",
            "num test: 580392\n"
          ],
          "name": "stdout"
        }
      ]
    },
    {
      "cell_type": "code",
      "metadata": {
        "id": "jxhV7xh6kjQm",
        "colab_type": "code",
        "colab": {}
      },
      "source": [
        "def first_model(X, obs=None):\n",
        "    input_dim = X.shape[1]\n",
        "    n_cat = 2\n",
        "\n",
        "    alpha = pyro.sample(\"alpha\", dist.Normal(torch.zeros(1, n_cat), 5.*torch.ones(1, n_cat)))  # Prior for the bias/intercept\n",
        "    beta  = pyro.sample(\"beta\", dist.Normal(torch.zeros(input_dim, n_cat), 5.*torch.ones(input_dim, n_cat))) # Priors for the regression coeffcients\n",
        "    \n",
        "    \n",
        "    with pyro.plate(\"data\"):\n",
        "      y = pyro.sample(\"y\", dist.Categorical(logits=alpha + X.matmul(beta)), obs=obs)\n",
        "        \n",
        "    return y"
      ],
      "execution_count": 0,
      "outputs": []
    },
    {
      "cell_type": "code",
      "metadata": {
        "id": "DwmHM6JDkkwF",
        "colab_type": "code",
        "colab": {}
      },
      "source": [
        "# Prepare data for Pyro\n",
        "X_train = torch.tensor(X_train).float()\n",
        "Y_train = torch.tensor(Y_train).float()"
      ],
      "execution_count": 0,
      "outputs": []
    },
    {
      "cell_type": "code",
      "metadata": {
        "id": "GJJuCPOwkmNf",
        "colab_type": "code",
        "outputId": "083c3dca-3e82-4d62-d2f6-4f9e162fa807",
        "colab": {
          "base_uri": "https://localhost:8080/",
          "height": 134
        }
      },
      "source": [
        "%%time\n",
        "\n",
        "# Define guide function\n",
        "guide = AutoDiagonalNormal(first_model)\n",
        "\n",
        "# Reset parameter values\n",
        "pyro.clear_param_store()\n",
        "\n",
        "# Define the number of optimization steps\n",
        "n_steps = 5000\n",
        "\n",
        "# Setup the optimizer\n",
        "adam_params = {\"lr\": 0.001}\n",
        "optimizer = ClippedAdam(adam_params)\n",
        "\n",
        "# Setup the inference algorithm\n",
        "elbo = Trace_ELBO(num_particles=1)\n",
        "svi = SVI(first_model, guide, optimizer, loss=elbo)\n",
        "\n",
        "# Do gradient steps\n",
        "for step in range(n_steps):\n",
        "    elbo = svi.step(X_train, Y_train)\n",
        "    if step % 500 == 0:\n",
        "        print(\"[%d] ELBO: %.1f\" % (step, elbo))"
      ],
      "execution_count": 111,
      "outputs": [
        {
          "output_type": "stream",
          "text": [
            "/pytorch/torch/csrc/utils/python_arg_parser.cpp:756: UserWarning: This overload of add_ is deprecated:\n",
            "\tadd_(Number alpha, Tensor other)\n",
            "Consider using one of the following signatures instead:\n",
            "\tadd_(Tensor other, *, Number alpha)\n"
          ],
          "name": "stderr"
        },
        {
          "output_type": "stream",
          "text": [
            "[0] ELBO: 4361134.1\n",
            "CPU times: user 4min 3s, sys: 1.62 s, total: 4min 4s\n",
            "Wall time: 1min 54s\n"
          ],
          "name": "stdout"
        }
      ]
    },
    {
      "cell_type": "markdown",
      "metadata": {
        "id": "bBJ1yd9AkpOW",
        "colab_type": "text"
      },
      "source": [
        "Once converged, let's extract the posterior samples for the latent variables in the model using Pyro's Predictive class:"
      ]
    },
    {
      "cell_type": "code",
      "metadata": {
        "id": "eVWI4DrwkrTT",
        "colab_type": "code",
        "colab": {}
      },
      "source": [
        "from pyro.infer import Predictive\n",
        "\n",
        "predictive = Predictive(first_model, guide=guide, num_samples=2000,\n",
        "                        return_sites=(\"beta\", \"alpha\"))\n",
        "samples = predictive(X_train, Y_train)"
      ],
      "execution_count": 0,
      "outputs": []
    },
    {
      "cell_type": "markdown",
      "metadata": {
        "id": "BgzwT2BPks-w",
        "colab_type": "text"
      },
      "source": [
        "Lets plot the posterior distributions of the parameters:"
      ]
    },
    {
      "cell_type": "code",
      "metadata": {
        "id": "E5ehb5a_kyM0",
        "colab_type": "code",
        "outputId": "a7d3f427-6a9c-4525-841c-e4be17f6321f",
        "colab": {
          "base_uri": "https://localhost:8080/",
          "height": 50
        }
      },
      "source": [
        "beta_samples = samples[\"beta\"].detach().numpy()\n",
        "alpha_samples = samples[\"alpha\"].detach().numpy()\n",
        "print(beta_samples.shape)\n",
        "print(alpha_samples.shape)"
      ],
      "execution_count": 113,
      "outputs": [
        {
          "output_type": "stream",
          "text": [
            "(2000, 30, 2)\n",
            "(2000, 1, 2)\n"
          ],
          "name": "stdout"
        }
      ]
    },
    {
      "cell_type": "code",
      "metadata": {
        "id": "8jDw-EInkzk7",
        "colab_type": "code",
        "outputId": "e38c7f67-151c-4871-f38f-c5f85ce373cd",
        "colab": {
          "base_uri": "https://localhost:8080/",
          "height": 265
        }
      },
      "source": [
        "#attempt to plot the beta, not very successful, there are too much beta\n",
        "for c in range(beta_samples.shape[1]):\n",
        "    sns.distplot(beta_samples[:,c])\n",
        "#plt.legend([\"beta[%d]\" % c for c in range(119)])\n",
        "plt.show()"
      ],
      "execution_count": 114,
      "outputs": [
        {
          "output_type": "display_data",
          "data": {
            "image/png": "[encoded data removed]",
            "text/plain": [
              "<Figure size 432x288 with 1 Axes>"
            ]
          },
          "metadata": {
            "tags": [],
            "needs_background": "light"
          }
        }
      ]
    },
    {
      "cell_type": "markdown",
      "metadata": {
        "id": "CS8CK1_Zk6SE",
        "colab_type": "text"
      },
      "source": [
        "We can now use the inferred posteriors to make predictions:"
      ]
    },
    {
      "cell_type": "code",
      "metadata": {
        "id": "Uvq03Bghk36E",
        "colab_type": "code",
        "colab": {}
      },
      "source": [
        "# extract expected values of the parameters\n",
        "alpha_hat = samples[\"alpha\"].mean(axis=0).detach().numpy()\n",
        "beta_hat = samples[\"beta\"].mean(axis=0).detach().numpy()"
      ],
      "execution_count": 0,
      "outputs": []
    },
    {
      "cell_type": "code",
      "metadata": {
        "id": "ahjY5Q-Xk5C7",
        "colab_type": "code",
        "colab": {
          "base_uri": "https://localhost:8080/",
          "height": 67
        },
        "outputId": "30067085-1da4-4b42-c010-aebe9489a227"
      },
      "source": [
        "# make predictions for test set\n",
        "Y_hat = alpha_hat + np.dot(X_test, beta_hat)\n",
        "Y_hat = np.argmax(Y_hat, axis=1)\n",
        "\n",
        "print(accuracy(Y_hat, Y_test))\n",
        "print(accuracy_2(Y_hat, Y_test))\n",
        "print(accuracy_model(Y_hat, Y_test))"
      ],
      "execution_count": 118,
      "outputs": [
        {
          "output_type": "stream",
          "text": [
            "0.7844715295868999\n",
            "0.8677967837754789\n",
            "0.874928486010108\n"
          ],
          "name": "stdout"
        }
      ]
    },
    {
      "cell_type": "markdown",
      "metadata": {
        "id": "5O7nbPI_ns8E",
        "colab_type": "text"
      },
      "source": [
        "#Second model: predictions for all the products based on the profile of the customers"
      ]
    },
    {
      "cell_type": "code",
      "metadata": {
        "id": "2Gkzn-dKorNW",
        "colab_type": "code",
        "outputId": "2953077e-d7ad-4bf5-9d24-71909ab58729",
        "colab": {
          "base_uri": "https://localhost:8080/",
          "height": 50
        }
      },
      "source": [
        "#Train/test split\n",
        "train_perc = 0.75 # percentage of training data\n",
        "split_point = int(train_perc*len(Y))\n",
        "perm = np.random.permutation(len(Y))\n",
        "ix_train = perm[:split_point]\n",
        "ix_test = perm[split_point:]\n",
        "X_train = X[ix_train,:]\n",
        "X_test = X[ix_test,:]\n",
        "Y_train = Y[ix_train]\n",
        "Y_test = Y[ix_test]\n",
        "print(\"num train: %d\" % len(Y_train))\n",
        "print(\"num test: %d\" % len(Y_test))"
      ],
      "execution_count": 121,
      "outputs": [
        {
          "output_type": "stream",
          "text": [
            "num train: 1741176\n",
            "num test: 580392\n"
          ],
          "name": "stdout"
        }
      ]
    },
    {
      "cell_type": "code",
      "metadata": {
        "id": "hpWV2PJI_9J-",
        "colab_type": "code",
        "colab": {}
      },
      "source": [
        "# Prepare data for Pyro\n",
        "X_train = torch.tensor(X_train).float()\n",
        "Y_train = torch.tensor(Y_train).float()\n",
        "\n",
        "#These X_train and Y_train can be used if the computation time is too long with all the data\n",
        "#X_train = torch.tensor(X_train[:2000,:]).float()\n",
        "#Y_train = torch.tensor(Y_train[:2000,:]).float()"
      ],
      "execution_count": 0,
      "outputs": []
    },
    {
      "cell_type": "code",
      "metadata": {
        "id": "604hxdiu4s9l",
        "colab_type": "code",
        "colab": {}
      },
      "source": [
        "def categorical_model(X, obs=None):\n",
        "    input_dim = X.shape[1]\n",
        "    n_cat = obs.shape[1]\n",
        "\n",
        "    alpha = pyro.sample(\"alpha\", dist.Normal(torch.zeros(1, n_cat), 5.*torch.ones(1, n_cat)))\n",
        "    beta  = pyro.sample(\"beta\", dist.Normal(torch.zeros(input_dim, n_cat), 5.*torch.ones(input_dim, n_cat)))\n",
        "\n",
        "    with pyro.plate(\"data\"):     \n",
        "        y = pyro.sample(\"y\", dist.OneHotCategorical(logits=alpha + X.matmul(beta)), obs=obs)\n",
        "        \n",
        "    return y"
      ],
      "execution_count": 0,
      "outputs": []
    },
    {
      "cell_type": "code",
      "metadata": {
        "id": "HiHO0fjn4s9_",
        "colab_type": "code",
        "colab": {
          "base_uri": "https://localhost:8080/",
          "height": 84
        },
        "outputId": "0d65689c-f302-424c-a9ca-dc4fa08f419e"
      },
      "source": [
        "%%time\n",
        "\n",
        "# Define guide function\n",
        "guide = AutoDiagonalNormal(categorical_model)\n",
        "\n",
        "# Reset parameter values\n",
        "pyro.clear_param_store()\n",
        "\n",
        "# Define the number of optimization steps\n",
        "n_steps = 6000\n",
        "\n",
        "# Setup the optimizer\n",
        "adam_params = {\"lr\": 0.005}\n",
        "optimizer = ClippedAdam(adam_params)\n",
        "\n",
        "# Setup the inference algorithm\n",
        "elbo = Trace_ELBO(num_particles=2)\n",
        "svi = SVI(categorical_model, guide, optimizer, loss=elbo)\n",
        "\n",
        "# Do gradient steps\n",
        "for step in range(n_steps):\n",
        "    elbo = svi.step(X_train, Y_train)\n",
        "    if step % 500 == 0:\n",
        "        print(\"[%d] ELBO: %.1f\" % (step, elbo))"
      ],
      "execution_count": 124,
      "outputs": [
        {
          "output_type": "stream",
          "text": [
            "[0] ELBO: 20461602.7\n",
            "[500] ELBO: 1194236.1\n",
            "CPU times: user 44min 17s, sys: 29.3 s, total: 44min 46s\n",
            "Wall time: 26min 54s\n"
          ],
          "name": "stdout"
        }
      ]
    },
    {
      "cell_type": "code",
      "metadata": {
        "id": "jfHBuTzm4s-C",
        "colab_type": "code",
        "colab": {
          "base_uri": "https://localhost:8080/",
          "height": 50
        },
        "outputId": "bb652ac0-25c5-4266-b812-00bf41011a67"
      },
      "source": [
        "from pyro.infer import Predictive\n",
        "\n",
        "predictive = Predictive(categorical_model, guide=guide, num_samples=2000,\n",
        "                        return_sites=(\"beta\", \"alpha\"))\n",
        "\n",
        "samples = predictive(X_train, Y_train)\n",
        "\n",
        "beta_samples = samples[\"beta\"].detach().numpy()\n",
        "alpha_samples = samples[\"alpha\"].detach().numpy()\n",
        "print(beta_samples.shape)\n",
        "print(alpha_samples.shape)\n",
        "\n",
        "# extract expected values of the parameters\n",
        "alpha_hat = samples[\"alpha\"].mean(axis=0).detach().numpy()\n",
        "beta_hat = samples[\"beta\"].mean(axis=0).detach().numpy()"
      ],
      "execution_count": 125,
      "outputs": [
        {
          "output_type": "stream",
          "text": [
            "(2000, 30, 24)\n",
            "(2000, 1, 24)\n"
          ],
          "name": "stdout"
        }
      ]
    },
    {
      "cell_type": "code",
      "metadata": {
        "id": "vYkOnyw54s-F",
        "colab_type": "code",
        "colab": {
          "base_uri": "https://localhost:8080/",
          "height": 134
        },
        "outputId": "40a79e21-200d-460d-f4e5-1524b547535c"
      },
      "source": [
        "# make predictions for test set\n",
        "Y_hat = alpha_hat + np.dot(X_test, beta_hat)\n",
        "\n",
        "#rebuild matrix\n",
        "Y_hat_arg=np.argmax(Y_hat,axis=1)\n",
        "Y_hat_pred=np.zeros((Y_hat.shape[0],Y_hat.shape[1]))\n",
        "for i in range(Y_hat.shape[0]): \n",
        "    Y_hat_pred[i,Y_hat_arg[i]]=1\n",
        "\n",
        "\n",
        "\n",
        "# evaluate prediction accuracy\n",
        "print(\"Accuracy:\",accuracy_full_line(Y_hat_pred, Y_test))\n",
        "print(sum(Y_hat))"
      ],
      "execution_count": 126,
      "outputs": [
        {
          "output_type": "stream",
          "text": [
            "Accuracy: 0.8593261106286786\n",
            "[-1279637.25726637 -2335867.7530968   3467521.31552098 -2834129.04624464\n",
            "   141933.92860032  -593662.25860794  -800274.92410932   238482.59820299\n",
            "  -122203.45711965   265179.80719329 -3689049.42268077  -913959.73133382\n",
            "   355893.7277913  -1975667.36233524   118269.05668018 -1690071.50654702\n",
            " -1064709.6839595   -197723.75317242 -1867085.31164636 -1712744.33076346\n",
            " -1256758.89575898 -2689785.87571767 -2242728.20943523  -277852.68912452]\n"
          ],
          "name": "stdout"
        }
      ]
    },
    {
      "cell_type": "markdown",
      "metadata": {
        "id": "nILrr9CSFTIh",
        "colab_type": "text"
      },
      "source": [
        "#Third model: hierarchical model\n",
        "\n",
        "So now, we complexify a little bit the model. Our assumption that we can use the same parameters beta for all the observations is too strong, because it means that all individuals give the same importance to all the features and have the same biases."
      ]
    },
    {
      "cell_type": "code",
      "metadata": {
        "id": "eHt5cKV5STQc",
        "colab_type": "code",
        "colab": {}
      },
      "source": [
        "from sklearn.datasets import make_blobs\n",
        "from yellowbrick.cluster import KElbowVisualizer\n",
        "\n",
        "# Instantiate the clustering model and visualizer\n",
        "model = KMeans()\n",
        "visualizer = KElbowVisualizer(model, k=(5,20))\n",
        "\n",
        "visualizer.fit(X)        # Fit the data to the visualizer\n",
        "visualizer.show()        # Finalize and render the figure"
      ],
      "execution_count": 0,
      "outputs": []
    },
    {
      "cell_type": "code",
      "metadata": {
        "id": "_zTiaqajBq8x",
        "colab_type": "code",
        "colab": {
          "base_uri": "https://localhost:8080/",
          "height": 67
        },
        "outputId": "f2ee881c-4703-43a4-9230-f51df1f094d9"
      },
      "source": [
        "from sklearn.cluster import KMeans\n",
        "\n",
        "km = KMeans(n_clusters = 5)\n",
        "km.fit(X)"
      ],
      "execution_count": 131,
      "outputs": [
        {
          "output_type": "execute_result",
          "data": {
            "text/plain": [
              "KMeans(algorithm='auto', copy_x=True, init='k-means++', max_iter=300,\n",
              "       n_clusters=5, n_init=10, n_jobs=None, precompute_distances='auto',\n",
              "       random_state=None, tol=0.0001, verbose=0)"
            ]
          },
          "metadata": {
            "tags": []
          },
          "execution_count": 131
        }
      ]
    },
    {
      "cell_type": "code",
      "metadata": {
        "id": "Z3xEcnCkju6S",
        "colab_type": "code",
        "colab": {
          "base_uri": "https://localhost:8080/",
          "height": 34
        },
        "outputId": "a3489af6-6a50-4adc-8d78-abefcf5b5d73"
      },
      "source": [
        "ind = km.labels_\n",
        "print(ind)"
      ],
      "execution_count": 132,
      "outputs": [
        {
          "output_type": "stream",
          "text": [
            "[3 1 0 ... 0 3 3]\n"
          ],
          "name": "stdout"
        }
      ]
    },
    {
      "cell_type": "code",
      "metadata": {
        "id": "fb_C1lGTBvzY",
        "colab_type": "code",
        "colab": {}
      },
      "source": [
        "#Train/test split\n",
        "train_perc = 0.75 # percentage of training data\n",
        "split_point = int(train_perc*len(Y))\n",
        "perm = np.random.permutation(len(Y))\n",
        "ix_train = perm[:split_point]\n",
        "ix_test = perm[split_point:]\n",
        "X_train = X[ix_train,:]\n",
        "X_test = X[ix_test,:]\n",
        "ind_train = ind[ix_train]\n",
        "ind_test = ind[ix_test]\n",
        "Y_train = Y[ix_train]\n",
        "Y_test = Y[ix_test]"
      ],
      "execution_count": 0,
      "outputs": []
    },
    {
      "cell_type": "code",
      "metadata": {
        "id": "J5aE1qZcByoo",
        "colab_type": "code",
        "colab": {}
      },
      "source": [
        "# Prepare data for Pyro\n",
        "X_train = torch.tensor(X_train.float()\n",
        "Y_train = torch.tensor(Y_train).float()\n",
        "ind_train = torch.tensor(ind_train).long()\n",
        "n_ind = max(ind_train) + 1\n",
        "\n",
        "#X_train = torch.tensor(X_train[:2000,:]).float()\n",
        "#Y_train = torch.tensor(Y_train[:2000,:]).float()\n",
        "#ind_train = torch.tensor(ind_train[:2000]).long()\n",
        "#n_ind = max(ind_train) + 1"
      ],
      "execution_count": 0,
      "outputs": []
    },
    {
      "cell_type": "code",
      "metadata": {
        "id": "1_hF37cWF5_z",
        "colab_type": "code",
        "colab": {}
      },
      "source": [
        "def hierarchical_model(X, ind, n_ind, obs=None):\n",
        "    input_dim = X.shape[1]\n",
        "    n_cat = 24\n",
        "\n",
        "    alpha_mu = pyro.sample(\"alpha_mu\", dist.Normal(torch.zeros(n_cat), 10.*torch.ones(n_cat))) # Prior for the bias mean\n",
        "    alpha_sigma = pyro.sample(\"alpha_sigma\",  dist.HalfCauchy(10.*torch.ones(n_cat))) # Prior for the bias standard deviation\n",
        "\n",
        "    beta  = pyro.sample(\"beta\", dist.Normal(torch.zeros(input_dim, n_cat), 10.*torch.ones(input_dim, n_cat))) # Priors for the regression coefficents\n",
        "    \n",
        "    with pyro.plate(\"ind\", n_ind):\n",
        "        alpha = pyro.sample(\"alpha\", dist.Normal(alpha_mu, alpha_sigma).to_event(1)) # Draw the individual parameter for each individual\n",
        "\n",
        "    with pyro.plate(\"data\", X.shape[0]):\n",
        "        logits = alpha[ind] + X.matmul(beta)\n",
        "        y = pyro.sample(\"y\", dist.OneHotCategorical(logits=logits), obs=obs) # If you use logits you don't need to do sigmoid\n",
        "        \n",
        "    return y"
      ],
      "execution_count": 0,
      "outputs": []
    },
    {
      "cell_type": "code",
      "metadata": {
        "id": "a41XNE45F-IG",
        "colab_type": "code",
        "colab": {
          "base_uri": "https://localhost:8080/",
          "height": 218
        },
        "outputId": "12d5df01-6b81-4ddb-b038-92b87c2a6a04"
      },
      "source": [
        "%%time\n",
        "\n",
        "# Define guide function\n",
        "guide = AutoDiagonalNormal(hierarchical_model)\n",
        "\n",
        "# Reset parameter values\n",
        "pyro.clear_param_store()\n",
        "\n",
        "# Define the number of optimization steps\n",
        "n_steps = 5000\n",
        "\n",
        "# Setup the optimizer\n",
        "adam_params = {\"lr\": 0.005}\n",
        "optimizer = ClippedAdam(adam_params)\n",
        "\n",
        "# Setup the inference algorithm\n",
        "elbo = Trace_ELBO(num_particles=2)\n",
        "svi = SVI(hierarchical_model, guide, optimizer, loss=elbo)\n",
        "\n",
        "# Do gradient steps\n",
        "for step in range(n_steps):\n",
        "    elbo = svi.step(X_train, ind_train, n_ind, Y_train)\n",
        "    if step % 500 == 0:\n",
        "        print(\"[%d] ELBO: %.1f\" % (step, elbo))"
      ],
      "execution_count": 323,
      "outputs": [
        {
          "output_type": "stream",
          "text": [
            "[0] ELBO: 92378.1\n",
            "[500] ELBO: 26582.1\n",
            "[1000] ELBO: 10937.9\n",
            "[1500] ELBO: 8639.3\n",
            "[2000] ELBO: 7811.5\n",
            "[2500] ELBO: 8259.1\n",
            "[3000] ELBO: 8832.8\n",
            "[3500] ELBO: 7500.8\n",
            "[4000] ELBO: 7761.7\n",
            "[4500] ELBO: 7352.5\n",
            "CPU times: user 4min 46s, sys: 882 ms, total: 4min 47s\n",
            "Wall time: 1min 36s\n"
          ],
          "name": "stdout"
        }
      ]
    },
    {
      "cell_type": "code",
      "metadata": {
        "id": "AjW0VGmjGVAc",
        "colab_type": "code",
        "colab": {}
      },
      "source": [
        "from pyro.infer import Predictive\n",
        "\n",
        "predictive = Predictive(hierarchical_model, guide=guide, num_samples=2000,\n",
        "                        return_sites=(\"beta\", \"alpha\", \"alpha_mu\", \"alpha_sigma\"))\n",
        "samples = predictive(X_train, ind_train, n_ind, Y_train)"
      ],
      "execution_count": 0,
      "outputs": []
    },
    {
      "cell_type": "code",
      "metadata": {
        "id": "mnrLNV4kGcVP",
        "colab_type": "code",
        "colab": {}
      },
      "source": [
        "# extract expected values of the parameters\n",
        "alpha_hat = samples[\"alpha\"].mean(axis=0).detach().numpy()\n",
        "beta_hat = samples[\"beta\"].mean(axis=0).detach().numpy()"
      ],
      "execution_count": 0,
      "outputs": []
    },
    {
      "cell_type": "code",
      "metadata": {
        "id": "WZ54KiHIGhQF",
        "colab_type": "code",
        "colab": {
          "base_uri": "https://localhost:8080/",
          "height": 34
        },
        "outputId": "03416a6b-e367-4b75-dd1b-7f6606982cd6"
      },
      "source": [
        "# make predictions for test set\n",
        "Y_hat = alpha_hat[ind_test,:] + np.dot(X_test, beta_hat)\n",
        "\n",
        "Y_hat_arg=np.argmax(Y_hat,axis=1)\n",
        "Y_hat_pred=np.zeros((Y_hat.shape[0],Y_hat.shape[1]))\n",
        "for i in range(Y_hat.shape[0]): \n",
        "    Y_hat_pred[i,Y_hat_arg[i]]=1\n",
        "\n",
        "# evaluate prediction accuracy\n",
        "print(\"Accuracy:\",accuracy_full_line(Y_hat_pred, Y_test))"
      ],
      "execution_count": 186,
      "outputs": [
        {
          "output_type": "stream",
          "text": [
            "Accuracy: 0.4078428517696162\n"
          ],
          "name": "stdout"
        }
      ]
    },
    {
      "cell_type": "markdown",
      "metadata": {
        "id": "kldpNOU9J6Wn",
        "colab_type": "text"
      },
      "source": [
        "#Fourth model: add the product trends\n",
        "\n",
        "The dataset contains information about the products previously bought by some customers. We can use this to observ which products are the most popular"
      ]
    },
    {
      "cell_type": "code",
      "metadata": {
        "id": "IbPjCvNNDNee",
        "colab_type": "code",
        "colab": {}
      },
      "source": [
        "products = train_df[y_variables]\n",
        "\n",
        "popular_products_vector = np.zeros(products.shape[1])\n",
        "\n",
        "for i, (name, values) in enumerate(products.iteritems()):\n",
        "    for val in values:\n",
        "      popular_products_vector[i] += val\n",
        "\n",
        "popular_products_vector /= products.shape[0]\n",
        "\n",
        "#normalization\n",
        "popular_products_vector = (popular_products_vector-min(popular_products_vector)) / (max(popular_products_vector)-min(popular_products_vector))"
      ],
      "execution_count": 0,
      "outputs": []
    },
    {
      "cell_type": "code",
      "metadata": {
        "id": "OzK0dY43et0I",
        "colab_type": "code",
        "colab": {}
      },
      "source": [
        "#Train/test split\n",
        "train_perc = 0.75 # percentage of training data\n",
        "split_point = int(train_perc*len(Y))\n",
        "perm = np.random.permutation(len(Y))\n",
        "ix_train = perm[:split_point]\n",
        "ix_test = perm[split_point:]\n",
        "X_train = X[ix_train,:]\n",
        "X_test = X[ix_test,:]\n",
        "ind_train = ind[ix_train]\n",
        "ind_test = ind[ix_test]\n",
        "Y_train = Y[ix_train]\n",
        "Y_test = Y[ix_test]"
      ],
      "execution_count": 0,
      "outputs": []
    },
    {
      "cell_type": "code",
      "metadata": {
        "id": "IszQ9mynewEp",
        "colab_type": "code",
        "colab": {}
      },
      "source": [
        "# Prepare data for Pyro\n",
        "X_train = torch.tensor(X_train).float()\n",
        "Y_train = torch.tensor(Y_train).float()\n",
        "ind_train = torch.tensor(ind_train).long()\n",
        "n_ind = max(ind_train) + 1\n",
        "\n",
        "#X_train = torch.tensor(X_train[:2000,:]).float()\n",
        "#Y_train = torch.tensor(Y_train[:2000,:]).float()\n",
        "#ind_train = torch.tensor(ind_train[:2000]).long()\n",
        "#n_ind = max(ind_train) + 1\n",
        "\n",
        "popular_products_vector = torch.tensor(popular_products_vector).float()"
      ],
      "execution_count": 0,
      "outputs": []
    },
    {
      "cell_type": "code",
      "metadata": {
        "id": "uWHlsLn_e09C",
        "colab_type": "code",
        "colab": {}
      },
      "source": [
        "def final_model(X, ind, n_ind, products, obs=None):\n",
        "    input_dim = X.shape[1]\n",
        "    n_cat = 24\n",
        "    n_products = products.shape[0]\n",
        "\n",
        "    alpha_mu = pyro.sample(\"alpha_mu\", dist.Normal(torch.zeros(n_cat), 10.*torch.ones(n_cat))) # Prior for the bias mean\n",
        "    alpha_sigma = pyro.sample(\"alpha_sigma\",  dist.HalfCauchy(10.*torch.ones(n_cat))) # Prior for the bias standard deviation\n",
        "\n",
        "    beta  = pyro.sample(\"beta\", dist.Normal(torch.zeros(input_dim, n_cat), 10.*torch.ones(input_dim, n_cat))) # Priors for the regression coefficents\n",
        "    beta_products = pyro.sample(\"beta_product\", dist.Normal(torch.zeros(n_products, n_cat), 10.*torch.ones(n_products, n_cat)))\n",
        "\n",
        "    with pyro.plate(\"ind\", n_ind):\n",
        "        alpha = pyro.sample(\"alpha\", dist.Normal(alpha_mu, alpha_sigma).to_event(1)) # Draw the individual parameter for each individual\n",
        "\n",
        "    with pyro.plate(\"data\", X.shape[0]):\n",
        "        logits = alpha[ind] + X.matmul(beta) + products.matmul(beta_products)\n",
        "        y = pyro.sample(\"y\", dist.OneHotCategorical(logits=logits), obs=obs) # If you use logits you don't need to do sigmoid\n",
        "        \n",
        "    return y"
      ],
      "execution_count": 0,
      "outputs": []
    },
    {
      "cell_type": "code",
      "metadata": {
        "id": "4JSoWu05v16m",
        "colab_type": "code",
        "colab": {
          "base_uri": "https://localhost:8080/",
          "height": 84
        },
        "outputId": "a357729a-d742-4b8a-838e-0f3aac19fd8a"
      },
      "source": [
        "%%time\n",
        "# Define guide function\n",
        "guide = AutoDiagonalNormal(final_model)\n",
        "\n",
        "# Reset parameter values\n",
        "pyro.clear_param_store()\n",
        "\n",
        "# Define the number of optimization steps\n",
        "n_steps = 1000\n",
        "\n",
        "# Setup the optimizer\n",
        "adam_params = {\"lr\": 0.005}\n",
        "optimizer = ClippedAdam(adam_params)\n",
        "\n",
        "# Setup the inference algorithm\n",
        "elbo = Trace_ELBO(num_particles=2)\n",
        "svi = SVI(final_model, guide, optimizer, loss=elbo)\n",
        "\n",
        "# Do gradient steps\n",
        "for step in range(n_steps):\n",
        "    elbo = svi.step(X_train, ind_train, n_ind, popular_products_vector, Y_train)\n",
        "    if step % 500 == 0:\n",
        "        print(\"[%d] ELBO: %.1f\" % (step, elbo))"
      ],
      "execution_count": 139,
      "outputs": [
        {
          "output_type": "stream",
          "text": [
            "[0] ELBO: 42002299.1\n",
            "[500] ELBO: 3969755.9\n",
            "CPU times: user 1h 25min 24s, sys: 1min 26s, total: 1h 26min 50s\n",
            "Wall time: 52min 18s\n"
          ],
          "name": "stdout"
        }
      ]
    },
    {
      "cell_type": "code",
      "metadata": {
        "colab_type": "code",
        "id": "u2rVTBFTwEnz",
        "colab": {}
      },
      "source": [
        "from pyro.infer import Predictive\n",
        "\n",
        "predictive = Predictive(final_model, guide=guide, num_samples=2000,\n",
        "                        return_sites=(\"beta\", \"alpha\", \"alpha_mu\", \"alpha_sigma\", \"beta_product\"))\n",
        "samples = predictive(X_train, ind_train, n_ind, popular_products_vector, Y_train)"
      ],
      "execution_count": 0,
      "outputs": []
    },
    {
      "cell_type": "code",
      "metadata": {
        "colab_type": "code",
        "id": "xx1Sek4ZwEn1",
        "colab": {}
      },
      "source": [
        "# extract expected values of the parameters\n",
        "alpha_hat = samples[\"alpha\"].mean(axis=0).detach().numpy()\n",
        "beta_hat = samples[\"beta\"].mean(axis=0).detach().numpy()\n",
        "beta_product_hat = samples[\"beta_product\"].mean(axis=0).detach().numpy()"
      ],
      "execution_count": 0,
      "outputs": []
    },
    {
      "cell_type": "code",
      "metadata": {
        "colab_type": "code",
        "outputId": "85184c93-9572-47e1-d091-d712f7e45bc1",
        "id": "XtcXxtXiwEn4",
        "colab": {
          "base_uri": "https://localhost:8080/",
          "height": 34
        }
      },
      "source": [
        "# make predictions for test set\n",
        "Y_hat = alpha_hat[ind_test,:] + np.dot(X_test, beta_hat) + np.dot(popular_products_vector, beta_product_hat)\n",
        "\n",
        "Y_hat_arg=np.argmax(Y_hat,axis=1)\n",
        "Y_hat_pred=np.zeros((Y_hat.shape[0],Y_hat.shape[1]))\n",
        "for i in range(Y_hat.shape[0]): \n",
        "    Y_hat_pred[i,Y_hat_arg[i]]=1\n",
        "\n",
        "# evaluate prediction accuracy\n",
        "print(\"Accuracy:\",accuracy_full_line(Y_hat_pred, Y_test))"
      ],
      "execution_count": 142,
      "outputs": [
        {
          "output_type": "stream",
          "text": [
            "Accuracy: 0.8593278336021172\n"
          ],
          "name": "stdout"
        }
      ]
    }
  ]
}