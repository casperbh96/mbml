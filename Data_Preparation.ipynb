{
 "cells": [
  {
   "cell_type": "markdown",
   "metadata": {
    "colab_type": "text",
    "id": "view-in-github"
   },
   "source": [
    "<a href=\"https://colab.research.google.com/github/casperbh96/mbml/blob/master/Data_Preparation.ipynb\" target=\"_parent\"><img src=\"https://colab.research.google.com/assets/colab-badge.svg\" alt=\"Open In Colab\"/></a>"
   ]
  },
  {
   "cell_type": "markdown",
   "metadata": {
    "colab_type": "text",
    "id": "b3mke2L002rc"
   },
   "source": [
    "# Importing the packages"
   ]
  },
  {
   "cell_type": "code",
   "execution_count": 99,
   "metadata": {
    "colab": {
     "base_uri": "https://localhost:8080/",
     "height": 134
    },
    "colab_type": "code",
    "id": "4n8C_LBViwNl",
    "outputId": "4817b8da-58fd-470f-aff5-f5953e5b334f"
   },
   "outputs": [
    {
     "name": "stdout",
     "output_type": "stream",
     "text": [
      "Requirement already satisfied: pyro-ppl in /usr/local/lib/python3.6/dist-packages (1.3.1)\n",
      "Requirement already satisfied: torch>=1.4.0 in /usr/local/lib/python3.6/dist-packages (from pyro-ppl) (1.5.0+cu101)\n",
      "Requirement already satisfied: pyro-api>=0.1.1 in /usr/local/lib/python3.6/dist-packages (from pyro-ppl) (0.1.2)\n",
      "Requirement already satisfied: tqdm>=4.36 in /usr/local/lib/python3.6/dist-packages (from pyro-ppl) (4.41.1)\n",
      "Requirement already satisfied: numpy>=1.7 in /usr/local/lib/python3.6/dist-packages (from pyro-ppl) (1.18.4)\n",
      "Requirement already satisfied: opt-einsum>=2.3.2 in /usr/local/lib/python3.6/dist-packages (from pyro-ppl) (3.2.1)\n",
      "Requirement already satisfied: future in /usr/local/lib/python3.6/dist-packages (from torch>=1.4.0->pyro-ppl) (0.16.0)\n"
     ]
    }
   ],
   "source": [
    "# Install Pyro, if necessary\n",
    "!pip install pyro-ppl"
   ]
  },
  {
   "cell_type": "code",
   "execution_count": 0,
   "metadata": {
    "colab": {},
    "colab_type": "code",
    "id": "eFLJgVvW02re"
   },
   "outputs": [],
   "source": [
    "import pandas as pd\n",
    "import matplotlib.pyplot as plt\n",
    "import seaborn as sns\n",
    "import numpy as np\n",
    "from datetime import datetime\n",
    "from sklearn.impute import SimpleImputer\n",
    "from sklearn import linear_model\n",
    "import copy\n",
    "import torch\n",
    "\n",
    "import pyro\n",
    "import pyro.distributions as dist\n",
    "from pyro.contrib.autoguide import AutoDiagonalNormal, AutoMultivariateNormal\n",
    "from pyro.infer import MCMC, NUTS, HMC, SVI, Trace_ELBO\n",
    "from pyro.optim import Adam, ClippedAdam\n",
    "\n",
    "pd.set_option('display.max_columns', 50)\n",
    "%matplotlib inline"
   ]
  },
  {
   "cell_type": "markdown",
   "metadata": {
    "colab_type": "text",
    "id": "mCqtx0jR02rk"
   },
   "source": [
    "# Loading the dataset\n",
    "\n",
    "This is the Santander Product Recommendation dataset from [Kaggle](https://www.kaggle.com/c/santander-product-recommendation/data)."
   ]
  },
  {
   "cell_type": "code",
   "execution_count": 101,
   "metadata": {
    "colab": {
     "base_uri": "https://localhost:8080/",
     "height": 34
    },
    "colab_type": "code",
    "id": "BI_eUa3Q1qiK",
    "outputId": "b5bfaba1-c11a-4c21-aba5-d92bc445e9a7"
   },
   "outputs": [
    {
     "name": "stdout",
     "output_type": "stream",
     "text": [
      "Drive already mounted at /content/gdrive; to attempt to forcibly remount, call drive.mount(\"/content/gdrive\", force_remount=True).\n"
     ]
    }
   ],
   "source": [
    "from google.colab import drive\n",
    "drive.mount('/content/gdrive')"
   ]
  },
  {
   "cell_type": "code",
   "execution_count": 121,
   "metadata": {
    "colab": {
     "base_uri": "https://localhost:8080/",
     "height": 333
    },
    "colab_type": "code",
    "id": "JQjPQIs002rl",
    "outputId": "a58f1a3b-822c-43ea-8982-5842d8dde81f"
   },
   "outputs": [
    {
     "name": "stderr",
     "output_type": "stream",
     "text": [
      "/usr/local/lib/python3.6/dist-packages/IPython/core/interactiveshell.py:2718: DtypeWarning: Columns (15) have mixed types.Specify dtype option on import or set low_memory=False.\n",
      "  interactivity=interactivity, compiler=compiler, result=result)\n"
     ]
    },
    {
     "data": {
      "text/html": [
       "<div>\n",
       "<style scoped>\n",
       "    .dataframe tbody tr th:only-of-type {\n",
       "        vertical-align: middle;\n",
       "    }\n",
       "\n",
       "    .dataframe tbody tr th {\n",
       "        vertical-align: top;\n",
       "    }\n",
       "\n",
       "    .dataframe thead th {\n",
       "        text-align: right;\n",
       "    }\n",
       "</style>\n",
       "<table border=\"1\" class=\"dataframe\">\n",
       "  <thead>\n",
       "    <tr style=\"text-align: right;\">\n",
       "      <th></th>\n",
       "      <th>fecha_dato</th>\n",
       "      <th>ncodpers</th>\n",
       "      <th>ind_empleado</th>\n",
       "      <th>pais_residencia</th>\n",
       "      <th>sexo</th>\n",
       "      <th>age</th>\n",
       "      <th>fecha_alta</th>\n",
       "      <th>ind_nuevo</th>\n",
       "      <th>antiguedad</th>\n",
       "      <th>indrel</th>\n",
       "      <th>ult_fec_cli_1t</th>\n",
       "      <th>indrel_1mes</th>\n",
       "      <th>tiprel_1mes</th>\n",
       "      <th>indresi</th>\n",
       "      <th>indext</th>\n",
       "      <th>conyuemp</th>\n",
       "      <th>canal_entrada</th>\n",
       "      <th>indfall</th>\n",
       "      <th>tipodom</th>\n",
       "      <th>cod_prov</th>\n",
       "      <th>nomprov</th>\n",
       "      <th>ind_actividad_cliente</th>\n",
       "      <th>renta</th>\n",
       "      <th>segmento</th>\n",
       "      <th>ind_ahor_fin_ult1</th>\n",
       "      <th>ind_aval_fin_ult1</th>\n",
       "      <th>ind_cco_fin_ult1</th>\n",
       "      <th>ind_cder_fin_ult1</th>\n",
       "      <th>ind_cno_fin_ult1</th>\n",
       "      <th>ind_ctju_fin_ult1</th>\n",
       "      <th>ind_ctma_fin_ult1</th>\n",
       "      <th>ind_ctop_fin_ult1</th>\n",
       "      <th>ind_ctpp_fin_ult1</th>\n",
       "      <th>ind_deco_fin_ult1</th>\n",
       "      <th>ind_deme_fin_ult1</th>\n",
       "      <th>ind_dela_fin_ult1</th>\n",
       "      <th>ind_ecue_fin_ult1</th>\n",
       "      <th>ind_fond_fin_ult1</th>\n",
       "      <th>ind_hip_fin_ult1</th>\n",
       "      <th>ind_plan_fin_ult1</th>\n",
       "      <th>ind_pres_fin_ult1</th>\n",
       "      <th>ind_reca_fin_ult1</th>\n",
       "      <th>ind_tjcr_fin_ult1</th>\n",
       "      <th>ind_valo_fin_ult1</th>\n",
       "      <th>ind_viv_fin_ult1</th>\n",
       "      <th>ind_nomina_ult1</th>\n",
       "      <th>ind_nom_pens_ult1</th>\n",
       "      <th>ind_recibo_ult1</th>\n",
       "    </tr>\n",
       "  </thead>\n",
       "  <tbody>\n",
       "    <tr>\n",
       "      <th>0</th>\n",
       "      <td>2015-01-28</td>\n",
       "      <td>1375586</td>\n",
       "      <td>N</td>\n",
       "      <td>ES</td>\n",
       "      <td>H</td>\n",
       "      <td>35</td>\n",
       "      <td>2015-01-12</td>\n",
       "      <td>0.0</td>\n",
       "      <td>6</td>\n",
       "      <td>1.0</td>\n",
       "      <td>NaT</td>\n",
       "      <td>1.0</td>\n",
       "      <td>A</td>\n",
       "      <td>S</td>\n",
       "      <td>N</td>\n",
       "      <td>NaN</td>\n",
       "      <td>KHL</td>\n",
       "      <td>N</td>\n",
       "      <td>1.0</td>\n",
       "      <td>29.0</td>\n",
       "      <td>MALAGA</td>\n",
       "      <td>1.0</td>\n",
       "      <td>87218.10</td>\n",
       "      <td>02 - PARTICULARES</td>\n",
       "      <td>0</td>\n",
       "      <td>0</td>\n",
       "      <td>1</td>\n",
       "      <td>0</td>\n",
       "      <td>0</td>\n",
       "      <td>0</td>\n",
       "      <td>0</td>\n",
       "      <td>0</td>\n",
       "      <td>0</td>\n",
       "      <td>0</td>\n",
       "      <td>0</td>\n",
       "      <td>0</td>\n",
       "      <td>0</td>\n",
       "      <td>0</td>\n",
       "      <td>0</td>\n",
       "      <td>0</td>\n",
       "      <td>0</td>\n",
       "      <td>0</td>\n",
       "      <td>0</td>\n",
       "      <td>0</td>\n",
       "      <td>0</td>\n",
       "      <td>0.0</td>\n",
       "      <td>0.0</td>\n",
       "      <td>0</td>\n",
       "    </tr>\n",
       "    <tr>\n",
       "      <th>1</th>\n",
       "      <td>2015-01-28</td>\n",
       "      <td>1050611</td>\n",
       "      <td>N</td>\n",
       "      <td>ES</td>\n",
       "      <td>V</td>\n",
       "      <td>23</td>\n",
       "      <td>2012-08-10</td>\n",
       "      <td>0.0</td>\n",
       "      <td>35</td>\n",
       "      <td>1.0</td>\n",
       "      <td>NaT</td>\n",
       "      <td>1.0</td>\n",
       "      <td>I</td>\n",
       "      <td>S</td>\n",
       "      <td>S</td>\n",
       "      <td>NaN</td>\n",
       "      <td>KHE</td>\n",
       "      <td>N</td>\n",
       "      <td>1.0</td>\n",
       "      <td>13.0</td>\n",
       "      <td>CIUDAD REAL</td>\n",
       "      <td>0.0</td>\n",
       "      <td>35548.74</td>\n",
       "      <td>03 - UNIVERSITARIO</td>\n",
       "      <td>0</td>\n",
       "      <td>0</td>\n",
       "      <td>1</td>\n",
       "      <td>0</td>\n",
       "      <td>0</td>\n",
       "      <td>0</td>\n",
       "      <td>0</td>\n",
       "      <td>0</td>\n",
       "      <td>0</td>\n",
       "      <td>0</td>\n",
       "      <td>0</td>\n",
       "      <td>0</td>\n",
       "      <td>0</td>\n",
       "      <td>0</td>\n",
       "      <td>0</td>\n",
       "      <td>0</td>\n",
       "      <td>0</td>\n",
       "      <td>0</td>\n",
       "      <td>0</td>\n",
       "      <td>0</td>\n",
       "      <td>0</td>\n",
       "      <td>0.0</td>\n",
       "      <td>0.0</td>\n",
       "      <td>0</td>\n",
       "    </tr>\n",
       "    <tr>\n",
       "      <th>2</th>\n",
       "      <td>2015-01-28</td>\n",
       "      <td>1050612</td>\n",
       "      <td>N</td>\n",
       "      <td>ES</td>\n",
       "      <td>V</td>\n",
       "      <td>23</td>\n",
       "      <td>2012-08-10</td>\n",
       "      <td>0.0</td>\n",
       "      <td>35</td>\n",
       "      <td>1.0</td>\n",
       "      <td>NaT</td>\n",
       "      <td>1.0</td>\n",
       "      <td>I</td>\n",
       "      <td>S</td>\n",
       "      <td>N</td>\n",
       "      <td>NaN</td>\n",
       "      <td>KHE</td>\n",
       "      <td>N</td>\n",
       "      <td>1.0</td>\n",
       "      <td>13.0</td>\n",
       "      <td>CIUDAD REAL</td>\n",
       "      <td>0.0</td>\n",
       "      <td>122179.11</td>\n",
       "      <td>03 - UNIVERSITARIO</td>\n",
       "      <td>0</td>\n",
       "      <td>0</td>\n",
       "      <td>1</td>\n",
       "      <td>0</td>\n",
       "      <td>0</td>\n",
       "      <td>0</td>\n",
       "      <td>0</td>\n",
       "      <td>0</td>\n",
       "      <td>0</td>\n",
       "      <td>0</td>\n",
       "      <td>0</td>\n",
       "      <td>0</td>\n",
       "      <td>0</td>\n",
       "      <td>0</td>\n",
       "      <td>0</td>\n",
       "      <td>0</td>\n",
       "      <td>0</td>\n",
       "      <td>0</td>\n",
       "      <td>0</td>\n",
       "      <td>0</td>\n",
       "      <td>0</td>\n",
       "      <td>0.0</td>\n",
       "      <td>0.0</td>\n",
       "      <td>0</td>\n",
       "    </tr>\n",
       "    <tr>\n",
       "      <th>3</th>\n",
       "      <td>2015-01-28</td>\n",
       "      <td>1050613</td>\n",
       "      <td>N</td>\n",
       "      <td>ES</td>\n",
       "      <td>H</td>\n",
       "      <td>22</td>\n",
       "      <td>2012-08-10</td>\n",
       "      <td>0.0</td>\n",
       "      <td>35</td>\n",
       "      <td>1.0</td>\n",
       "      <td>NaT</td>\n",
       "      <td>1.0</td>\n",
       "      <td>I</td>\n",
       "      <td>S</td>\n",
       "      <td>N</td>\n",
       "      <td>NaN</td>\n",
       "      <td>KHD</td>\n",
       "      <td>N</td>\n",
       "      <td>1.0</td>\n",
       "      <td>50.0</td>\n",
       "      <td>ZARAGOZA</td>\n",
       "      <td>0.0</td>\n",
       "      <td>119775.54</td>\n",
       "      <td>03 - UNIVERSITARIO</td>\n",
       "      <td>0</td>\n",
       "      <td>0</td>\n",
       "      <td>0</td>\n",
       "      <td>0</td>\n",
       "      <td>0</td>\n",
       "      <td>0</td>\n",
       "      <td>0</td>\n",
       "      <td>0</td>\n",
       "      <td>0</td>\n",
       "      <td>1</td>\n",
       "      <td>0</td>\n",
       "      <td>0</td>\n",
       "      <td>0</td>\n",
       "      <td>0</td>\n",
       "      <td>0</td>\n",
       "      <td>0</td>\n",
       "      <td>0</td>\n",
       "      <td>0</td>\n",
       "      <td>0</td>\n",
       "      <td>0</td>\n",
       "      <td>0</td>\n",
       "      <td>0.0</td>\n",
       "      <td>0.0</td>\n",
       "      <td>0</td>\n",
       "    </tr>\n",
       "    <tr>\n",
       "      <th>4</th>\n",
       "      <td>2015-01-28</td>\n",
       "      <td>1050614</td>\n",
       "      <td>N</td>\n",
       "      <td>ES</td>\n",
       "      <td>V</td>\n",
       "      <td>23</td>\n",
       "      <td>2012-08-10</td>\n",
       "      <td>0.0</td>\n",
       "      <td>35</td>\n",
       "      <td>1.0</td>\n",
       "      <td>NaT</td>\n",
       "      <td>1.0</td>\n",
       "      <td>A</td>\n",
       "      <td>S</td>\n",
       "      <td>N</td>\n",
       "      <td>NaN</td>\n",
       "      <td>KHE</td>\n",
       "      <td>N</td>\n",
       "      <td>1.0</td>\n",
       "      <td>50.0</td>\n",
       "      <td>ZARAGOZA</td>\n",
       "      <td>1.0</td>\n",
       "      <td>NaN</td>\n",
       "      <td>03 - UNIVERSITARIO</td>\n",
       "      <td>0</td>\n",
       "      <td>0</td>\n",
       "      <td>1</td>\n",
       "      <td>0</td>\n",
       "      <td>0</td>\n",
       "      <td>0</td>\n",
       "      <td>0</td>\n",
       "      <td>0</td>\n",
       "      <td>0</td>\n",
       "      <td>0</td>\n",
       "      <td>0</td>\n",
       "      <td>0</td>\n",
       "      <td>0</td>\n",
       "      <td>0</td>\n",
       "      <td>0</td>\n",
       "      <td>0</td>\n",
       "      <td>0</td>\n",
       "      <td>0</td>\n",
       "      <td>0</td>\n",
       "      <td>0</td>\n",
       "      <td>0</td>\n",
       "      <td>0.0</td>\n",
       "      <td>0.0</td>\n",
       "      <td>0</td>\n",
       "    </tr>\n",
       "  </tbody>\n",
       "</table>\n",
       "</div>"
      ],
      "text/plain": [
       "  fecha_dato  ncodpers ind_empleado pais_residencia sexo  age fecha_alta  \\\n",
       "0 2015-01-28   1375586            N              ES    H   35 2015-01-12   \n",
       "1 2015-01-28   1050611            N              ES    V   23 2012-08-10   \n",
       "2 2015-01-28   1050612            N              ES    V   23 2012-08-10   \n",
       "3 2015-01-28   1050613            N              ES    H   22 2012-08-10   \n",
       "4 2015-01-28   1050614            N              ES    V   23 2012-08-10   \n",
       "\n",
       "   ind_nuevo antiguedad  indrel ult_fec_cli_1t  indrel_1mes tiprel_1mes  \\\n",
       "0        0.0          6     1.0            NaT          1.0           A   \n",
       "1        0.0         35     1.0            NaT          1.0           I   \n",
       "2        0.0         35     1.0            NaT          1.0           I   \n",
       "3        0.0         35     1.0            NaT          1.0           I   \n",
       "4        0.0         35     1.0            NaT          1.0           A   \n",
       "\n",
       "  indresi indext conyuemp canal_entrada indfall  tipodom  cod_prov  \\\n",
       "0       S      N      NaN           KHL       N      1.0      29.0   \n",
       "1       S      S      NaN           KHE       N      1.0      13.0   \n",
       "2       S      N      NaN           KHE       N      1.0      13.0   \n",
       "3       S      N      NaN           KHD       N      1.0      50.0   \n",
       "4       S      N      NaN           KHE       N      1.0      50.0   \n",
       "\n",
       "       nomprov  ind_actividad_cliente      renta            segmento  \\\n",
       "0       MALAGA                    1.0   87218.10   02 - PARTICULARES   \n",
       "1  CIUDAD REAL                    0.0   35548.74  03 - UNIVERSITARIO   \n",
       "2  CIUDAD REAL                    0.0  122179.11  03 - UNIVERSITARIO   \n",
       "3     ZARAGOZA                    0.0  119775.54  03 - UNIVERSITARIO   \n",
       "4     ZARAGOZA                    1.0        NaN  03 - UNIVERSITARIO   \n",
       "\n",
       "   ind_ahor_fin_ult1  ind_aval_fin_ult1  ind_cco_fin_ult1  ind_cder_fin_ult1  \\\n",
       "0                  0                  0                 1                  0   \n",
       "1                  0                  0                 1                  0   \n",
       "2                  0                  0                 1                  0   \n",
       "3                  0                  0                 0                  0   \n",
       "4                  0                  0                 1                  0   \n",
       "\n",
       "   ind_cno_fin_ult1  ind_ctju_fin_ult1  ind_ctma_fin_ult1  ind_ctop_fin_ult1  \\\n",
       "0                 0                  0                  0                  0   \n",
       "1                 0                  0                  0                  0   \n",
       "2                 0                  0                  0                  0   \n",
       "3                 0                  0                  0                  0   \n",
       "4                 0                  0                  0                  0   \n",
       "\n",
       "   ind_ctpp_fin_ult1  ind_deco_fin_ult1  ind_deme_fin_ult1  ind_dela_fin_ult1  \\\n",
       "0                  0                  0                  0                  0   \n",
       "1                  0                  0                  0                  0   \n",
       "2                  0                  0                  0                  0   \n",
       "3                  0                  1                  0                  0   \n",
       "4                  0                  0                  0                  0   \n",
       "\n",
       "   ind_ecue_fin_ult1  ind_fond_fin_ult1  ind_hip_fin_ult1  ind_plan_fin_ult1  \\\n",
       "0                  0                  0                 0                  0   \n",
       "1                  0                  0                 0                  0   \n",
       "2                  0                  0                 0                  0   \n",
       "3                  0                  0                 0                  0   \n",
       "4                  0                  0                 0                  0   \n",
       "\n",
       "   ind_pres_fin_ult1  ind_reca_fin_ult1  ind_tjcr_fin_ult1  ind_valo_fin_ult1  \\\n",
       "0                  0                  0                  0                  0   \n",
       "1                  0                  0                  0                  0   \n",
       "2                  0                  0                  0                  0   \n",
       "3                  0                  0                  0                  0   \n",
       "4                  0                  0                  0                  0   \n",
       "\n",
       "   ind_viv_fin_ult1  ind_nomina_ult1  ind_nom_pens_ult1  ind_recibo_ult1  \n",
       "0                 0              0.0                0.0                0  \n",
       "1                 0              0.0                0.0                0  \n",
       "2                 0              0.0                0.0                0  \n",
       "3                 0              0.0                0.0                0  \n",
       "4                 0              0.0                0.0                0  "
      ]
     },
     "execution_count": 121,
     "metadata": {
      "tags": []
     },
     "output_type": "execute_result"
    }
   ],
   "source": [
    "#train_path = 'data/train_ver2.csv'\n",
    "#train_path = '/content/gdrive/My Drive/MSc: AI/2. semester/MBML/train_ver2.csv'\n",
    "train_path = '/content/gdrive/My Drive/DTU/Model-based machined learning/project/data/train_ver2.csv'\n",
    "\n",
    "train_df = pd.read_csv(train_path, parse_dates=['fecha_dato', 'fecha_alta', 'ult_fec_cli_1t'],\n",
    "                 nrows=1000000, sep=\",\",na_values = ['?', 'NA'])\n",
    "\n",
    "train_df.head(5)"
   ]
  },
  {
   "cell_type": "code",
   "execution_count": 122,
   "metadata": {
    "colab": {
     "base_uri": "https://localhost:8080/",
     "height": 316
    },
    "colab_type": "code",
    "id": "0VLoKLls02rp",
    "outputId": "a84cd5cd-cb51-473e-885e-020eb8f519e1"
   },
   "outputs": [
    {
     "name": "stderr",
     "output_type": "stream",
     "text": [
      "/usr/local/lib/python3.6/dist-packages/IPython/core/interactiveshell.py:2718: DtypeWarning: Columns (15) have mixed types.Specify dtype option on import or set low_memory=False.\n",
      "  interactivity=interactivity, compiler=compiler, result=result)\n"
     ]
    },
    {
     "data": {
      "text/html": [
       "<div>\n",
       "<style scoped>\n",
       "    .dataframe tbody tr th:only-of-type {\n",
       "        vertical-align: middle;\n",
       "    }\n",
       "\n",
       "    .dataframe tbody tr th {\n",
       "        vertical-align: top;\n",
       "    }\n",
       "\n",
       "    .dataframe thead th {\n",
       "        text-align: right;\n",
       "    }\n",
       "</style>\n",
       "<table border=\"1\" class=\"dataframe\">\n",
       "  <thead>\n",
       "    <tr style=\"text-align: right;\">\n",
       "      <th></th>\n",
       "      <th>fecha_dato</th>\n",
       "      <th>ncodpers</th>\n",
       "      <th>ind_empleado</th>\n",
       "      <th>pais_residencia</th>\n",
       "      <th>sexo</th>\n",
       "      <th>age</th>\n",
       "      <th>fecha_alta</th>\n",
       "      <th>ind_nuevo</th>\n",
       "      <th>antiguedad</th>\n",
       "      <th>indrel</th>\n",
       "      <th>ult_fec_cli_1t</th>\n",
       "      <th>indrel_1mes</th>\n",
       "      <th>tiprel_1mes</th>\n",
       "      <th>indresi</th>\n",
       "      <th>indext</th>\n",
       "      <th>conyuemp</th>\n",
       "      <th>canal_entrada</th>\n",
       "      <th>indfall</th>\n",
       "      <th>tipodom</th>\n",
       "      <th>cod_prov</th>\n",
       "      <th>nomprov</th>\n",
       "      <th>ind_actividad_cliente</th>\n",
       "      <th>renta</th>\n",
       "      <th>segmento</th>\n",
       "    </tr>\n",
       "  </thead>\n",
       "  <tbody>\n",
       "    <tr>\n",
       "      <th>0</th>\n",
       "      <td>2016-06-28</td>\n",
       "      <td>15889</td>\n",
       "      <td>F</td>\n",
       "      <td>ES</td>\n",
       "      <td>V</td>\n",
       "      <td>56</td>\n",
       "      <td>1995-01-16</td>\n",
       "      <td>0</td>\n",
       "      <td>256</td>\n",
       "      <td>1</td>\n",
       "      <td>NaT</td>\n",
       "      <td>1.0</td>\n",
       "      <td>A</td>\n",
       "      <td>S</td>\n",
       "      <td>N</td>\n",
       "      <td>N</td>\n",
       "      <td>KAT</td>\n",
       "      <td>N</td>\n",
       "      <td>1</td>\n",
       "      <td>28.0</td>\n",
       "      <td>MADRID</td>\n",
       "      <td>1</td>\n",
       "      <td>326124.90</td>\n",
       "      <td>01 - TOP</td>\n",
       "    </tr>\n",
       "    <tr>\n",
       "      <th>1</th>\n",
       "      <td>2016-06-28</td>\n",
       "      <td>1170544</td>\n",
       "      <td>N</td>\n",
       "      <td>ES</td>\n",
       "      <td>H</td>\n",
       "      <td>36</td>\n",
       "      <td>2013-08-28</td>\n",
       "      <td>0</td>\n",
       "      <td>34</td>\n",
       "      <td>1</td>\n",
       "      <td>NaT</td>\n",
       "      <td>1.0</td>\n",
       "      <td>I</td>\n",
       "      <td>S</td>\n",
       "      <td>N</td>\n",
       "      <td>NaN</td>\n",
       "      <td>KAT</td>\n",
       "      <td>N</td>\n",
       "      <td>1</td>\n",
       "      <td>3.0</td>\n",
       "      <td>ALICANTE</td>\n",
       "      <td>0</td>\n",
       "      <td>NA</td>\n",
       "      <td>02 - PARTICULARES</td>\n",
       "    </tr>\n",
       "    <tr>\n",
       "      <th>2</th>\n",
       "      <td>2016-06-28</td>\n",
       "      <td>1170545</td>\n",
       "      <td>N</td>\n",
       "      <td>ES</td>\n",
       "      <td>V</td>\n",
       "      <td>22</td>\n",
       "      <td>2013-08-28</td>\n",
       "      <td>0</td>\n",
       "      <td>34</td>\n",
       "      <td>1</td>\n",
       "      <td>NaT</td>\n",
       "      <td>1.0</td>\n",
       "      <td>A</td>\n",
       "      <td>S</td>\n",
       "      <td>N</td>\n",
       "      <td>NaN</td>\n",
       "      <td>KHE</td>\n",
       "      <td>N</td>\n",
       "      <td>1</td>\n",
       "      <td>15.0</td>\n",
       "      <td>CORUÑA, A</td>\n",
       "      <td>1</td>\n",
       "      <td>NA</td>\n",
       "      <td>03 - UNIVERSITARIO</td>\n",
       "    </tr>\n",
       "    <tr>\n",
       "      <th>3</th>\n",
       "      <td>2016-06-28</td>\n",
       "      <td>1170547</td>\n",
       "      <td>N</td>\n",
       "      <td>ES</td>\n",
       "      <td>H</td>\n",
       "      <td>22</td>\n",
       "      <td>2013-08-28</td>\n",
       "      <td>0</td>\n",
       "      <td>34</td>\n",
       "      <td>1</td>\n",
       "      <td>NaT</td>\n",
       "      <td>1.0</td>\n",
       "      <td>I</td>\n",
       "      <td>S</td>\n",
       "      <td>N</td>\n",
       "      <td>NaN</td>\n",
       "      <td>KHE</td>\n",
       "      <td>N</td>\n",
       "      <td>1</td>\n",
       "      <td>8.0</td>\n",
       "      <td>BARCELONA</td>\n",
       "      <td>0</td>\n",
       "      <td>148402.98</td>\n",
       "      <td>03 - UNIVERSITARIO</td>\n",
       "    </tr>\n",
       "    <tr>\n",
       "      <th>4</th>\n",
       "      <td>2016-06-28</td>\n",
       "      <td>1170548</td>\n",
       "      <td>N</td>\n",
       "      <td>ES</td>\n",
       "      <td>H</td>\n",
       "      <td>22</td>\n",
       "      <td>2013-08-28</td>\n",
       "      <td>0</td>\n",
       "      <td>34</td>\n",
       "      <td>1</td>\n",
       "      <td>NaT</td>\n",
       "      <td>1.0</td>\n",
       "      <td>I</td>\n",
       "      <td>S</td>\n",
       "      <td>N</td>\n",
       "      <td>NaN</td>\n",
       "      <td>KHE</td>\n",
       "      <td>N</td>\n",
       "      <td>1</td>\n",
       "      <td>7.0</td>\n",
       "      <td>BALEARS, ILLES</td>\n",
       "      <td>0</td>\n",
       "      <td>106885.80</td>\n",
       "      <td>03 - UNIVERSITARIO</td>\n",
       "    </tr>\n",
       "  </tbody>\n",
       "</table>\n",
       "</div>"
      ],
      "text/plain": [
       "  fecha_dato  ncodpers ind_empleado pais_residencia sexo  age fecha_alta  \\\n",
       "0 2016-06-28     15889            F              ES    V   56 1995-01-16   \n",
       "1 2016-06-28   1170544            N              ES    H   36 2013-08-28   \n",
       "2 2016-06-28   1170545            N              ES    V   22 2013-08-28   \n",
       "3 2016-06-28   1170547            N              ES    H   22 2013-08-28   \n",
       "4 2016-06-28   1170548            N              ES    H   22 2013-08-28   \n",
       "\n",
       "   ind_nuevo  antiguedad  indrel ult_fec_cli_1t  indrel_1mes tiprel_1mes  \\\n",
       "0          0         256       1            NaT          1.0           A   \n",
       "1          0          34       1            NaT          1.0           I   \n",
       "2          0          34       1            NaT          1.0           A   \n",
       "3          0          34       1            NaT          1.0           I   \n",
       "4          0          34       1            NaT          1.0           I   \n",
       "\n",
       "  indresi indext conyuemp canal_entrada indfall  tipodom  cod_prov  \\\n",
       "0       S      N        N           KAT       N        1      28.0   \n",
       "1       S      N      NaN           KAT       N        1       3.0   \n",
       "2       S      N      NaN           KHE       N        1      15.0   \n",
       "3       S      N      NaN           KHE       N        1       8.0   \n",
       "4       S      N      NaN           KHE       N        1       7.0   \n",
       "\n",
       "          nomprov  ind_actividad_cliente        renta            segmento  \n",
       "0          MADRID                      1    326124.90            01 - TOP  \n",
       "1        ALICANTE                      0           NA   02 - PARTICULARES  \n",
       "2       CORUÑA, A                      1           NA  03 - UNIVERSITARIO  \n",
       "3       BARCELONA                      0    148402.98  03 - UNIVERSITARIO  \n",
       "4  BALEARS, ILLES                      0    106885.80  03 - UNIVERSITARIO  "
      ]
     },
     "execution_count": 122,
     "metadata": {
      "tags": []
     },
     "output_type": "execute_result"
    }
   ],
   "source": [
    "#test_path = 'data/test_ver2.csv'\n",
    "#test_path = '/content/gdrive/My Drive/MSc: AI/2. semester/MBML/test_ver2.csv'\n",
    "test_path = '/content/gdrive/My Drive/DTU/Model-based machined learning/project/data/test_ver2.csv'\n",
    "\n",
    "test_df = pd.read_csv(test_path, parse_dates=['fecha_dato', 'fecha_alta', 'ult_fec_cli_1t'],\n",
    "                      sep=\",\",na_values = ['?', 'NA'])\n",
    "\n",
    "test_df.head(5)"
   ]
  },
  {
   "cell_type": "code",
   "execution_count": 123,
   "metadata": {
    "colab": {
     "base_uri": "https://localhost:8080/",
     "height": 50
    },
    "colab_type": "code",
    "id": "pMeYgUQWZ5CQ",
    "outputId": "c5da5a73-48ef-47d6-d712-4c4d7ee73202"
   },
   "outputs": [
    {
     "name": "stdout",
     "output_type": "stream",
     "text": [
      "(1000000, 48)\n",
      "(929615, 24)\n"
     ]
    }
   ],
   "source": [
    "print(train_df.shape)\n",
    "print(test_df.shape)"
   ]
  },
  {
   "cell_type": "code",
   "execution_count": 0,
   "metadata": {
    "colab": {},
    "colab_type": "code",
    "id": "oCsZFs8H02rs"
   },
   "outputs": [],
   "source": [
    "columns_num = ['age',\n",
    "               'renta',\n",
    "               'antiguedad',\n",
    "               'ncodpers']\n",
    "\n",
    "columns_cat = ['ind_empleado',\n",
    "               'pais_residencia',   \n",
    "               'sexo',\n",
    "               'ind_nuevo',\n",
    "               'indrel',                    \n",
    "               'tiprel_1mes', \n",
    "               'indresi',\n",
    "               'indrel_1mes',\n",
    "               'indext',\n",
    "               'canal_entrada',     #The encoding creates too much columns, not very relevant (the weights are low)\n",
    "               'conyuemp',           #100% of NaN values (see below)\n",
    "               'indfall',\n",
    "               'nomprov',\n",
    "               'segmento',\n",
    "               'tipodom',\n",
    "               'cod_prov',\n",
    "               'ind_actividad_cliente']\n",
    "\n",
    "columns_date =['fecha_dato',\n",
    "               'fecha_alta',\n",
    "               'ult_fec_cli_1t']    #100% of NaN values (see below)"
   ]
  },
  {
   "cell_type": "markdown",
   "metadata": {
    "colab_type": "text",
    "id": "wN0G9BST02ru"
   },
   "source": [
    "# Descriptive Statistics & Visualization"
   ]
  },
  {
   "cell_type": "code",
   "execution_count": 0,
   "metadata": {
    "colab": {
     "base_uri": "https://localhost:8080/",
     "height": 941
    },
    "colab_type": "code",
    "id": "AaSv3imz02rv",
    "outputId": "80db8aa5-2be5-45c6-d254-ba891e96d6c9"
   },
   "outputs": [
    {
     "name": "stdout",
     "output_type": "stream",
     "text": [
      "age value statistics count     500000\n",
      "unique       115\n",
      "top           23\n",
      "freq       39228\n",
      "Name: age, dtype: object\n",
      "\n",
      " \n",
      " \n",
      " renta value statistics \n",
      "\n",
      " count    4.110990e+05\n",
      "mean     1.318600e+05\n",
      "std      2.293840e+05\n",
      "min      1.202730e+03\n",
      "25%      6.748633e+04\n",
      "50%      9.982623e+04\n",
      "75%      1.531584e+05\n",
      "max      2.889440e+07\n",
      "Name: renta, dtype: float64\n",
      "\n",
      "\n",
      "\n",
      " categorical value statistics \n",
      "\n",
      "            ncodpers         indrel      ind_nuevo    indrel_1mes   tipodom  \\\n",
      "count  5.000000e+05  494611.000000  494611.000000  494611.000000  494611.0   \n",
      "mean   8.171304e+05       1.130769       0.000303       1.000091       1.0   \n",
      "std    4.381616e+05       3.577475       0.017412       0.013414       0.0   \n",
      "min    1.588900e+04       1.000000       0.000000       1.000000       1.0   \n",
      "25%    3.362618e+05       1.000000       0.000000       1.000000       1.0   \n",
      "50%    9.856585e+05       1.000000       0.000000       1.000000       1.0   \n",
      "75%    1.177883e+06       1.000000       0.000000       1.000000       1.0   \n",
      "max    1.379131e+06      99.000000       1.000000       3.000000       1.0   \n",
      "\n",
      "            cod_prov  ind_actividad_cliente  \n",
      "count  492205.000000          494611.000000  \n",
      "mean       26.395049               0.519503  \n",
      "std        12.844092               0.499620  \n",
      "min         1.000000               0.000000  \n",
      "25%        15.000000               0.000000  \n",
      "50%        28.000000               1.000000  \n",
      "75%        35.000000               1.000000  \n",
      "max        52.000000               1.000000  \n",
      "\n",
      "\n",
      "\n",
      " date value statistics \n",
      "\n",
      "                  fecha_dato           fecha_alta       ult_fec_cli_1t\n",
      "count                500000               494611                  660\n",
      "unique                    1                 5803                   22\n",
      "top     2015-01-28 00:00:00  2014-07-28 00:00:00  2015-07-09 00:00:00\n",
      "freq                 500000                 3278                   52\n",
      "first   2015-01-28 00:00:00  1995-01-16 00:00:00  2015-07-01 00:00:00\n",
      "last    2015-01-28 00:00:00  2015-01-30 00:00:00  2015-07-30 00:00:00\n"
     ]
    }
   ],
   "source": [
    "print(\"age value statistics\", train_df['age'].describe())\n",
    "print(\"\\n \\n \\n renta value statistics \\n\\n\", train_df['renta'].describe())\n",
    "\n",
    "print(\"\\n\\n\\n categorical value statistics \\n\\n\", train_df[columns_cat].describe())\n",
    "print(\"\\n\\n\\n date value statistics \\n\\n\", train_df[columns_date].describe())"
   ]
  },
  {
   "cell_type": "code",
   "execution_count": 0,
   "metadata": {
    "colab": {},
    "colab_type": "code",
    "id": "kLckxpNq02rx"
   },
   "outputs": [],
   "source": [
    "def plot_dates(datetimes, title):\n",
    "    # Size of figure\n",
    "    plt.figure(figsize=(15,8))\n",
    "\n",
    "    # Plot the values\n",
    "    sns.barplot(\n",
    "        datetimes.index, \n",
    "        datetimes.values,\n",
    "        alpha=0.7,\n",
    "        color=(0, 0, 0.9)\n",
    "    )\n",
    "\n",
    "    # Make labels x: yyyymm format\n",
    "    plt.xlabel('Year and month ', fontsize=16)\n",
    "    plt.ylabel('Number of customers on date', fontsize=16)\n",
    "\n",
    "    # Make xlabel vertical instead of horizontal\n",
    "    plt.xticks(rotation='vertical')\n",
    "    \n",
    "    plt.suptitle(title, fontsize=24)\n",
    "\n",
    "    plt.show()"
   ]
  },
  {
   "cell_type": "code",
   "execution_count": 0,
   "metadata": {
    "colab": {
     "base_uri": "https://localhost:8080/",
     "height": 587
    },
    "colab_type": "code",
    "id": "XaxHJiN602r1",
    "outputId": "2d3e8600-c3f8-4bbf-d438-ab1f77863c5a",
    "scrolled": false
   },
   "outputs": [
    {
     "data": {
      "image/png": "[encoded data removed]",
      "text/plain": [
       "<Figure size 1080x576 with 1 Axes>"
      ]
     },
     "metadata": {
      "needs_background": "light",
      "tags": []
     },
     "output_type": "display_data"
    }
   ],
   "source": [
    "yearmonth = train_df['fecha_dato'].apply(\n",
    "    lambda x: (100*x.year) + x.month\n",
    ").value_counts()\n",
    "\n",
    "plot_dates(yearmonth, 'Training data - customers')"
   ]
  },
  {
   "cell_type": "code",
   "execution_count": 0,
   "metadata": {
    "colab": {
     "base_uri": "https://localhost:8080/",
     "height": 587
    },
    "colab_type": "code",
    "id": "FFieJbhs02r6",
    "outputId": "da63f6e0-25bc-4c4e-dcb6-a64d8ebf9b49"
   },
   "outputs": [
    {
     "data": {
      "image/png": "[encoded data removed]",
      "text/plain": [
       "<Figure size 1080x576 with 1 Axes>"
      ]
     },
     "metadata": {
      "needs_background": "light",
      "tags": []
     },
     "output_type": "display_data"
    }
   ],
   "source": [
    "test_yearmonth = test_df['fecha_dato'].apply(\n",
    "    lambda x: (100*x.year) + x.month\n",
    ").value_counts()\n",
    "\n",
    "plot_dates(test_yearmonth, 'Testing data - customers')"
   ]
  },
  {
   "cell_type": "markdown",
   "metadata": {
    "colab_type": "text",
    "id": "_NLy5pKz02r-"
   },
   "source": [
    "# Cleaning the dataset"
   ]
  },
  {
   "cell_type": "code",
   "execution_count": 125,
   "metadata": {
    "colab": {
     "base_uri": "https://localhost:8080/",
     "height": 1000
    },
    "colab_type": "code",
    "id": "JBCkD3eO02r_",
    "outputId": "a372c20f-0a63-4ebf-e1d2-1f70d0016990",
    "scrolled": false
   },
   "outputs": [
    {
     "name": "stdout",
     "output_type": "stream",
     "text": [
      "Training NaN values percentages \n",
      "\n",
      " fecha_dato                0.0000\n",
      "ncodpers                  0.0000\n",
      "ind_empleado              1.0782\n",
      "pais_residencia           1.0782\n",
      "sexo                      1.0786\n",
      "age                       0.0000\n",
      "fecha_alta                1.0782\n",
      "ind_nuevo                 1.0782\n",
      "antiguedad                0.0000\n",
      "indrel                    1.0782\n",
      "ult_fec_cli_1t           99.8899\n",
      "indrel_1mes               1.0782\n",
      "tiprel_1mes               1.0782\n",
      "indresi                   1.0782\n",
      "indext                    1.0782\n",
      "conyuemp                 99.9822\n",
      "canal_entrada             1.0861\n",
      "indfall                   1.0782\n",
      "tipodom                   1.0782\n",
      "cod_prov                  1.7734\n",
      "nomprov                   1.7734\n",
      "ind_actividad_cliente     1.0782\n",
      "renta                    17.5183\n",
      "segmento                  1.0895\n",
      "ind_ahor_fin_ult1         0.0000\n",
      "ind_aval_fin_ult1         0.0000\n",
      "ind_cco_fin_ult1          0.0000\n",
      "ind_cder_fin_ult1         0.0000\n",
      "ind_cno_fin_ult1          0.0000\n",
      "ind_ctju_fin_ult1         0.0000\n",
      "ind_ctma_fin_ult1         0.0000\n",
      "ind_ctop_fin_ult1         0.0000\n",
      "ind_ctpp_fin_ult1         0.0000\n",
      "ind_deco_fin_ult1         0.0000\n",
      "ind_deme_fin_ult1         0.0000\n",
      "ind_dela_fin_ult1         0.0000\n",
      "ind_ecue_fin_ult1         0.0000\n",
      "ind_fond_fin_ult1         0.0000\n",
      "ind_hip_fin_ult1          0.0000\n",
      "ind_plan_fin_ult1         0.0000\n",
      "ind_pres_fin_ult1         0.0000\n",
      "ind_reca_fin_ult1         0.0000\n",
      "ind_tjcr_fin_ult1         0.0000\n",
      "ind_valo_fin_ult1         0.0000\n",
      "ind_viv_fin_ult1          0.0000\n",
      "ind_nomina_ult1           0.5402\n",
      "ind_nom_pens_ult1         0.5402\n",
      "ind_recibo_ult1           0.0000\n",
      "dtype: float64\n",
      "\n",
      "\n",
      " Testing NaN values percentages \n",
      "\n",
      " fecha_dato                0.000000\n",
      "ncodpers                  0.000000\n",
      "ind_empleado              0.000000\n",
      "pais_residencia           0.000000\n",
      "sexo                      0.000538\n",
      "age                       0.000000\n",
      "fecha_alta                0.000000\n",
      "ind_nuevo                 0.000000\n",
      "antiguedad                0.000000\n",
      "indrel                    0.000000\n",
      "ult_fec_cli_1t           99.818957\n",
      "indrel_1mes               0.002474\n",
      "tiprel_1mes               0.002474\n",
      "indresi                   0.000000\n",
      "indext                    0.000000\n",
      "conyuemp                 99.988813\n",
      "canal_entrada             0.223856\n",
      "indfall                   0.000000\n",
      "tipodom                   0.000000\n",
      "cod_prov                  0.429855\n",
      "nomprov                   0.429855\n",
      "ind_actividad_cliente     0.000000\n",
      "renta                     0.000000\n",
      "segmento                  0.241821\n",
      "dtype: float64\n"
     ]
    }
   ],
   "source": [
    "print(\"Training NaN values percentages \\n\\n\",(train_df.isna().sum()/train_df.shape[0])*100)\n",
    "print(\"\\n\\n Testing NaN values percentages \\n\\n\",(test_df.isna().sum()/test_df.shape[0])*100)"
   ]
  },
  {
   "cell_type": "code",
   "execution_count": 0,
   "metadata": {
    "colab": {},
    "colab_type": "code",
    "id": "vbTP3Dx6VrBB"
   },
   "outputs": [],
   "source": [
    "def nan_value_check(value):\n",
    "    check = str(val).replace(' ', '').lower()\n",
    "    if check == '?' or check == 'na' or check == 'nan':\n",
    "        return True\n",
    "    else:\n",
    "        return False"
   ]
  },
  {
   "cell_type": "markdown",
   "metadata": {
    "colab_type": "text",
    "id": "UOKOqSrW02sB"
   },
   "source": [
    "## Removing the obvious features\n",
    "\n",
    "We can clearly see that 'ult_fec_cli_1t' and 'conyuemp' should be removed, because they have almost 100% NaN values, which we cannot use for anything."
   ]
  },
  {
   "cell_type": "code",
   "execution_count": 0,
   "metadata": {
    "colab": {},
    "colab_type": "code",
    "id": "NguSG-MH02sB"
   },
   "outputs": [],
   "source": [
    "# remove columns with too many NaN values\n",
    "drop_features = ['ult_fec_cli_1t', 'conyuemp']\n",
    "#nomprov and cod_prov are the same information, and the encoding creates too many columns\n",
    "drop_features.append('nomprov')\n",
    "drop_features.append('cod_prov')\n",
    "#tipodom has only one value\n",
    "drop_features.append('tipodom')\n",
    "#the encoding of canal_entrada and pais_residencia creates too many columns\n",
    "drop_features.append('canal_entrada')\n",
    "drop_features.append('pais_residencia')"
   ]
  },
  {
   "cell_type": "code",
   "execution_count": 0,
   "metadata": {
    "colab": {},
    "colab_type": "code",
    "id": "j4fE4jB102sF"
   },
   "outputs": [],
   "source": [
    "train_df = train_df.drop(drop_features, axis=1)\n",
    "test_df = test_df.drop(drop_features, axis=1)"
   ]
  },
  {
   "cell_type": "code",
   "execution_count": 0,
   "metadata": {
    "colab": {},
    "colab_type": "code",
    "id": "fjmObaDp02sJ"
   },
   "outputs": [],
   "source": [
    "columns_date.remove(drop_features[0])\n",
    "columns_cat.remove(drop_features[1])\n",
    "columns_cat.remove(drop_features[2])\n",
    "columns_cat.remove(drop_features[3])\n",
    "columns_cat.remove(drop_features[4])\n",
    "columns_cat.remove(drop_features[5])\n",
    "columns_cat.remove(drop_features[6])"
   ]
  },
  {
   "cell_type": "markdown",
   "metadata": {
    "colab_type": "text",
    "id": "68wt3dgR02sM"
   },
   "source": [
    "## The feature 'renta'\n",
    "\n",
    "This feature has nan values, but not enough to where we want to drop it. Instead, we choose to prepare it for imputation."
   ]
  },
  {
   "cell_type": "code",
   "execution_count": 0,
   "metadata": {
    "colab": {},
    "colab_type": "code",
    "id": "VXrrVByO02sM"
   },
   "outputs": [],
   "source": [
    "# make nan values into numpy nan values\n",
    "train_df['renta'] = train_df['renta'].fillna(np.nan)\n",
    "\n",
    "# test data is type object\n",
    "new_vals = []\n",
    "for val in test_df['renta']:\n",
    "    if nan_value_check(val):\n",
    "        val = np.nan\n",
    "    new_vals.append(val)\n",
    "    \n",
    "test_df['renta'] = np.array(new_vals, dtype=float)\n",
    "\n",
    "###test_df['renta'] = test_df['renta'].fillna(np.nan) why not only this line ?"
   ]
  },
  {
   "cell_type": "markdown",
   "metadata": {
    "colab_type": "text",
    "id": "_qcZmrHT02sP"
   },
   "source": [
    "We have chosen to impute the values for renta, since the feature could potentially have good predictive power, in terms of which products a customer might want to purchase."
   ]
  },
  {
   "cell_type": "code",
   "execution_count": 131,
   "metadata": {
    "colab": {
     "base_uri": "https://localhost:8080/",
     "height": 134
    },
    "colab_type": "code",
    "id": "kQacRoAA02sP",
    "outputId": "a27195f1-93b4-4ce6-c232-c2b6be5ff4a9"
   },
   "outputs": [
    {
     "name": "stdout",
     "output_type": "stream",
     "text": [
      "Number of Nan values in column renta before the process:\n",
      "175183\n",
      "227965\n",
      "\n",
      "After the imputation:\n",
      "0\n",
      "0\n"
     ]
    }
   ],
   "source": [
    "print(\"Number of Nan values in column renta before the process:\")\n",
    "print(train_df['renta'].isna().sum())\n",
    "print(test_df['renta'].isna().sum())\n",
    "\n",
    "imputer = SimpleImputer(missing_values=np.nan, strategy=\"mean\")\n",
    "train_df['renta'] = imputer.fit_transform(train_df['renta'].values.reshape(-1, 1))\n",
    "\n",
    "imputer = SimpleImputer(missing_values=np.nan, strategy=\"mean\")\n",
    "test_df['renta'] = imputer.fit_transform(test_df['renta'].values.reshape(-1, 1))\n",
    "\n",
    "print(\"\\nAfter the imputation:\")\n",
    "print(train_df['renta'].isna().sum())\n",
    "print(test_df['renta'].isna().sum())"
   ]
  },
  {
   "cell_type": "markdown",
   "metadata": {
    "colab_type": "text",
    "id": "A4VGPHTW02sS"
   },
   "source": [
    "## The rest of the data\n",
    "\n",
    "We choose to drop the rest of the rows that contains NaN values, since we can see that it is such a small percentage that it won't matter."
   ]
  },
  {
   "cell_type": "code",
   "execution_count": 0,
   "metadata": {
    "colab": {},
    "colab_type": "code",
    "id": "H6EdN41sCWDS"
   },
   "outputs": [],
   "source": [
    "train_df['age'] = train_df['age'].str.strip()\n",
    "train_df['antiguedad'] = train_df['antiguedad'].str.strip()"
   ]
  },
  {
   "cell_type": "code",
   "execution_count": 0,
   "metadata": {
    "colab": {},
    "colab_type": "code",
    "id": "nCARkbqj02sS"
   },
   "outputs": [],
   "source": [
    "train_df = train_df.dropna(axis=0, how='any')\n",
    "test_df = test_df.dropna(axis=0, how='any')"
   ]
  },
  {
   "cell_type": "code",
   "execution_count": 0,
   "metadata": {
    "colab": {},
    "colab_type": "code",
    "id": "Ke0JJLPsCppr"
   },
   "outputs": [],
   "source": [
    "train_df['age'] = train_df['age'].astype(np.float64)\n",
    "train_df['antiguedad'] = train_df['antiguedad'].astype(np.float64)\n",
    "test_df['age'] = test_df['age'].astype(np.float64)\n",
    "test_df['antiguedad'] = test_df['antiguedad'].astype(np.float64)"
   ]
  },
  {
   "cell_type": "markdown",
   "metadata": {
    "colab_type": "text",
    "id": "Rd0N5-heje0B"
   },
   "source": [
    "## The feature \"indrel_1mes\"\n",
    "\n",
    "This feature can take only 5 different values, but actually, we can more types because some of the numbers are \"float\" while others are \"string\".\n"
   ]
  },
  {
   "cell_type": "code",
   "execution_count": 0,
   "metadata": {
    "colab": {},
    "colab_type": "code",
    "id": "VYaHmLHYj2hm"
   },
   "outputs": [],
   "source": [
    "new_vals = []\n",
    "for val in test_df[\"indrel_1mes\"]:\n",
    "  if type(val)=='str':\n",
    "    val = float(val)\n",
    "  new_vals.append(val)\n",
    "test_df[\"indrel_1mes\"] = np.array(new_vals, dtype=float)\n",
    "\n",
    "new_vals = []\n",
    "for val in train_df[\"indrel_1mes\"]:\n",
    "  if type(val)=='str':\n",
    "    val = float(val)\n",
    "  new_vals.append(val)\n",
    "train_df[\"indrel_1mes\"] = np.array(new_vals, dtype=float)"
   ]
  },
  {
   "cell_type": "markdown",
   "metadata": {
    "colab_type": "text",
    "id": "V54RADq302sW"
   },
   "source": [
    "## A quick check on the total number of NaN values"
   ]
  },
  {
   "cell_type": "code",
   "execution_count": 0,
   "metadata": {
    "colab": {
     "base_uri": "https://localhost:8080/",
     "height": 51
    },
    "colab_type": "code",
    "id": "5lUnEAKG02sW",
    "outputId": "6e883b3e-b090-4470-e28f-3305aa016fa3"
   },
   "outputs": [
    {
     "name": "stdout",
     "output_type": "stream",
     "text": [
      "There are 0 NaN values in training dataset\n",
      "There are 0 NaN values in testing dataset\n"
     ]
    }
   ],
   "source": [
    "train_nan_values = 0\n",
    "test_nan_values = 0\n",
    "\n",
    "for name, values in train_df.iteritems():\n",
    "    for val in values:\n",
    "        if nan_value_check(val):\n",
    "            train_nan_values += 1\n",
    "\n",
    "for name, values in test_df.iteritems():\n",
    "    for val in values:\n",
    "        if nan_value_check(val):\n",
    "            test_nan_values += 1\n",
    "            \n",
    "print(f'There are {train_nan_values} NaN values in training dataset')\n",
    "print(f'There are {test_nan_values} NaN values in testing dataset')"
   ]
  },
  {
   "cell_type": "markdown",
   "metadata": {
    "colab_type": "text",
    "id": "LRYzrRxQ02sa"
   },
   "source": [
    "# Preparing X and Y values\n",
    "\n",
    "In this section, we want to prepare our inputs and outputs of the model. In particular, we want to include the prior information of which products the customer is already paying for."
   ]
  },
  {
   "cell_type": "code",
   "execution_count": 0,
   "metadata": {
    "colab": {},
    "colab_type": "code",
    "id": "8T-_NbeT02sa"
   },
   "outputs": [],
   "source": [
    "y_variables = ['ind_ahor_fin_ult1', 'ind_aval_fin_ult1',\n",
    "       'ind_cco_fin_ult1', 'ind_cder_fin_ult1', 'ind_cno_fin_ult1',\n",
    "       'ind_ctju_fin_ult1', 'ind_ctma_fin_ult1', 'ind_ctop_fin_ult1',\n",
    "       'ind_ctpp_fin_ult1', 'ind_deco_fin_ult1', 'ind_deme_fin_ult1',\n",
    "       'ind_dela_fin_ult1', 'ind_ecue_fin_ult1', 'ind_fond_fin_ult1',\n",
    "       'ind_hip_fin_ult1', 'ind_plan_fin_ult1', 'ind_pres_fin_ult1',\n",
    "       'ind_reca_fin_ult1', 'ind_tjcr_fin_ult1', 'ind_valo_fin_ult1',\n",
    "       'ind_viv_fin_ult1', 'ind_nomina_ult1', 'ind_nom_pens_ult1',\n",
    "       'ind_recibo_ult1']\n",
    "\n",
    "y_train = train_df[y_variables]\n",
    "X_train = train_df\n",
    "X_test = test_df"
   ]
  },
  {
   "cell_type": "markdown",
   "metadata": {
    "colab_type": "text",
    "id": "9onLwI9_02sf"
   },
   "source": [
    "## Encoding the dataset\n",
    "\n",
    "To be able to use our dataset, we must encode all features, so that they appear as numbers instead of strings, datetimes, or other datatypes."
   ]
  },
  {
   "cell_type": "markdown",
   "metadata": {
    "colab_type": "text",
    "id": "YsLztGMg02sf"
   },
   "source": [
    "### Columns of type 'object'"
   ]
  },
  {
   "cell_type": "code",
   "execution_count": 0,
   "metadata": {
    "colab": {},
    "colab_type": "code",
    "id": "mdswoVzun_E3"
   },
   "outputs": [],
   "source": [
    "X_cat = np.concatenate([pd.get_dummies(X_train[x]) for x in columns_cat], axis=1)\n",
    "#print(X_cat.shape)"
   ]
  },
  {
   "cell_type": "code",
   "execution_count": 139,
   "metadata": {
    "colab": {
     "base_uri": "https://localhost:8080/",
     "height": 605
    },
    "colab_type": "code",
    "id": "ujTG7IQi02sf",
    "outputId": "cdbf8bb0-01ef-436c-afb5-296f79e25989",
    "scrolled": true
   },
   "outputs": [
    {
     "name": "stdout",
     "output_type": "stream",
     "text": [
      "ind_empleado\n",
      "5\n",
      "5\n",
      "sexo\n",
      "2\n",
      "2\n",
      "ind_nuevo\n",
      "2\n",
      "2\n",
      "indrel\n",
      "2\n",
      "2\n",
      "tiprel_1mes\n",
      "3\n",
      "3\n",
      "indresi\n",
      "2\n",
      "2\n",
      "indrel_1mes\n",
      "2\n",
      "2\n",
      "indext\n",
      "2\n",
      "2\n",
      "indfall\n",
      "2\n",
      "2\n",
      "segmento\n",
      "3\n",
      "3\n",
      "ind_actividad_cliente\n",
      "2\n",
      "2\n",
      "27\n",
      "27\n"
     ]
    }
   ],
   "source": [
    "totaltrain = 0\n",
    "totaltest = 0\n",
    "for column in columns_cat:\n",
    "\n",
    "  train_cat_encoded = pd.get_dummies(X_train[column])\n",
    "  test_cat_encoded = pd.get_dummies(X_test[column])\n",
    "  L = []\n",
    "  J = []\n",
    "  #print(\"___\")\n",
    "  totaltrain += train_cat_encoded.shape[1]\n",
    "  totaltest += test_cat_encoded.shape[1]\n",
    "  print(column)\n",
    "  print(train_cat_encoded.shape[1])\n",
    "  print(test_cat_encoded.shape[1])\n",
    "print(totaltrain)\n",
    "print(totaltest)"
   ]
  },
  {
   "cell_type": "code",
   "execution_count": 0,
   "metadata": {
    "colab": {},
    "colab_type": "code",
    "id": "6HPAKOZ002sh"
   },
   "outputs": [],
   "source": [
    "X_train = X_train.drop(columns_cat, axis=1)\n",
    "X_test = X_test.drop(columns_cat, axis=1)"
   ]
  },
  {
   "cell_type": "markdown",
   "metadata": {
    "colab_type": "text",
    "id": "UuHBHnE_eVoA"
   },
   "source": [
    "Here, there is a problam because the number of columns in test_cat_encoded is bigger than the numberof clums in train_cat_encoded, but it's important that our two dataset have the same number of columns"
   ]
  },
  {
   "cell_type": "code",
   "execution_count": 0,
   "metadata": {
    "colab": {},
    "colab_type": "code",
    "id": "gtytbh2102sj"
   },
   "outputs": [],
   "source": [
    "X_train = pd.concat([X_train, train_cat_encoded], axis=1)\n",
    "X_test = pd.concat([X_test, test_cat_encoded], axis=1)"
   ]
  },
  {
   "cell_type": "markdown",
   "metadata": {
    "colab_type": "text",
    "id": "B1iAw4TV02st"
   },
   "source": [
    "### Columns of type 'datetime64'"
   ]
  },
  {
   "cell_type": "code",
   "execution_count": 0,
   "metadata": {
    "colab": {},
    "colab_type": "code",
    "id": "r8OJ3fKn02st"
   },
   "outputs": [],
   "source": [
    "def datetime_to_features(timestamp):\n",
    "    year = timestamp.year\n",
    "    month = timestamp.month\n",
    "    day = timestamp.day\n",
    "    \n",
    "    return year, month, day"
   ]
  },
  {
   "cell_type": "code",
   "execution_count": 0,
   "metadata": {
    "colab": {},
    "colab_type": "code",
    "id": "iYqhV5PL02sv"
   },
   "outputs": [],
   "source": [
    "def datetimes_to_features(dt_features):\n",
    "    data = pd.DataFrame()\n",
    "    for name, values in dt_features.iteritems():\n",
    "        year = []\n",
    "        month = []\n",
    "        day = []\n",
    "\n",
    "        for val in values:\n",
    "            y,m,d = datetime_to_features(val)\n",
    "            year.append(y) ; month.append(m) ; day.append(d)\n",
    "\n",
    "        new_features = {name + '_year'  : year,\n",
    "                        name + '_month' : month,\n",
    "                        name + '_day'   : day}\n",
    "        \n",
    "        new_data = pd.DataFrame(new_features)\n",
    "        data = pd.concat([data, new_data], axis=1)\n",
    "        \n",
    "    return data"
   ]
  },
  {
   "cell_type": "code",
   "execution_count": 0,
   "metadata": {
    "colab": {},
    "colab_type": "code",
    "id": "2zhAvBv-02s0"
   },
   "outputs": [],
   "source": [
    "train_new_features = datetimes_to_features(X_train[columns_date])\n",
    "test_new_features = datetimes_to_features(X_test[columns_date])"
   ]
  },
  {
   "cell_type": "code",
   "execution_count": 0,
   "metadata": {
    "colab": {},
    "colab_type": "code",
    "id": "DokhwCyc46Zg"
   },
   "outputs": [],
   "source": [
    "X_train = X_train.drop(columns_date, axis=1)\n",
    "X_test = X_test.drop(columns_date, axis=1)"
   ]
  },
  {
   "cell_type": "code",
   "execution_count": 0,
   "metadata": {
    "colab": {},
    "colab_type": "code",
    "id": "y84pRvP602s3"
   },
   "outputs": [],
   "source": [
    "X_train = X_train.reset_index(drop=True)\n",
    "X_test = X_test.reset_index(drop=True)\n",
    "X_train = pd.concat([X_train, train_new_features], axis=1)\n",
    "X_test = pd.concat([X_test, test_new_features], axis=1)"
   ]
  },
  {
   "cell_type": "markdown",
   "metadata": {
    "colab_type": "text",
    "id": "MtGKCTsM02tL"
   },
   "source": [
    "# Checking Column Equality"
   ]
  },
  {
   "cell_type": "code",
   "execution_count": 0,
   "metadata": {
    "colab": {
     "base_uri": "https://localhost:8080/",
     "height": 34
    },
    "colab_type": "code",
    "id": "3SDPwgNp02tL",
    "outputId": "b395236a-5d92-49a4-99ae-f28f15cd1a73"
   },
   "outputs": [
    {
     "name": "stdout",
     "output_type": "stream",
     "text": [
      "[]\n"
     ]
    }
   ],
   "source": [
    "not_in_test = []\n",
    "for col in X_train.columns:\n",
    "    if col not in X_test.columns and col not in y_variables:\n",
    "        not_in_test.append(col)\n",
    "        \n",
    "print(not_in_test)"
   ]
  },
  {
   "cell_type": "code",
   "execution_count": 0,
   "metadata": {
    "colab": {},
    "colab_type": "code",
    "id": "mJQ9O-VI02tN"
   },
   "outputs": [],
   "source": [
    "X_train = X_train.drop(not_in_test, axis=1)"
   ]
  },
  {
   "cell_type": "code",
   "execution_count": 0,
   "metadata": {
    "colab": {
     "base_uri": "https://localhost:8080/",
     "height": 51
    },
    "colab_type": "code",
    "id": "suv3FT17utPW",
    "outputId": "a3608aa4-255a-4bf5-ddd4-002bc21572c1"
   },
   "outputs": [
    {
     "name": "stdout",
     "output_type": "stream",
     "text": [
      "(982056, 36)\n",
      "(982056, 24)\n"
     ]
    }
   ],
   "source": [
    "print(X_train.shape)\n",
    "print(y_train.shape)"
   ]
  },
  {
   "cell_type": "code",
   "execution_count": 0,
   "metadata": {
    "colab": {
     "base_uri": "https://localhost:8080/",
     "height": 224
    },
    "colab_type": "code",
    "id": "iI_ajrwt02tR",
    "outputId": "788e3654-b8fc-4e6d-9ae5-06660f01d34b"
   },
   "outputs": [
    {
     "data": {
      "text/html": [
       "<div>\n",
       "<style scoped>\n",
       "    .dataframe tbody tr th:only-of-type {\n",
       "        vertical-align: middle;\n",
       "    }\n",
       "\n",
       "    .dataframe tbody tr th {\n",
       "        vertical-align: top;\n",
       "    }\n",
       "\n",
       "    .dataframe thead th {\n",
       "        text-align: right;\n",
       "    }\n",
       "</style>\n",
       "<table border=\"1\" class=\"dataframe\">\n",
       "  <thead>\n",
       "    <tr style=\"text-align: right;\">\n",
       "      <th></th>\n",
       "      <th>ncodpers</th>\n",
       "      <th>age</th>\n",
       "      <th>antiguedad</th>\n",
       "      <th>renta</th>\n",
       "      <th>ind_ahor_fin_ult1</th>\n",
       "      <th>ind_aval_fin_ult1</th>\n",
       "      <th>ind_cco_fin_ult1</th>\n",
       "      <th>ind_cder_fin_ult1</th>\n",
       "      <th>ind_cno_fin_ult1</th>\n",
       "      <th>ind_ctju_fin_ult1</th>\n",
       "      <th>ind_ctma_fin_ult1</th>\n",
       "      <th>ind_ctop_fin_ult1</th>\n",
       "      <th>ind_ctpp_fin_ult1</th>\n",
       "      <th>ind_deco_fin_ult1</th>\n",
       "      <th>ind_deme_fin_ult1</th>\n",
       "      <th>ind_dela_fin_ult1</th>\n",
       "      <th>ind_ecue_fin_ult1</th>\n",
       "      <th>ind_fond_fin_ult1</th>\n",
       "      <th>ind_hip_fin_ult1</th>\n",
       "      <th>ind_plan_fin_ult1</th>\n",
       "      <th>ind_pres_fin_ult1</th>\n",
       "      <th>ind_reca_fin_ult1</th>\n",
       "      <th>ind_tjcr_fin_ult1</th>\n",
       "      <th>ind_valo_fin_ult1</th>\n",
       "      <th>ind_viv_fin_ult1</th>\n",
       "      <th>ind_nomina_ult1</th>\n",
       "      <th>ind_nom_pens_ult1</th>\n",
       "      <th>ind_recibo_ult1</th>\n",
       "      <th>0.0</th>\n",
       "      <th>1.0</th>\n",
       "      <th>fecha_dato_year</th>\n",
       "      <th>fecha_dato_month</th>\n",
       "      <th>fecha_dato_day</th>\n",
       "      <th>fecha_alta_year</th>\n",
       "      <th>fecha_alta_month</th>\n",
       "      <th>fecha_alta_day</th>\n",
       "    </tr>\n",
       "  </thead>\n",
       "  <tbody>\n",
       "    <tr>\n",
       "      <th>0</th>\n",
       "      <td>1375586</td>\n",
       "      <td>35.0</td>\n",
       "      <td>6.0</td>\n",
       "      <td>87218.10000</td>\n",
       "      <td>0</td>\n",
       "      <td>0</td>\n",
       "      <td>1</td>\n",
       "      <td>0</td>\n",
       "      <td>0</td>\n",
       "      <td>0</td>\n",
       "      <td>0</td>\n",
       "      <td>0</td>\n",
       "      <td>0</td>\n",
       "      <td>0</td>\n",
       "      <td>0</td>\n",
       "      <td>0</td>\n",
       "      <td>0</td>\n",
       "      <td>0</td>\n",
       "      <td>0</td>\n",
       "      <td>0</td>\n",
       "      <td>0</td>\n",
       "      <td>0</td>\n",
       "      <td>0</td>\n",
       "      <td>0</td>\n",
       "      <td>0</td>\n",
       "      <td>0.0</td>\n",
       "      <td>0.0</td>\n",
       "      <td>0</td>\n",
       "      <td>0</td>\n",
       "      <td>1</td>\n",
       "      <td>2015</td>\n",
       "      <td>1</td>\n",
       "      <td>28</td>\n",
       "      <td>2015</td>\n",
       "      <td>1</td>\n",
       "      <td>12</td>\n",
       "    </tr>\n",
       "    <tr>\n",
       "      <th>1</th>\n",
       "      <td>1050611</td>\n",
       "      <td>23.0</td>\n",
       "      <td>35.0</td>\n",
       "      <td>35548.74000</td>\n",
       "      <td>0</td>\n",
       "      <td>0</td>\n",
       "      <td>1</td>\n",
       "      <td>0</td>\n",
       "      <td>0</td>\n",
       "      <td>0</td>\n",
       "      <td>0</td>\n",
       "      <td>0</td>\n",
       "      <td>0</td>\n",
       "      <td>0</td>\n",
       "      <td>0</td>\n",
       "      <td>0</td>\n",
       "      <td>0</td>\n",
       "      <td>0</td>\n",
       "      <td>0</td>\n",
       "      <td>0</td>\n",
       "      <td>0</td>\n",
       "      <td>0</td>\n",
       "      <td>0</td>\n",
       "      <td>0</td>\n",
       "      <td>0</td>\n",
       "      <td>0.0</td>\n",
       "      <td>0.0</td>\n",
       "      <td>0</td>\n",
       "      <td>1</td>\n",
       "      <td>0</td>\n",
       "      <td>2015</td>\n",
       "      <td>1</td>\n",
       "      <td>28</td>\n",
       "      <td>2012</td>\n",
       "      <td>8</td>\n",
       "      <td>10</td>\n",
       "    </tr>\n",
       "    <tr>\n",
       "      <th>2</th>\n",
       "      <td>1050612</td>\n",
       "      <td>23.0</td>\n",
       "      <td>35.0</td>\n",
       "      <td>122179.11000</td>\n",
       "      <td>0</td>\n",
       "      <td>0</td>\n",
       "      <td>1</td>\n",
       "      <td>0</td>\n",
       "      <td>0</td>\n",
       "      <td>0</td>\n",
       "      <td>0</td>\n",
       "      <td>0</td>\n",
       "      <td>0</td>\n",
       "      <td>0</td>\n",
       "      <td>0</td>\n",
       "      <td>0</td>\n",
       "      <td>0</td>\n",
       "      <td>0</td>\n",
       "      <td>0</td>\n",
       "      <td>0</td>\n",
       "      <td>0</td>\n",
       "      <td>0</td>\n",
       "      <td>0</td>\n",
       "      <td>0</td>\n",
       "      <td>0</td>\n",
       "      <td>0.0</td>\n",
       "      <td>0.0</td>\n",
       "      <td>0</td>\n",
       "      <td>1</td>\n",
       "      <td>0</td>\n",
       "      <td>2015</td>\n",
       "      <td>1</td>\n",
       "      <td>28</td>\n",
       "      <td>2012</td>\n",
       "      <td>8</td>\n",
       "      <td>10</td>\n",
       "    </tr>\n",
       "    <tr>\n",
       "      <th>3</th>\n",
       "      <td>1050613</td>\n",
       "      <td>22.0</td>\n",
       "      <td>35.0</td>\n",
       "      <td>119775.54000</td>\n",
       "      <td>0</td>\n",
       "      <td>0</td>\n",
       "      <td>0</td>\n",
       "      <td>0</td>\n",
       "      <td>0</td>\n",
       "      <td>0</td>\n",
       "      <td>0</td>\n",
       "      <td>0</td>\n",
       "      <td>0</td>\n",
       "      <td>1</td>\n",
       "      <td>0</td>\n",
       "      <td>0</td>\n",
       "      <td>0</td>\n",
       "      <td>0</td>\n",
       "      <td>0</td>\n",
       "      <td>0</td>\n",
       "      <td>0</td>\n",
       "      <td>0</td>\n",
       "      <td>0</td>\n",
       "      <td>0</td>\n",
       "      <td>0</td>\n",
       "      <td>0.0</td>\n",
       "      <td>0.0</td>\n",
       "      <td>0</td>\n",
       "      <td>1</td>\n",
       "      <td>0</td>\n",
       "      <td>2015</td>\n",
       "      <td>1</td>\n",
       "      <td>28</td>\n",
       "      <td>2012</td>\n",
       "      <td>8</td>\n",
       "      <td>10</td>\n",
       "    </tr>\n",
       "    <tr>\n",
       "      <th>4</th>\n",
       "      <td>1050614</td>\n",
       "      <td>23.0</td>\n",
       "      <td>35.0</td>\n",
       "      <td>139646.15094</td>\n",
       "      <td>0</td>\n",
       "      <td>0</td>\n",
       "      <td>1</td>\n",
       "      <td>0</td>\n",
       "      <td>0</td>\n",
       "      <td>0</td>\n",
       "      <td>0</td>\n",
       "      <td>0</td>\n",
       "      <td>0</td>\n",
       "      <td>0</td>\n",
       "      <td>0</td>\n",
       "      <td>0</td>\n",
       "      <td>0</td>\n",
       "      <td>0</td>\n",
       "      <td>0</td>\n",
       "      <td>0</td>\n",
       "      <td>0</td>\n",
       "      <td>0</td>\n",
       "      <td>0</td>\n",
       "      <td>0</td>\n",
       "      <td>0</td>\n",
       "      <td>0.0</td>\n",
       "      <td>0.0</td>\n",
       "      <td>0</td>\n",
       "      <td>0</td>\n",
       "      <td>1</td>\n",
       "      <td>2015</td>\n",
       "      <td>1</td>\n",
       "      <td>28</td>\n",
       "      <td>2012</td>\n",
       "      <td>8</td>\n",
       "      <td>10</td>\n",
       "    </tr>\n",
       "  </tbody>\n",
       "</table>\n",
       "</div>"
      ],
      "text/plain": [
       "   ncodpers   age  antiguedad         renta  ind_ahor_fin_ult1  \\\n",
       "0   1375586  35.0         6.0   87218.10000                  0   \n",
       "1   1050611  23.0        35.0   35548.74000                  0   \n",
       "2   1050612  23.0        35.0  122179.11000                  0   \n",
       "3   1050613  22.0        35.0  119775.54000                  0   \n",
       "4   1050614  23.0        35.0  139646.15094                  0   \n",
       "\n",
       "   ind_aval_fin_ult1  ind_cco_fin_ult1  ind_cder_fin_ult1  ind_cno_fin_ult1  \\\n",
       "0                  0                 1                  0                 0   \n",
       "1                  0                 1                  0                 0   \n",
       "2                  0                 1                  0                 0   \n",
       "3                  0                 0                  0                 0   \n",
       "4                  0                 1                  0                 0   \n",
       "\n",
       "   ind_ctju_fin_ult1  ind_ctma_fin_ult1  ind_ctop_fin_ult1  ind_ctpp_fin_ult1  \\\n",
       "0                  0                  0                  0                  0   \n",
       "1                  0                  0                  0                  0   \n",
       "2                  0                  0                  0                  0   \n",
       "3                  0                  0                  0                  0   \n",
       "4                  0                  0                  0                  0   \n",
       "\n",
       "   ind_deco_fin_ult1  ind_deme_fin_ult1  ind_dela_fin_ult1  ind_ecue_fin_ult1  \\\n",
       "0                  0                  0                  0                  0   \n",
       "1                  0                  0                  0                  0   \n",
       "2                  0                  0                  0                  0   \n",
       "3                  1                  0                  0                  0   \n",
       "4                  0                  0                  0                  0   \n",
       "\n",
       "   ind_fond_fin_ult1  ind_hip_fin_ult1  ind_plan_fin_ult1  ind_pres_fin_ult1  \\\n",
       "0                  0                 0                  0                  0   \n",
       "1                  0                 0                  0                  0   \n",
       "2                  0                 0                  0                  0   \n",
       "3                  0                 0                  0                  0   \n",
       "4                  0                 0                  0                  0   \n",
       "\n",
       "   ind_reca_fin_ult1  ind_tjcr_fin_ult1  ind_valo_fin_ult1  ind_viv_fin_ult1  \\\n",
       "0                  0                  0                  0                 0   \n",
       "1                  0                  0                  0                 0   \n",
       "2                  0                  0                  0                 0   \n",
       "3                  0                  0                  0                 0   \n",
       "4                  0                  0                  0                 0   \n",
       "\n",
       "   ind_nomina_ult1  ind_nom_pens_ult1  ind_recibo_ult1  0.0  1.0  \\\n",
       "0              0.0                0.0                0    0    1   \n",
       "1              0.0                0.0                0    1    0   \n",
       "2              0.0                0.0                0    1    0   \n",
       "3              0.0                0.0                0    1    0   \n",
       "4              0.0                0.0                0    0    1   \n",
       "\n",
       "   fecha_dato_year  fecha_dato_month  fecha_dato_day  fecha_alta_year  \\\n",
       "0             2015                 1              28             2015   \n",
       "1             2015                 1              28             2012   \n",
       "2             2015                 1              28             2012   \n",
       "3             2015                 1              28             2012   \n",
       "4             2015                 1              28             2012   \n",
       "\n",
       "   fecha_alta_month  fecha_alta_day  \n",
       "0                 1              12  \n",
       "1                 8              10  \n",
       "2                 8              10  \n",
       "3                 8              10  \n",
       "4                 8              10  "
      ]
     },
     "execution_count": 390,
     "metadata": {
      "tags": []
     },
     "output_type": "execute_result"
    }
   ],
   "source": [
    "X_train.head(5)"
   ]
  },
  {
   "cell_type": "markdown",
   "metadata": {
    "colab_type": "text",
    "id": "5X8o_T5x02tU"
   },
   "source": [
    "# Baseline"
   ]
  },
  {
   "cell_type": "code",
   "execution_count": 0,
   "metadata": {
    "colab": {},
    "colab_type": "code",
    "id": "9EmOd6ey02ta"
   },
   "outputs": [],
   "source": [
    "ncodpers = X_test['ncodpers'].values\n",
    "\n",
    "pred_df = pd.DataFrame({'ncodpers':ncodpers, 'added_products': predictions})\n",
    "pred_df.to_csv('data/predictions.csv', columns=pred_df.columns)"
   ]
  },
  {
   "cell_type": "markdown",
   "metadata": {
    "colab_type": "text",
    "id": "EdsMF6a14hPv"
   },
   "source": [
    "#Functions to assess the accuracy of the model"
   ]
  },
  {
   "cell_type": "markdown",
   "metadata": {
    "colab_type": "text",
    "id": "DBbIhsy44hPx"
   },
   "source": [
    "For the general accuracy:"
   ]
  },
  {
   "cell_type": "code",
   "execution_count": 0,
   "metadata": {
    "colab": {},
    "colab_type": "code",
    "id": "LMNzCxAn4hPy"
   },
   "outputs": [],
   "source": [
    "def accuracy(y_hat, y_test):\n",
    "  return 1.0*np.sum(y_hat == y_test) / len(y_test)"
   ]
  },
  {
   "cell_type": "markdown",
   "metadata": {
    "colab_type": "text",
    "id": "xdh0kWH14hP4"
   },
   "source": [
    "Then, we check the number of times where a customer has bought a product, and if this product has been predicted by the model"
   ]
  },
  {
   "cell_type": "code",
   "execution_count": 0,
   "metadata": {
    "colab": {},
    "colab_type": "code",
    "id": "iddW-uVl4hP5"
   },
   "outputs": [],
   "source": [
    "def accuracy_2(y_hat, y_test):\n",
    "  correct = 0\n",
    "  for i in range(len(y_test)):\n",
    "    if y_test[i] == 1:\n",
    "      correct += y_hat[i]\n",
    "\n",
    "  if sum(y_test) > 0:\n",
    "    return 1.0*correct/sum(y_test)\n",
    "  else:\n",
    "    return \"This product has never been bought by the customers, and has been predicted \\\"bought\\\" \" + str(sum(y_hat)) + \" times by the model\""
   ]
  },
  {
   "cell_type": "markdown",
   "metadata": {
    "colab_type": "text",
    "id": "_5LH77504hP8"
   },
   "source": [
    "Finally, we count the number of times where we have predicted something, and this prediction was correct"
   ]
  },
  {
   "cell_type": "code",
   "execution_count": 0,
   "metadata": {
    "colab": {},
    "colab_type": "code",
    "id": "8kpee2kI4hP8"
   },
   "outputs": [],
   "source": [
    "def accuracy_model(y_hat, y_test):\n",
    "  correct = 0\n",
    "  for i in range(len(y_hat)):\n",
    "    if y_hat[i] == 1:\n",
    "      correct += y_test[i]\n",
    "      \n",
    "  if sum(y_hat) > 0:\n",
    "    return 1.0*correct/sum(y_hat)\n",
    "  else:\n",
    "    return \"This product has never been predicted as bought by the model, and has been bought \" + str(sum(y_test)) + \" times by the customers\""
   ]
  },
  {
   "cell_type": "markdown",
   "metadata": {
    "colab_type": "text",
    "id": "Hnz-IKLt4hP-"
   },
   "source": [
    "This function will compute the accuracy of a full line of predictions:"
   ]
  },
  {
   "cell_type": "code",
   "execution_count": 0,
   "metadata": {
    "colab": {},
    "colab_type": "code",
    "id": "IuLT7hPz4hP_"
   },
   "outputs": [],
   "source": [
    "def accuracy_full_line(y_hat, y_test):\n",
    "  correct = 0\n",
    "  nb_products = len(y_hat[1])\n",
    "  for i in range(len(y_hat)):\n",
    "    test = 0\n",
    "    for j in range(nb_products):\n",
    "      test += (y_hat[i][j] == y_test[i][j])\n",
    "    if test == nb_products:\n",
    "      correct += 1\n",
    "  return correct/len(y_test)"
   ]
  },
  {
   "cell_type": "markdown",
   "metadata": {
    "colab_type": "text",
    "id": "3uqkD_A04hQD"
   },
   "source": [
    "Thess functions return the accuracy of the predictions by products for each line"
   ]
  },
  {
   "cell_type": "code",
   "execution_count": 0,
   "metadata": {
    "colab": {},
    "colab_type": "code",
    "id": "lBDEK9VB4hQE"
   },
   "outputs": [],
   "source": [
    "def accuracy_by_product(y_hat, y_test):\n",
    "  E = []\n",
    "  for i in range(len(y_hat[1])):\n",
    "    E.append(accuracy(y_hat[:,i],y_test[:,i]))\n",
    "  return E\n",
    "\n",
    "def accuracy_2_by_product(y_hat, y_test):\n",
    "  E = []\n",
    "  for i in range(len(y_hat[1])):\n",
    "    E.append(accuracy_2(y_hat[:,i],y_test[:,i]))\n",
    "  return E\n",
    "\n",
    "def accuracy_model_by_product(y_hat, y_test):\n",
    "  E = []\n",
    "  for i in range(len(y_hat[1])):\n",
    "    E.append(accuracy_model(y_hat[:,i],y_test[:,i]))\n",
    "  return E"
   ]
  },
  {
   "cell_type": "markdown",
   "metadata": {
    "colab_type": "text",
    "id": "d4DDBa0QkQ0E"
   },
   "source": [
    "#first model : prediction based on the profile\n",
    "\n",
    "The easiest way to start is to try to predict what a customer will buy only regarding its profile (sex, age, etc...). For now, the products previously bought are not taken into account."
   ]
  },
  {
   "cell_type": "markdown",
   "metadata": {
    "colab_type": "text",
    "id": "XF9U79XbzTt3"
   },
   "source": [
    "##Baseline"
   ]
  },
  {
   "cell_type": "code",
   "execution_count": 145,
   "metadata": {
    "colab": {
     "base_uri": "https://localhost:8080/",
     "height": 34
    },
    "colab_type": "code",
    "id": "M2DYVTGMkWbH",
    "outputId": "ee3f9e7a-5466-4fc5-8c19-a8d2fac0f1fd"
   },
   "outputs": [
    {
     "name": "stdout",
     "output_type": "stream",
     "text": [
      "(989027, 27)\n"
     ]
    }
   ],
   "source": [
    "#Need to change this later, and to take into account all the features\n",
    "X_cat = np.concatenate([pd.get_dummies(train_df[x]) for x in columns_cat], axis=1)\n",
    "#We don't need the codpers to make predictions based on the profile\n",
    "print(X_cat.shape)\n",
    "X_num = train_df[columns_num[:-1]]\n",
    "X = np.concatenate([X_cat, X_num], axis=1)\n"
   ]
  },
  {
   "cell_type": "code",
   "execution_count": 0,
   "metadata": {
    "colab": {},
    "colab_type": "code",
    "id": "0DooozBxkY1q"
   },
   "outputs": [],
   "source": [
    "# standardize input features\n",
    "X_mean = X.mean(axis=0)\n",
    "X_std = X.std(axis=0)\n",
    "X = (X - X_mean) / X_std"
   ]
  },
  {
   "cell_type": "markdown",
   "metadata": {
    "colab_type": "text",
    "id": "rLffu40AyFzE"
   },
   "source": [
    "###For only one product: (product number 7)\n",
    "For this first example, we just try to predict for one product, and the prediction is based on the features in \"columns_cat\""
   ]
  },
  {
   "cell_type": "code",
   "execution_count": 92,
   "metadata": {
    "colab": {
     "base_uri": "https://localhost:8080/",
     "height": 67
    },
    "colab_type": "code",
    "id": "HeWnUDMKs2xZ",
    "outputId": "c0b382dc-2996-4281-de0c-c8059f319567"
   },
   "outputs": [
    {
     "name": "stdout",
     "output_type": "stream",
     "text": [
      "(989027, 143)\n",
      "(989027,)\n",
      "number of 1 values : 211687\n"
     ]
    }
   ],
   "source": [
    "mat = train_df[y_variables].values\n",
    "Y = mat[:,7].astype(\"int\")\n",
    "print(X.shape)\n",
    "print(Y.shape)\n",
    "print(\"number of 1 values :\", sum(Y))"
   ]
  },
  {
   "cell_type": "code",
   "execution_count": 36,
   "metadata": {
    "colab": {
     "base_uri": "https://localhost:8080/",
     "height": 50
    },
    "colab_type": "code",
    "id": "8X0cVcy8kaYT",
    "outputId": "97398ee9-8d3b-42c2-b58b-6f83d49b2281"
   },
   "outputs": [
    {
     "name": "stdout",
     "output_type": "stream",
     "text": [
      "num train: 736556\n",
      "num test: 245519\n"
     ]
    }
   ],
   "source": [
    "#Train/test split\n",
    "train_perc = 0.75 # percentage of training data\n",
    "split_point = int(train_perc*len(Y))\n",
    "perm = np.random.permutation(len(Y))\n",
    "ix_train = perm[:split_point]\n",
    "ix_test = perm[split_point:]\n",
    "X_train = X[ix_train,:]\n",
    "X_test = X[ix_test,:]\n",
    "Y_train = Y[ix_train]\n",
    "Y_test = Y[ix_test]\n",
    "print(\"num train: %d\" % len(Y_train))\n",
    "print(\"num test: %d\" % len(Y_test))"
   ]
  },
  {
   "cell_type": "code",
   "execution_count": 37,
   "metadata": {
    "colab": {
     "base_uri": "https://localhost:8080/",
     "height": 67
    },
    "colab_type": "code",
    "id": "4pNWFTLtkcB4",
    "outputId": "1fe0b8ed-9612-44c7-e9ae-d63fa37ee930"
   },
   "outputs": [
    {
     "name": "stdout",
     "output_type": "stream",
     "text": [
      "predictions: [1 0 0 ... 0 0 0]\n",
      "true values: [1 1 0 ... 1 0 1]\n",
      "Accuracy: 0.7706287497097984\n"
     ]
    }
   ],
   "source": [
    "# create and fit logistic regression model\n",
    "logreg = linear_model.LogisticRegression(solver='lbfgs', multi_class='auto', max_iter = 5000)\n",
    "logreg.fit(X_train, Y_train)\n",
    "\n",
    "# make predictions for test set\n",
    "Y_hat = logreg.predict(X_test)\n",
    "print(\"predictions:\", Y_hat)\n",
    "print(\"true values:\", Y_test)\n",
    "\n",
    "# evaluate prediction accuracy\n",
    "print(\"Accuracy:\", 1.0*np.sum(Y_hat == Y_test) / len(Y_test))"
   ]
  },
  {
   "cell_type": "code",
   "execution_count": 38,
   "metadata": {
    "colab": {
     "base_uri": "https://localhost:8080/",
     "height": 50
    },
    "colab_type": "code",
    "id": "4qHXjF9akh0W",
    "outputId": "19e98222-26d9-4c2e-cf17-aa4a71fd59b5"
   },
   "outputs": [
    {
     "name": "stdout",
     "output_type": "stream",
     "text": [
      "30281\n",
      "52400\n"
     ]
    }
   ],
   "source": [
    "print(sum(Y_hat))\n",
    "print(sum(Y_test))"
   ]
  },
  {
   "cell_type": "markdown",
   "metadata": {
    "colab_type": "text",
    "id": "iLClnM9dyLmx"
   },
   "source": [
    "###For all the products:"
   ]
  },
  {
   "cell_type": "code",
   "execution_count": 147,
   "metadata": {
    "colab": {
     "base_uri": "https://localhost:8080/",
     "height": 50
    },
    "colab_type": "code",
    "id": "ELyR2P7SyNK8",
    "outputId": "3e2d48d2-38fb-49a3-d3e6-93b3f96b5693"
   },
   "outputs": [
    {
     "name": "stdout",
     "output_type": "stream",
     "text": [
      "(989027, 30)\n",
      "(989027, 24)\n"
     ]
    }
   ],
   "source": [
    "mat = train_df[y_variables].values\n",
    "Y = mat[:].astype(\"int\")\n",
    "print(X.shape)\n",
    "print(Y.shape)"
   ]
  },
  {
   "cell_type": "code",
   "execution_count": 148,
   "metadata": {
    "colab": {
     "base_uri": "https://localhost:8080/",
     "height": 50
    },
    "colab_type": "code",
    "id": "TEDKSpKQyUwo",
    "outputId": "67acf1c3-a657-4d84-d338-502037d8358f"
   },
   "outputs": [
    {
     "name": "stdout",
     "output_type": "stream",
     "text": [
      "num train: 741770\n",
      "num test: 247257\n"
     ]
    }
   ],
   "source": [
    "#Train/test split\n",
    "train_perc = 0.75 # percentage of training data\n",
    "split_point = int(train_perc*len(Y))\n",
    "perm = np.random.permutation(len(Y))\n",
    "ix_train = perm[:split_point]\n",
    "ix_test = perm[split_point:]\n",
    "X_train = X[ix_train,:]\n",
    "X_test = X[ix_test,:]\n",
    "Y_train = Y[ix_train]\n",
    "Y_test = Y[ix_test]\n",
    "print(\"num train: %d\" % len(Y_train))\n",
    "print(\"num test: %d\" % len(Y_test))"
   ]
  },
  {
   "cell_type": "code",
   "execution_count": 149,
   "metadata": {
    "colab": {
     "base_uri": "https://localhost:8080/",
     "height": 118
    },
    "colab_type": "code",
    "id": "gUdLV7C_yiNy",
    "outputId": "3e75e33b-78e6-4413-96e8-66da0cb042fe"
   },
   "outputs": [
    {
     "data": {
      "text/plain": [
       "DecisionTreeClassifier(ccp_alpha=0.0, class_weight=None, criterion='gini',\n",
       "                       max_depth=None, max_features=None, max_leaf_nodes=None,\n",
       "                       min_impurity_decrease=0.0, min_impurity_split=None,\n",
       "                       min_samples_leaf=1, min_samples_split=2,\n",
       "                       min_weight_fraction_leaf=0.0, presort='deprecated',\n",
       "                       random_state=None, splitter='best')"
      ]
     },
     "execution_count": 149,
     "metadata": {
      "tags": []
     },
     "output_type": "execute_result"
    }
   ],
   "source": [
    "from sklearn.tree import DecisionTreeClassifier\n",
    "\n",
    "dtc = DecisionTreeClassifier()\n",
    "dtc.fit(X_train, Y_train)"
   ]
  },
  {
   "cell_type": "code",
   "execution_count": 0,
   "metadata": {
    "colab": {},
    "colab_type": "code",
    "id": "XmbmBXlfy5mE"
   },
   "outputs": [],
   "source": [
    "Y_hat = dtc.predict(X_test)"
   ]
  },
  {
   "cell_type": "code",
   "execution_count": 58,
   "metadata": {
    "colab": {
     "base_uri": "https://localhost:8080/",
     "height": 104
    },
    "colab_type": "code",
    "id": "b5Tgs4YIbNFN",
    "outputId": "5d7915b1-d5a4-4b70-9f46-64eb46adca07"
   },
   "outputs": [
    {
     "name": "stdout",
     "output_type": "stream",
     "text": [
      "0.7477018071921114\n",
      "[0.9999185399093349, 0.9999796349773338, 0.8915766193247773, 0.9996334295920072, 0.9414342678163401, 0.9995438234922756, 0.9905791405145834, 0.9436581282914968, 0.9717781515890828, 0.9978005775520428, 0.9981956589917684, 0.9692447427693986, 0.9434789160920336, 0.9861925146322688, 0.994965766396898, 0.9925382556950786, 0.9980083007832388, 0.9645444955380236, 0.9567894949067078, 0.9806410094534436, 0.9967415963733968, 0.951148383628151, 0.9467536117367699, 0.9066630281159503]\n",
      "[0.8604651162790697, 1.0, 0.9256428977042265, 0.7132352941176471, 0.7282741271535295, 0.983742240614839, 0.5274771024146545, 0.8660685372497476, 0.8097747697769888, 0.4587737843551797, 0.729518855656697, 0.772476842041533, 0.734456251413068, 0.7429080647556809, 0.7700685760387252, 0.7467333889352238, 0.7809798270893372, 0.7478270946807278, 0.670774647887324, 0.7505896831094246, 0.7529411764705882, 0.6613183730715287, 0.6695001011940903, 0.7161867364746946]\n",
      "[0.7254901960784313, 0.5454545454545454, 0.9300591760991593, 0.6554054054054054, 0.724930758432295, 0.9831610044313146, 0.518200408997955, 0.8698630136986302, 0.8065977786373432, 0.43313373253493015, 0.7047738693467337, 0.7708434026099565, 0.7405113787470081, 0.75093829755292, 0.7413592233009709, 0.7446631549764348, 0.7569832402234636, 0.747783764992178, 0.6805666769325531, 0.7592323651452282, 0.7520098948670377, 0.6642998027613413, 0.6691953674202195, 0.7250085881140501]\n"
     ]
    }
   ],
   "source": [
    "print(accuracy_full_line(Y_hat, Y_test))\n",
    "print(accuracy_by_product(Y_hat, Y_test))\n",
    "print(accuracy_2_by_product(Y_hat, Y_test))\n",
    "print(accuracy_model_by_product(Y_hat, Y_test))"
   ]
  },
  {
   "cell_type": "code",
   "execution_count": 151,
   "metadata": {
    "colab": {
     "base_uri": "https://localhost:8080/",
     "height": 104
    },
    "colab_type": "code",
    "id": "aK6F9W9L_513",
    "outputId": "f2f8b770-57e7-4a8e-eb90-22ba93b563b1"
   },
   "outputs": [
    {
     "name": "stdout",
     "output_type": "stream",
     "text": [
      "0.7279834342404866\n",
      "[0.9999150681274949, 0.9999878668753565, 0.8807354291283968, 0.9995996068867615, 0.9386913211759425, 0.9996481393853359, 0.9903582102832276, 0.9348653425383305, 0.9695539458943528, 0.9976502181940249, 0.9978767031873719, 0.9658169435041273, 0.9402645830047279, 0.9850398573144542, 0.9947059132805138, 0.9918586733641515, 0.997613818820094, 0.9613923973840983, 0.9539871469766276, 0.9788317418718175, 0.9965218376021711, 0.9490853646206174, 0.9444222003825978, 0.9019886191290843]\n",
      "[0.8461538461538461, 0.75, 0.919118199075514, 0.6911764705882353, 0.6987328284942349, 0.9875370919881306, 0.472055030094583, 0.8368930215084062, 0.7802191626861478, 0.3912175648702595, 0.6553459119496855, 0.7357968223399133, 0.7057666855738325, 0.7102954080140392, 0.7152182782537739, 0.7160900604063701, 0.6790890269151139, 0.708873837676501, 0.6341888561639719, 0.7100524745344171, 0.7104100946372239, 0.6273354654098636, 0.6355683656957929, 0.6941057155965518]\n",
      "[0.6875, 0.8571428571428571, 0.9224671026075725, 0.6225165562913907, 0.7171535697547258, 0.9866587607471095, 0.487133984028394, 0.8571978296840728, 0.793326095651677, 0.4152542372881356, 0.6748704663212435, 0.7506139489194499, 0.7275562312400109, 0.7387072243346008, 0.7415397631133672, 0.7270699749093951, 0.7008547008547008, 0.7340703756538278, 0.6660143921222068, 0.7406890630031125, 0.7373935821872953, 0.6527907519850538, 0.657925041876047, 0.7130807968048424]\n"
     ]
    }
   ],
   "source": [
    "print(accuracy_full_line(Y_hat, Y_test))\n",
    "print(accuracy_by_product(Y_hat, Y_test))\n",
    "print(accuracy_2_by_product(Y_hat, Y_test))\n",
    "print(accuracy_model_by_product(Y_hat, Y_test))"
   ]
  },
  {
   "cell_type": "code",
   "execution_count": 152,
   "metadata": {
    "colab": {
     "base_uri": "https://localhost:8080/",
     "height": 50
    },
    "colab_type": "code",
    "id": "Xww9al2a6xXm",
    "outputId": "25edf086-1afd-45cf-ebf7-9323e2bd3070"
   },
   "outputs": [
    {
     "name": "stdout",
     "output_type": "stream",
     "text": [
      "7\n",
      "8\n"
     ]
    }
   ],
   "source": [
    "print(sum(Y_hat[:,1]))\n",
    "print(sum(Y_test[:,1]))"
   ]
  },
  {
   "cell_type": "markdown",
   "metadata": {
    "colab_type": "text",
    "id": "0A2YKvO3yioC"
   },
   "source": [
    "##And now we will use Pyro:"
   ]
  },
  {
   "cell_type": "code",
   "execution_count": 0,
   "metadata": {
    "colab": {},
    "colab_type": "code",
    "id": "jxhV7xh6kjQm"
   },
   "outputs": [],
   "source": [
    "def first_model(X, obs=None):\n",
    "    input_dim = X.shape[1]\n",
    "    n_cat = 2\n",
    "\n",
    "    alpha = pyro.sample(\"alpha\", dist.Normal(torch.zeros(1, n_cat), \n",
    "                                             5.*torch.ones(1, n_cat)))  # Prior for the bias/intercept\n",
    "    beta  = pyro.sample(\"beta\", dist.Normal(torch.zeros(input_dim, n_cat), \n",
    "                                            5.*torch.ones(input_dim, n_cat))) # Priors for the regression coeffcients\n",
    "    \n",
    "    \n",
    "    with pyro.plate(\"data\"):\n",
    "        y = pyro.sample(\"y\", dist.Categorical(logits=alpha + X.matmul(beta)), obs=obs)\n",
    "        \n",
    "    return y"
   ]
  },
  {
   "cell_type": "code",
   "execution_count": 0,
   "metadata": {
    "colab": {},
    "colab_type": "code",
    "id": "DwmHM6JDkkwF"
   },
   "outputs": [],
   "source": [
    "# Prepare data for Pyro\n",
    "X_train = torch.tensor(X_train).float()\n",
    "Y_train = torch.tensor(Y_train).float()"
   ]
  },
  {
   "cell_type": "code",
   "execution_count": 0,
   "metadata": {
    "colab": {
     "base_uri": "https://localhost:8080/",
     "height": 101
    },
    "colab_type": "code",
    "id": "GJJuCPOwkmNf",
    "outputId": "b80e4f95-8306-4932-ade3-2b221f2c4300"
   },
   "outputs": [
    {
     "name": "stdout",
     "output_type": "stream",
     "text": [
      "[0] ELBO: 4821402.7\n",
      "[500] ELBO: 2546831.0\n",
      "[1000] ELBO: 1506766.8\n",
      "[1500] ELBO: 1015751.6\n",
      "[2000] ELBO: 661757.6\n"
     ]
    }
   ],
   "source": [
    "%%time\n",
    "\n",
    "# Define guide function\n",
    "guide = AutoDiagonalNormal(first_model)\n",
    "\n",
    "# Reset parameter values\n",
    "pyro.clear_param_store()\n",
    "\n",
    "# Define the number of optimization steps\n",
    "n_steps = 6000\n",
    "\n",
    "# Setup the optimizer\n",
    "adam_params = {\"lr\": 0.001}\n",
    "optimizer = ClippedAdam(adam_params)\n",
    "\n",
    "# Setup the inference algorithm\n",
    "elbo = Trace_ELBO(num_particles=1)\n",
    "svi = SVI(first_model, guide, optimizer, loss=elbo)\n",
    "\n",
    "# Do gradient steps\n",
    "for step in range(n_steps):\n",
    "    elbo = svi.step(X_train, Y_train[:,7])\n",
    "    if step % 500 == 0:\n",
    "        print(\"[%d] ELBO: %.1f\" % (step, elbo))"
   ]
  },
  {
   "cell_type": "markdown",
   "metadata": {
    "colab_type": "text",
    "id": "bBJ1yd9AkpOW"
   },
   "source": [
    "Once converged, let's extract the posterior samples for the latent variables in the model using Pyro's Predictive class:"
   ]
  },
  {
   "cell_type": "code",
   "execution_count": 0,
   "metadata": {
    "colab": {},
    "colab_type": "code",
    "id": "eVWI4DrwkrTT"
   },
   "outputs": [],
   "source": [
    "from pyro.infer import Predictive\n",
    "\n",
    "predictive = Predictive(first_model, guide=guide, num_samples=2000,\n",
    "                        return_sites=(\"beta\", \"alpha\"))\n",
    "samples = predictive(X_train, Y_train)"
   ]
  },
  {
   "cell_type": "markdown",
   "metadata": {
    "colab_type": "text",
    "id": "BgzwT2BPks-w"
   },
   "source": [
    "Lets plot the posterior distributions of the parameters:"
   ]
  },
  {
   "cell_type": "code",
   "execution_count": 192,
   "metadata": {
    "colab": {
     "base_uri": "https://localhost:8080/",
     "height": 50
    },
    "colab_type": "code",
    "id": "E5ehb5a_kyM0",
    "outputId": "13bfdae5-8a64-4c56-ef48-2c7a8ad5236f"
   },
   "outputs": [
    {
     "name": "stdout",
     "output_type": "stream",
     "text": [
      "(2000, 242)\n",
      "(2000, 1)\n"
     ]
    }
   ],
   "source": [
    "beta_samples = samples[\"beta\"].detach().numpy()\n",
    "alpha_samples = samples[\"alpha\"].detach().numpy()\n",
    "print(beta_samples.shape)\n",
    "print(alpha_samples.shape)"
   ]
  },
  {
   "cell_type": "code",
   "execution_count": 193,
   "metadata": {
    "colab": {
     "base_uri": "https://localhost:8080/",
     "height": 265
    },
    "colab_type": "code",
    "id": "8jDw-EInkzk7",
    "outputId": "d4db38e2-0c60-4892-ed6b-95f22d8aa2fa"
   },
   "outputs": [
    {
     "data": {
      "image/png": "[encoded data removed]",
      "text/plain": [
       "<Figure size 432x288 with 1 Axes>"
      ]
     },
     "metadata": {
      "needs_background": "light",
      "tags": []
     },
     "output_type": "display_data"
    }
   ],
   "source": [
    "#attempt to plot the beta, not very successful, there are too much beta\n",
    "for c in range(119):\n",
    "    sns.distplot(beta_samples[:,c])\n",
    "#plt.legend([\"beta[%d]\" % c for c in range(119)])\n",
    "plt.show()"
   ]
  },
  {
   "cell_type": "markdown",
   "metadata": {
    "colab_type": "text",
    "id": "CS8CK1_Zk6SE"
   },
   "source": [
    "We can now use the inferred posteriors to make predictions:"
   ]
  },
  {
   "cell_type": "code",
   "execution_count": 0,
   "metadata": {
    "colab": {},
    "colab_type": "code",
    "id": "Uvq03Bghk36E"
   },
   "outputs": [],
   "source": [
    "# extract expected values of the parameters\n",
    "alpha_hat = samples[\"alpha\"].mean(axis=0).detach().numpy()\n",
    "beta_hat = samples[\"beta\"].mean(axis=0).detach().numpy()"
   ]
  },
  {
   "cell_type": "code",
   "execution_count": 255,
   "metadata": {
    "colab": {
     "base_uri": "https://localhost:8080/",
     "height": 67
    },
    "colab_type": "code",
    "id": "ahjY5Q-Xk5C7",
    "outputId": "2606a765-333d-4145-ecd0-700478de2870"
   },
   "outputs": [
    {
     "name": "stdout",
     "output_type": "stream",
     "text": [
      "0.7818006305139422\n",
      "0.3099529855149704\n",
      "0.4846140110707696\n"
     ]
    }
   ],
   "source": [
    "# make predictions for test set\n",
    "Y_hat = alpha_hat + np.dot(X_test, beta_hat)\n",
    "Y_hat = np.argmax(Y_hat, axis=1)\n",
    "\n",
    "print(accuracy(Y_hat, Y_test[:,7]))\n",
    "print(accuracy_2(Y_hat, Y_test[:,7]))\n",
    "print(accuracy_model(Y_hat, Y_test[:,7]))"
   ]
  },
  {
   "cell_type": "markdown",
   "metadata": {
    "colab_type": "text",
    "id": "nILrr9CSFTIh"
   },
   "source": [
    "#OneHotCategoricalsampling"
   ]
  },
  {
   "cell_type": "code",
   "execution_count": null,
   "metadata": {},
   "outputs": [],
   "source": [
    "def categorical_model(X, obs=None):\n",
    "    input_dim=X.shape[1]\n",
    "    n_cat=obs.shape[1]\n",
    "   # Prior for the bias/intercept\n",
    "    alpha = pyro.sample(\"alpha\", dist.Normal(torch.zeros(1, n_cat), 5.*torch.ones(1, n_cat)))\n",
    "    beta  = pyro.sample(\"beta\", dist.Normal(torch.zeros(input_dim, n_cat), 5.*torch.ones(input_dim, n_cat)))\n",
    "    with pyro.plate(\"data\"):\n",
    "        logits = alpha + X.matmul(beta)            \n",
    "        y = pyro.sample(\"y\", dist.OneHotCategorical(logits=logits), obs=obs)\n",
    "        \n",
    "    return y"
   ]
  },
  {
   "cell_type": "code",
   "execution_count": null,
   "metadata": {},
   "outputs": [],
   "source": [
    "%%time\n",
    "\n",
    "# Define guide function\n",
    "guide = AutoDiagonalNormal(first_model)\n",
    "\n",
    "# Reset parameter values\n",
    "pyro.clear_param_store()\n",
    "\n",
    "# Define the number of optimization steps\n",
    "n_steps = 2000\n",
    "\n",
    "# Setup the optimizer\n",
    "adam_params = {\"lr\": 0.005}\n",
    "optimizer = ClippedAdam(adam_params)\n",
    "\n",
    "# Setup the inference algorithm\n",
    "elbo = Trace_ELBO(num_particles=3)\n",
    "svi = SVI(first_model, guide, optimizer, loss=elbo)\n",
    "\n",
    "# Do gradient steps\n",
    "for step in range(n_steps):\n",
    "    elbo = svi.step(X_train, Y_train[:,:24])\n",
    "    if step % 200 == 0:\n",
    "        print(\"[%d] ELBO: %.1f\" % (step, elbo)"
   ]
  },
  {
   "cell_type": "code",
   "execution_count": null,
   "metadata": {},
   "outputs": [],
   "source": [
    "from pyro.infer import Predictive\n",
    "\n",
    "predictive = Predictive(first_model, guide=guide, num_samples=2000,\n",
    "                        return_sites=(\"beta\", \"alpha\"))\n",
    "samples = predictive(X_train, Y_train[:,:24])\n",
    "\n",
    "beta_samples = samples[\"beta\"].detach().numpy()\n",
    "alpha_samples = samples[\"alpha\"].detach().numpy()\n",
    "print(beta_samples.shape)\n",
    "print(alpha_samples.shape)\n",
    "\n",
    "# extract expected values of the parameters\n",
    "alpha_hat = samples[\"alpha\"].mean(axis=0).detach().numpy()\n",
    "beta_hat = samples[\"beta\"].mean(axis=0).detach().numpy()"
   ]
  },
  {
   "cell_type": "code",
   "execution_count": null,
   "metadata": {},
   "outputs": [],
   "source": [
    "# make predictions for test set\n",
    "Y_hat = alpha_hat + np.dot(X_test, beta_hat)\n",
    "\n",
    "#rebuild matrix\n",
    "Y_hat_arg=np.argmax(Y_hat,axis=1)\n",
    "Y_hat_pred=np.zeros((Y_hat.shape[0],Y_hat.shape[1]))\n",
    "for i in range(Y_hat.shape[0]): \n",
    "    Y_hat_pred[i,Y_hat_arg[i]]=1\n",
    "\n",
    "\n",
    "\n",
    "# evaluate prediction accuracy\n",
    "print(\"Accuracy:\",accuracy_full_line(Y_hat_pred, Y_test))\n",
    "print(sum(Y_hat))"
   ]
  },
  {
   "cell_type": "markdown",
   "metadata": {},
   "source": [
    "#second model: hierarchical model for one product\n",
    "\n",
    "So now, we complexify a little bit the model. Our assumption that we can use the same parameters beta for all the observations is too strong, because it means that all individuals give the same importance to all the features and have the same biases."
   ]
  },
  {
   "cell_type": "code",
   "execution_count": 0,
   "metadata": {
    "colab": {},
    "colab_type": "code",
    "id": "1_hF37cWF5_z"
   },
   "outputs": [],
   "source": [
    "def hierarchical_model(X, ind, n_ind, obs=None):\n",
    "    input_dim = X.shape[1]\n",
    "    n_cat = 2\n",
    "\n",
    "    alpha_mu = pyro.sample(\"alpha_mu\", dist.Normal(torch.zeros(n_cat), \n",
    "                                                       10.*torch.ones(n_cat))) # Prior for the bias mean\n",
    "    alpha_sigma  = pyro.sample(\"alpha_sigma\",  dist.HalfCauchy(10.*torch.ones(n_cat))) # Prior for the bias standard deviation\n",
    "    beta  = pyro.sample(\"beta\", dist.Normal(torch.zeros(input_dim, n_cat), \n",
    "                                            10.*torch.ones(input_dim, n_cat))) # Priors for the regression coefficents\n",
    "    \n",
    "    with pyro.plate(\"ind\", n_ind):\n",
    "        alpha = pyro.sample(\"alpha\", dist.Normal(alpha_mu, alpha_sigma).to_event(1)) # Draw the individual parameter for each individual\n",
    "\n",
    "    with pyro.plate(\"data\", X.shape[0]):\n",
    "        logits = alpha[ind] + X.matmul(beta)\n",
    "        y = pyro.sample(\"y\", dist.Categorical(logits=logits), obs=obs) # If you use logits you don't need to do sigmoid\n",
    "        \n",
    "    return y"
   ]
  }
 ],
 "metadata": {
  "colab": {
   "collapsed_sections": [
    "wN0G9BST02ru"
   ],
   "include_colab_link": true,
   "machine_shape": "hm",
   "name": "Data_Preparation.ipynb",
   "provenance": []
  },
  "kernelspec": {
   "display_name": "Python 3",
   "language": "python",
   "name": "python3"
  },
  "language_info": {
   "codemirror_mode": {
    "name": "ipython",
    "version": 3
   },
   "file_extension": ".py",
   "mimetype": "text/x-python",
   "name": "python",
   "nbconvert_exporter": "python",
   "pygments_lexer": "ipython3",
   "version": "3.7.4"
  }
 },
 "nbformat": 4,
 "nbformat_minor": 1
}
