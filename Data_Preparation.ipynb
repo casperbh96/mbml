{
  "nbformat": 4,
  "nbformat_minor": 0,
  "metadata": {
    "kernelspec": {
      "display_name": "Python 3",
      "language": "python",
      "name": "python3"
    },
    "language_info": {
      "codemirror_mode": {
        "name": "ipython",
        "version": 3
      },
      "file_extension": ".py",
      "mimetype": "text/x-python",
      "name": "python",
      "nbconvert_exporter": "python",
      "pygments_lexer": "ipython3",
      "version": "3.8.2"
    },
    "colab": {
      "name": "Data_Preparation.ipynb",
      "provenance": [],
      "collapsed_sections": [
        "wN0G9BST02ru"
      ],
      "machine_shape": "hm",
      "include_colab_link": true
    },
    "accelerator": "GPU"
  },
  "cells": [
    {
      "cell_type": "markdown",
      "metadata": {
        "id": "view-in-github",
        "colab_type": "text"
      },
      "source": [
        "<a href=\"https://colab.research.google.com/github/casperbh96/mbml/blob/master/Data_Preparation.ipynb\" target=\"_parent\"><img src=\"https://colab.research.google.com/assets/colab-badge.svg\" alt=\"Open In Colab\"/></a>"
      ]
    },
    {
      "cell_type": "markdown",
      "metadata": {
        "id": "b3mke2L002rc",
        "colab_type": "text"
      },
      "source": [
        "# Importing the packages"
      ]
    },
    {
      "cell_type": "code",
      "metadata": {
        "id": "4n8C_LBViwNl",
        "colab_type": "code",
        "outputId": "062392db-93b1-4773-8eda-f74a6be188ad",
        "colab": {
          "base_uri": "https://localhost:8080/",
          "height": 136
        }
      },
      "source": [
        "# Install Pyro, if necessary\n",
        "!pip install pyro-ppl"
      ],
      "execution_count": 46,
      "outputs": [
        {
          "output_type": "stream",
          "text": [
            "Requirement already satisfied: pyro-ppl in /usr/local/lib/python3.6/dist-packages (1.3.1)\n",
            "Requirement already satisfied: numpy>=1.7 in /usr/local/lib/python3.6/dist-packages (from pyro-ppl) (1.18.4)\n",
            "Requirement already satisfied: opt-einsum>=2.3.2 in /usr/local/lib/python3.6/dist-packages (from pyro-ppl) (3.2.1)\n",
            "Requirement already satisfied: pyro-api>=0.1.1 in /usr/local/lib/python3.6/dist-packages (from pyro-ppl) (0.1.2)\n",
            "Requirement already satisfied: tqdm>=4.36 in /usr/local/lib/python3.6/dist-packages (from pyro-ppl) (4.41.1)\n",
            "Requirement already satisfied: torch>=1.4.0 in /usr/local/lib/python3.6/dist-packages (from pyro-ppl) (1.5.0+cu101)\n",
            "Requirement already satisfied: future in /usr/local/lib/python3.6/dist-packages (from torch>=1.4.0->pyro-ppl) (0.16.0)\n"
          ],
          "name": "stdout"
        }
      ]
    },
    {
      "cell_type": "code",
      "metadata": {
        "id": "eFLJgVvW02re",
        "colab_type": "code",
        "colab": {}
      },
      "source": [
        "import pandas as pd\n",
        "import matplotlib.pyplot as plt\n",
        "import seaborn as sns\n",
        "import numpy as np\n",
        "from datetime import datetime\n",
        "from sklearn.impute import SimpleImputer\n",
        "from sklearn import linear_model\n",
        "import copy\n",
        "import torch\n",
        "\n",
        "import pyro\n",
        "import pyro.distributions as dist\n",
        "from pyro.contrib.autoguide import AutoDiagonalNormal, AutoMultivariateNormal\n",
        "from pyro.infer import MCMC, NUTS, HMC, SVI, Trace_ELBO\n",
        "from pyro.optim import Adam, ClippedAdam\n",
        "\n",
        "pd.set_option('display.max_columns', 50)\n",
        "%matplotlib inline"
      ],
      "execution_count": 0,
      "outputs": []
    },
    {
      "cell_type": "markdown",
      "metadata": {
        "id": "mCqtx0jR02rk",
        "colab_type": "text"
      },
      "source": [
        "# Loading the dataset\n",
        "\n",
        "This is the Santander Product Recommendation dataset from [Kaggle](https://www.kaggle.com/c/santander-product-recommendation/data)."
      ]
    },
    {
      "cell_type": "code",
      "metadata": {
        "id": "BI_eUa3Q1qiK",
        "colab_type": "code",
        "outputId": "5594a28e-5e80-41b8-95f5-35504a9a50f6",
        "colab": {
          "base_uri": "https://localhost:8080/",
          "height": 34
        }
      },
      "source": [
        "from google.colab import drive\n",
        "drive.mount('/content/gdrive')"
      ],
      "execution_count": 48,
      "outputs": [
        {
          "output_type": "stream",
          "text": [
            "Drive already mounted at /content/gdrive; to attempt to forcibly remount, call drive.mount(\"/content/gdrive\", force_remount=True).\n"
          ],
          "name": "stdout"
        }
      ]
    },
    {
      "cell_type": "code",
      "metadata": {
        "id": "JQjPQIs002rl",
        "colab_type": "code",
        "outputId": "2044b639-b54c-40b5-8a7c-770117d0a3a2",
        "colab": {
          "base_uri": "https://localhost:8080/",
          "height": 343
        }
      },
      "source": [
        "#train_path = 'data/train_ver2.csv'\n",
        "train_path = '/content/gdrive/My Drive/MSc: AI/2. semester/MBML/train_ver2.csv'\n",
        "#train_path = '/content/gdrive/My Drive/DTU/Model-based machined learning/project/data/train_ver2.csv'\n",
        "\n",
        "train_df = pd.read_csv(train_path, parse_dates=['fecha_dato', 'fecha_alta', 'ult_fec_cli_1t'], sep=\",\",na_values = ['?', 'NA'])\n",
        "\n",
        "train_df.head(5)"
      ],
      "execution_count": 50,
      "outputs": [
        {
          "output_type": "stream",
          "text": [
            "/usr/local/lib/python3.6/dist-packages/IPython/core/interactiveshell.py:2718: DtypeWarning: Columns (5,8,11,15) have mixed types.Specify dtype option on import or set low_memory=False.\n",
            "  interactivity=interactivity, compiler=compiler, result=result)\n"
          ],
          "name": "stderr"
        },
        {
          "output_type": "execute_result",
          "data": {
            "text/html": [
              "<div>\n",
              "<style scoped>\n",
              "    .dataframe tbody tr th:only-of-type {\n",
              "        vertical-align: middle;\n",
              "    }\n",
              "\n",
              "    .dataframe tbody tr th {\n",
              "        vertical-align: top;\n",
              "    }\n",
              "\n",
              "    .dataframe thead th {\n",
              "        text-align: right;\n",
              "    }\n",
              "</style>\n",
              "<table border=\"1\" class=\"dataframe\">\n",
              "  <thead>\n",
              "    <tr style=\"text-align: right;\">\n",
              "      <th></th>\n",
              "      <th>fecha_dato</th>\n",
              "      <th>ncodpers</th>\n",
              "      <th>ind_empleado</th>\n",
              "      <th>pais_residencia</th>\n",
              "      <th>sexo</th>\n",
              "      <th>age</th>\n",
              "      <th>fecha_alta</th>\n",
              "      <th>ind_nuevo</th>\n",
              "      <th>antiguedad</th>\n",
              "      <th>indrel</th>\n",
              "      <th>ult_fec_cli_1t</th>\n",
              "      <th>indrel_1mes</th>\n",
              "      <th>tiprel_1mes</th>\n",
              "      <th>indresi</th>\n",
              "      <th>indext</th>\n",
              "      <th>conyuemp</th>\n",
              "      <th>canal_entrada</th>\n",
              "      <th>indfall</th>\n",
              "      <th>tipodom</th>\n",
              "      <th>cod_prov</th>\n",
              "      <th>nomprov</th>\n",
              "      <th>ind_actividad_cliente</th>\n",
              "      <th>renta</th>\n",
              "      <th>segmento</th>\n",
              "      <th>ind_ahor_fin_ult1</th>\n",
              "      <th>ind_aval_fin_ult1</th>\n",
              "      <th>ind_cco_fin_ult1</th>\n",
              "      <th>ind_cder_fin_ult1</th>\n",
              "      <th>ind_cno_fin_ult1</th>\n",
              "      <th>ind_ctju_fin_ult1</th>\n",
              "      <th>ind_ctma_fin_ult1</th>\n",
              "      <th>ind_ctop_fin_ult1</th>\n",
              "      <th>ind_ctpp_fin_ult1</th>\n",
              "      <th>ind_deco_fin_ult1</th>\n",
              "      <th>ind_deme_fin_ult1</th>\n",
              "      <th>ind_dela_fin_ult1</th>\n",
              "      <th>ind_ecue_fin_ult1</th>\n",
              "      <th>ind_fond_fin_ult1</th>\n",
              "      <th>ind_hip_fin_ult1</th>\n",
              "      <th>ind_plan_fin_ult1</th>\n",
              "      <th>ind_pres_fin_ult1</th>\n",
              "      <th>ind_reca_fin_ult1</th>\n",
              "      <th>ind_tjcr_fin_ult1</th>\n",
              "      <th>ind_valo_fin_ult1</th>\n",
              "      <th>ind_viv_fin_ult1</th>\n",
              "      <th>ind_nomina_ult1</th>\n",
              "      <th>ind_nom_pens_ult1</th>\n",
              "      <th>ind_recibo_ult1</th>\n",
              "    </tr>\n",
              "  </thead>\n",
              "  <tbody>\n",
              "    <tr>\n",
              "      <th>0</th>\n",
              "      <td>2015-01-28</td>\n",
              "      <td>1375586</td>\n",
              "      <td>N</td>\n",
              "      <td>ES</td>\n",
              "      <td>H</td>\n",
              "      <td>35</td>\n",
              "      <td>2015-01-12</td>\n",
              "      <td>0.0</td>\n",
              "      <td>6</td>\n",
              "      <td>1.0</td>\n",
              "      <td>NaT</td>\n",
              "      <td>1</td>\n",
              "      <td>A</td>\n",
              "      <td>S</td>\n",
              "      <td>N</td>\n",
              "      <td>NaN</td>\n",
              "      <td>KHL</td>\n",
              "      <td>N</td>\n",
              "      <td>1.0</td>\n",
              "      <td>29.0</td>\n",
              "      <td>MALAGA</td>\n",
              "      <td>1.0</td>\n",
              "      <td>87218.10</td>\n",
              "      <td>02 - PARTICULARES</td>\n",
              "      <td>0</td>\n",
              "      <td>0</td>\n",
              "      <td>1</td>\n",
              "      <td>0</td>\n",
              "      <td>0</td>\n",
              "      <td>0</td>\n",
              "      <td>0</td>\n",
              "      <td>0</td>\n",
              "      <td>0</td>\n",
              "      <td>0</td>\n",
              "      <td>0</td>\n",
              "      <td>0</td>\n",
              "      <td>0</td>\n",
              "      <td>0</td>\n",
              "      <td>0</td>\n",
              "      <td>0</td>\n",
              "      <td>0</td>\n",
              "      <td>0</td>\n",
              "      <td>0</td>\n",
              "      <td>0</td>\n",
              "      <td>0</td>\n",
              "      <td>0.0</td>\n",
              "      <td>0.0</td>\n",
              "      <td>0</td>\n",
              "    </tr>\n",
              "    <tr>\n",
              "      <th>1</th>\n",
              "      <td>2015-01-28</td>\n",
              "      <td>1050611</td>\n",
              "      <td>N</td>\n",
              "      <td>ES</td>\n",
              "      <td>V</td>\n",
              "      <td>23</td>\n",
              "      <td>2012-08-10</td>\n",
              "      <td>0.0</td>\n",
              "      <td>35</td>\n",
              "      <td>1.0</td>\n",
              "      <td>NaT</td>\n",
              "      <td>1</td>\n",
              "      <td>I</td>\n",
              "      <td>S</td>\n",
              "      <td>S</td>\n",
              "      <td>NaN</td>\n",
              "      <td>KHE</td>\n",
              "      <td>N</td>\n",
              "      <td>1.0</td>\n",
              "      <td>13.0</td>\n",
              "      <td>CIUDAD REAL</td>\n",
              "      <td>0.0</td>\n",
              "      <td>35548.74</td>\n",
              "      <td>03 - UNIVERSITARIO</td>\n",
              "      <td>0</td>\n",
              "      <td>0</td>\n",
              "      <td>1</td>\n",
              "      <td>0</td>\n",
              "      <td>0</td>\n",
              "      <td>0</td>\n",
              "      <td>0</td>\n",
              "      <td>0</td>\n",
              "      <td>0</td>\n",
              "      <td>0</td>\n",
              "      <td>0</td>\n",
              "      <td>0</td>\n",
              "      <td>0</td>\n",
              "      <td>0</td>\n",
              "      <td>0</td>\n",
              "      <td>0</td>\n",
              "      <td>0</td>\n",
              "      <td>0</td>\n",
              "      <td>0</td>\n",
              "      <td>0</td>\n",
              "      <td>0</td>\n",
              "      <td>0.0</td>\n",
              "      <td>0.0</td>\n",
              "      <td>0</td>\n",
              "    </tr>\n",
              "    <tr>\n",
              "      <th>2</th>\n",
              "      <td>2015-01-28</td>\n",
              "      <td>1050612</td>\n",
              "      <td>N</td>\n",
              "      <td>ES</td>\n",
              "      <td>V</td>\n",
              "      <td>23</td>\n",
              "      <td>2012-08-10</td>\n",
              "      <td>0.0</td>\n",
              "      <td>35</td>\n",
              "      <td>1.0</td>\n",
              "      <td>NaT</td>\n",
              "      <td>1</td>\n",
              "      <td>I</td>\n",
              "      <td>S</td>\n",
              "      <td>N</td>\n",
              "      <td>NaN</td>\n",
              "      <td>KHE</td>\n",
              "      <td>N</td>\n",
              "      <td>1.0</td>\n",
              "      <td>13.0</td>\n",
              "      <td>CIUDAD REAL</td>\n",
              "      <td>0.0</td>\n",
              "      <td>122179.11</td>\n",
              "      <td>03 - UNIVERSITARIO</td>\n",
              "      <td>0</td>\n",
              "      <td>0</td>\n",
              "      <td>1</td>\n",
              "      <td>0</td>\n",
              "      <td>0</td>\n",
              "      <td>0</td>\n",
              "      <td>0</td>\n",
              "      <td>0</td>\n",
              "      <td>0</td>\n",
              "      <td>0</td>\n",
              "      <td>0</td>\n",
              "      <td>0</td>\n",
              "      <td>0</td>\n",
              "      <td>0</td>\n",
              "      <td>0</td>\n",
              "      <td>0</td>\n",
              "      <td>0</td>\n",
              "      <td>0</td>\n",
              "      <td>0</td>\n",
              "      <td>0</td>\n",
              "      <td>0</td>\n",
              "      <td>0.0</td>\n",
              "      <td>0.0</td>\n",
              "      <td>0</td>\n",
              "    </tr>\n",
              "    <tr>\n",
              "      <th>3</th>\n",
              "      <td>2015-01-28</td>\n",
              "      <td>1050613</td>\n",
              "      <td>N</td>\n",
              "      <td>ES</td>\n",
              "      <td>H</td>\n",
              "      <td>22</td>\n",
              "      <td>2012-08-10</td>\n",
              "      <td>0.0</td>\n",
              "      <td>35</td>\n",
              "      <td>1.0</td>\n",
              "      <td>NaT</td>\n",
              "      <td>1</td>\n",
              "      <td>I</td>\n",
              "      <td>S</td>\n",
              "      <td>N</td>\n",
              "      <td>NaN</td>\n",
              "      <td>KHD</td>\n",
              "      <td>N</td>\n",
              "      <td>1.0</td>\n",
              "      <td>50.0</td>\n",
              "      <td>ZARAGOZA</td>\n",
              "      <td>0.0</td>\n",
              "      <td>119775.54</td>\n",
              "      <td>03 - UNIVERSITARIO</td>\n",
              "      <td>0</td>\n",
              "      <td>0</td>\n",
              "      <td>0</td>\n",
              "      <td>0</td>\n",
              "      <td>0</td>\n",
              "      <td>0</td>\n",
              "      <td>0</td>\n",
              "      <td>0</td>\n",
              "      <td>0</td>\n",
              "      <td>1</td>\n",
              "      <td>0</td>\n",
              "      <td>0</td>\n",
              "      <td>0</td>\n",
              "      <td>0</td>\n",
              "      <td>0</td>\n",
              "      <td>0</td>\n",
              "      <td>0</td>\n",
              "      <td>0</td>\n",
              "      <td>0</td>\n",
              "      <td>0</td>\n",
              "      <td>0</td>\n",
              "      <td>0.0</td>\n",
              "      <td>0.0</td>\n",
              "      <td>0</td>\n",
              "    </tr>\n",
              "    <tr>\n",
              "      <th>4</th>\n",
              "      <td>2015-01-28</td>\n",
              "      <td>1050614</td>\n",
              "      <td>N</td>\n",
              "      <td>ES</td>\n",
              "      <td>V</td>\n",
              "      <td>23</td>\n",
              "      <td>2012-08-10</td>\n",
              "      <td>0.0</td>\n",
              "      <td>35</td>\n",
              "      <td>1.0</td>\n",
              "      <td>NaT</td>\n",
              "      <td>1</td>\n",
              "      <td>A</td>\n",
              "      <td>S</td>\n",
              "      <td>N</td>\n",
              "      <td>NaN</td>\n",
              "      <td>KHE</td>\n",
              "      <td>N</td>\n",
              "      <td>1.0</td>\n",
              "      <td>50.0</td>\n",
              "      <td>ZARAGOZA</td>\n",
              "      <td>1.0</td>\n",
              "      <td>NaN</td>\n",
              "      <td>03 - UNIVERSITARIO</td>\n",
              "      <td>0</td>\n",
              "      <td>0</td>\n",
              "      <td>1</td>\n",
              "      <td>0</td>\n",
              "      <td>0</td>\n",
              "      <td>0</td>\n",
              "      <td>0</td>\n",
              "      <td>0</td>\n",
              "      <td>0</td>\n",
              "      <td>0</td>\n",
              "      <td>0</td>\n",
              "      <td>0</td>\n",
              "      <td>0</td>\n",
              "      <td>0</td>\n",
              "      <td>0</td>\n",
              "      <td>0</td>\n",
              "      <td>0</td>\n",
              "      <td>0</td>\n",
              "      <td>0</td>\n",
              "      <td>0</td>\n",
              "      <td>0</td>\n",
              "      <td>0.0</td>\n",
              "      <td>0.0</td>\n",
              "      <td>0</td>\n",
              "    </tr>\n",
              "  </tbody>\n",
              "</table>\n",
              "</div>"
            ],
            "text/plain": [
              "  fecha_dato  ncodpers ind_empleado pais_residencia sexo  age fecha_alta  \\\n",
              "0 2015-01-28   1375586            N              ES    H   35 2015-01-12   \n",
              "1 2015-01-28   1050611            N              ES    V   23 2012-08-10   \n",
              "2 2015-01-28   1050612            N              ES    V   23 2012-08-10   \n",
              "3 2015-01-28   1050613            N              ES    H   22 2012-08-10   \n",
              "4 2015-01-28   1050614            N              ES    V   23 2012-08-10   \n",
              "\n",
              "   ind_nuevo antiguedad  indrel ult_fec_cli_1t indrel_1mes tiprel_1mes  \\\n",
              "0        0.0          6     1.0            NaT           1           A   \n",
              "1        0.0         35     1.0            NaT           1           I   \n",
              "2        0.0         35     1.0            NaT           1           I   \n",
              "3        0.0         35     1.0            NaT           1           I   \n",
              "4        0.0         35     1.0            NaT           1           A   \n",
              "\n",
              "  indresi indext conyuemp canal_entrada indfall  tipodom  cod_prov  \\\n",
              "0       S      N      NaN           KHL       N      1.0      29.0   \n",
              "1       S      S      NaN           KHE       N      1.0      13.0   \n",
              "2       S      N      NaN           KHE       N      1.0      13.0   \n",
              "3       S      N      NaN           KHD       N      1.0      50.0   \n",
              "4       S      N      NaN           KHE       N      1.0      50.0   \n",
              "\n",
              "       nomprov  ind_actividad_cliente      renta            segmento  \\\n",
              "0       MALAGA                    1.0   87218.10   02 - PARTICULARES   \n",
              "1  CIUDAD REAL                    0.0   35548.74  03 - UNIVERSITARIO   \n",
              "2  CIUDAD REAL                    0.0  122179.11  03 - UNIVERSITARIO   \n",
              "3     ZARAGOZA                    0.0  119775.54  03 - UNIVERSITARIO   \n",
              "4     ZARAGOZA                    1.0        NaN  03 - UNIVERSITARIO   \n",
              "\n",
              "   ind_ahor_fin_ult1  ind_aval_fin_ult1  ind_cco_fin_ult1  ind_cder_fin_ult1  \\\n",
              "0                  0                  0                 1                  0   \n",
              "1                  0                  0                 1                  0   \n",
              "2                  0                  0                 1                  0   \n",
              "3                  0                  0                 0                  0   \n",
              "4                  0                  0                 1                  0   \n",
              "\n",
              "   ind_cno_fin_ult1  ind_ctju_fin_ult1  ind_ctma_fin_ult1  ind_ctop_fin_ult1  \\\n",
              "0                 0                  0                  0                  0   \n",
              "1                 0                  0                  0                  0   \n",
              "2                 0                  0                  0                  0   \n",
              "3                 0                  0                  0                  0   \n",
              "4                 0                  0                  0                  0   \n",
              "\n",
              "   ind_ctpp_fin_ult1  ind_deco_fin_ult1  ind_deme_fin_ult1  ind_dela_fin_ult1  \\\n",
              "0                  0                  0                  0                  0   \n",
              "1                  0                  0                  0                  0   \n",
              "2                  0                  0                  0                  0   \n",
              "3                  0                  1                  0                  0   \n",
              "4                  0                  0                  0                  0   \n",
              "\n",
              "   ind_ecue_fin_ult1  ind_fond_fin_ult1  ind_hip_fin_ult1  ind_plan_fin_ult1  \\\n",
              "0                  0                  0                 0                  0   \n",
              "1                  0                  0                 0                  0   \n",
              "2                  0                  0                 0                  0   \n",
              "3                  0                  0                 0                  0   \n",
              "4                  0                  0                 0                  0   \n",
              "\n",
              "   ind_pres_fin_ult1  ind_reca_fin_ult1  ind_tjcr_fin_ult1  ind_valo_fin_ult1  \\\n",
              "0                  0                  0                  0                  0   \n",
              "1                  0                  0                  0                  0   \n",
              "2                  0                  0                  0                  0   \n",
              "3                  0                  0                  0                  0   \n",
              "4                  0                  0                  0                  0   \n",
              "\n",
              "   ind_viv_fin_ult1  ind_nomina_ult1  ind_nom_pens_ult1  ind_recibo_ult1  \n",
              "0                 0              0.0                0.0                0  \n",
              "1                 0              0.0                0.0                0  \n",
              "2                 0              0.0                0.0                0  \n",
              "3                 0              0.0                0.0                0  \n",
              "4                 0              0.0                0.0                0  "
            ]
          },
          "metadata": {
            "tags": []
          },
          "execution_count": 50
        }
      ]
    },
    {
      "cell_type": "code",
      "metadata": {
        "id": "0VLoKLls02rp",
        "colab_type": "code",
        "outputId": "d4215423-81af-431e-8778-9cd13386e3c1",
        "colab": {
          "base_uri": "https://localhost:8080/",
          "height": 326
        }
      },
      "source": [
        "#test_path = 'data/test_ver2.csv'\n",
        "test_path = '/content/gdrive/My Drive/MSc: AI/2. semester/MBML/test_ver2.csv'\n",
        "#test_path = '/content/gdrive/My Drive/DTU/Model-based machined learning/project/data/test_ver2.csv'\n",
        "\n",
        "test_df = pd.read_csv(test_path, parse_dates=['fecha_dato', 'fecha_alta', 'ult_fec_cli_1t'],\n",
        "                      sep=\",\",na_values = ['?', 'NA'], nrows = 50000)\n",
        "\n",
        "test_df.head(5)"
      ],
      "execution_count": 51,
      "outputs": [
        {
          "output_type": "stream",
          "text": [
            "/usr/local/lib/python3.6/dist-packages/IPython/core/interactiveshell.py:2718: DtypeWarning: Columns (15) have mixed types.Specify dtype option on import or set low_memory=False.\n",
            "  interactivity=interactivity, compiler=compiler, result=result)\n"
          ],
          "name": "stderr"
        },
        {
          "output_type": "execute_result",
          "data": {
            "text/html": [
              "<div>\n",
              "<style scoped>\n",
              "    .dataframe tbody tr th:only-of-type {\n",
              "        vertical-align: middle;\n",
              "    }\n",
              "\n",
              "    .dataframe tbody tr th {\n",
              "        vertical-align: top;\n",
              "    }\n",
              "\n",
              "    .dataframe thead th {\n",
              "        text-align: right;\n",
              "    }\n",
              "</style>\n",
              "<table border=\"1\" class=\"dataframe\">\n",
              "  <thead>\n",
              "    <tr style=\"text-align: right;\">\n",
              "      <th></th>\n",
              "      <th>fecha_dato</th>\n",
              "      <th>ncodpers</th>\n",
              "      <th>ind_empleado</th>\n",
              "      <th>pais_residencia</th>\n",
              "      <th>sexo</th>\n",
              "      <th>age</th>\n",
              "      <th>fecha_alta</th>\n",
              "      <th>ind_nuevo</th>\n",
              "      <th>antiguedad</th>\n",
              "      <th>indrel</th>\n",
              "      <th>ult_fec_cli_1t</th>\n",
              "      <th>indrel_1mes</th>\n",
              "      <th>tiprel_1mes</th>\n",
              "      <th>indresi</th>\n",
              "      <th>indext</th>\n",
              "      <th>conyuemp</th>\n",
              "      <th>canal_entrada</th>\n",
              "      <th>indfall</th>\n",
              "      <th>tipodom</th>\n",
              "      <th>cod_prov</th>\n",
              "      <th>nomprov</th>\n",
              "      <th>ind_actividad_cliente</th>\n",
              "      <th>renta</th>\n",
              "      <th>segmento</th>\n",
              "    </tr>\n",
              "  </thead>\n",
              "  <tbody>\n",
              "    <tr>\n",
              "      <th>0</th>\n",
              "      <td>2016-06-28</td>\n",
              "      <td>15889</td>\n",
              "      <td>F</td>\n",
              "      <td>ES</td>\n",
              "      <td>V</td>\n",
              "      <td>56</td>\n",
              "      <td>1995-01-16</td>\n",
              "      <td>0</td>\n",
              "      <td>256</td>\n",
              "      <td>1</td>\n",
              "      <td>NaT</td>\n",
              "      <td>1.0</td>\n",
              "      <td>A</td>\n",
              "      <td>S</td>\n",
              "      <td>N</td>\n",
              "      <td>N</td>\n",
              "      <td>KAT</td>\n",
              "      <td>N</td>\n",
              "      <td>1</td>\n",
              "      <td>28.0</td>\n",
              "      <td>MADRID</td>\n",
              "      <td>1</td>\n",
              "      <td>326124.90</td>\n",
              "      <td>01 - TOP</td>\n",
              "    </tr>\n",
              "    <tr>\n",
              "      <th>1</th>\n",
              "      <td>2016-06-28</td>\n",
              "      <td>1170544</td>\n",
              "      <td>N</td>\n",
              "      <td>ES</td>\n",
              "      <td>H</td>\n",
              "      <td>36</td>\n",
              "      <td>2013-08-28</td>\n",
              "      <td>0</td>\n",
              "      <td>34</td>\n",
              "      <td>1</td>\n",
              "      <td>NaT</td>\n",
              "      <td>1.0</td>\n",
              "      <td>I</td>\n",
              "      <td>S</td>\n",
              "      <td>N</td>\n",
              "      <td>NaN</td>\n",
              "      <td>KAT</td>\n",
              "      <td>N</td>\n",
              "      <td>1</td>\n",
              "      <td>3.0</td>\n",
              "      <td>ALICANTE</td>\n",
              "      <td>0</td>\n",
              "      <td>NA</td>\n",
              "      <td>02 - PARTICULARES</td>\n",
              "    </tr>\n",
              "    <tr>\n",
              "      <th>2</th>\n",
              "      <td>2016-06-28</td>\n",
              "      <td>1170545</td>\n",
              "      <td>N</td>\n",
              "      <td>ES</td>\n",
              "      <td>V</td>\n",
              "      <td>22</td>\n",
              "      <td>2013-08-28</td>\n",
              "      <td>0</td>\n",
              "      <td>34</td>\n",
              "      <td>1</td>\n",
              "      <td>NaT</td>\n",
              "      <td>1.0</td>\n",
              "      <td>A</td>\n",
              "      <td>S</td>\n",
              "      <td>N</td>\n",
              "      <td>NaN</td>\n",
              "      <td>KHE</td>\n",
              "      <td>N</td>\n",
              "      <td>1</td>\n",
              "      <td>15.0</td>\n",
              "      <td>CORUÑA, A</td>\n",
              "      <td>1</td>\n",
              "      <td>NA</td>\n",
              "      <td>03 - UNIVERSITARIO</td>\n",
              "    </tr>\n",
              "    <tr>\n",
              "      <th>3</th>\n",
              "      <td>2016-06-28</td>\n",
              "      <td>1170547</td>\n",
              "      <td>N</td>\n",
              "      <td>ES</td>\n",
              "      <td>H</td>\n",
              "      <td>22</td>\n",
              "      <td>2013-08-28</td>\n",
              "      <td>0</td>\n",
              "      <td>34</td>\n",
              "      <td>1</td>\n",
              "      <td>NaT</td>\n",
              "      <td>1.0</td>\n",
              "      <td>I</td>\n",
              "      <td>S</td>\n",
              "      <td>N</td>\n",
              "      <td>NaN</td>\n",
              "      <td>KHE</td>\n",
              "      <td>N</td>\n",
              "      <td>1</td>\n",
              "      <td>8.0</td>\n",
              "      <td>BARCELONA</td>\n",
              "      <td>0</td>\n",
              "      <td>148402.98</td>\n",
              "      <td>03 - UNIVERSITARIO</td>\n",
              "    </tr>\n",
              "    <tr>\n",
              "      <th>4</th>\n",
              "      <td>2016-06-28</td>\n",
              "      <td>1170548</td>\n",
              "      <td>N</td>\n",
              "      <td>ES</td>\n",
              "      <td>H</td>\n",
              "      <td>22</td>\n",
              "      <td>2013-08-28</td>\n",
              "      <td>0</td>\n",
              "      <td>34</td>\n",
              "      <td>1</td>\n",
              "      <td>NaT</td>\n",
              "      <td>1.0</td>\n",
              "      <td>I</td>\n",
              "      <td>S</td>\n",
              "      <td>N</td>\n",
              "      <td>NaN</td>\n",
              "      <td>KHE</td>\n",
              "      <td>N</td>\n",
              "      <td>1</td>\n",
              "      <td>7.0</td>\n",
              "      <td>BALEARS, ILLES</td>\n",
              "      <td>0</td>\n",
              "      <td>106885.80</td>\n",
              "      <td>03 - UNIVERSITARIO</td>\n",
              "    </tr>\n",
              "  </tbody>\n",
              "</table>\n",
              "</div>"
            ],
            "text/plain": [
              "  fecha_dato  ncodpers ind_empleado pais_residencia sexo  age fecha_alta  \\\n",
              "0 2016-06-28     15889            F              ES    V   56 1995-01-16   \n",
              "1 2016-06-28   1170544            N              ES    H   36 2013-08-28   \n",
              "2 2016-06-28   1170545            N              ES    V   22 2013-08-28   \n",
              "3 2016-06-28   1170547            N              ES    H   22 2013-08-28   \n",
              "4 2016-06-28   1170548            N              ES    H   22 2013-08-28   \n",
              "\n",
              "   ind_nuevo  antiguedad  indrel ult_fec_cli_1t  indrel_1mes tiprel_1mes  \\\n",
              "0          0         256       1            NaT          1.0           A   \n",
              "1          0          34       1            NaT          1.0           I   \n",
              "2          0          34       1            NaT          1.0           A   \n",
              "3          0          34       1            NaT          1.0           I   \n",
              "4          0          34       1            NaT          1.0           I   \n",
              "\n",
              "  indresi indext conyuemp canal_entrada indfall  tipodom  cod_prov  \\\n",
              "0       S      N        N           KAT       N        1      28.0   \n",
              "1       S      N      NaN           KAT       N        1       3.0   \n",
              "2       S      N      NaN           KHE       N        1      15.0   \n",
              "3       S      N      NaN           KHE       N        1       8.0   \n",
              "4       S      N      NaN           KHE       N        1       7.0   \n",
              "\n",
              "          nomprov  ind_actividad_cliente        renta            segmento  \n",
              "0          MADRID                      1    326124.90            01 - TOP  \n",
              "1        ALICANTE                      0           NA   02 - PARTICULARES  \n",
              "2       CORUÑA, A                      1           NA  03 - UNIVERSITARIO  \n",
              "3       BARCELONA                      0    148402.98  03 - UNIVERSITARIO  \n",
              "4  BALEARS, ILLES                      0    106885.80  03 - UNIVERSITARIO  "
            ]
          },
          "metadata": {
            "tags": []
          },
          "execution_count": 51
        }
      ]
    },
    {
      "cell_type": "code",
      "metadata": {
        "id": "pMeYgUQWZ5CQ",
        "colab_type": "code",
        "outputId": "d8cffc66-1455-43ca-af4d-72c1dd9a16ee",
        "colab": {
          "base_uri": "https://localhost:8080/",
          "height": 50
        }
      },
      "source": [
        "print(train_df.shape)\n",
        "print(test_df.shape)"
      ],
      "execution_count": 0,
      "outputs": [
        {
          "output_type": "stream",
          "text": [
            "(13647309, 48)\n",
            "(50000, 24)\n"
          ],
          "name": "stdout"
        }
      ]
    },
    {
      "cell_type": "code",
      "metadata": {
        "id": "oCsZFs8H02rs",
        "colab_type": "code",
        "colab": {}
      },
      "source": [
        "columns_num = ['age',\n",
        "               'renta',\n",
        "               'antiguedad',\n",
        "               'ncodpers']\n",
        "\n",
        "columns_cat = ['ind_empleado',\n",
        "               'pais_residencia',   \n",
        "               'sexo',\n",
        "               'ind_nuevo',\n",
        "               'indrel',                    \n",
        "               'tiprel_1mes', \n",
        "               'indresi',\n",
        "               'indrel_1mes',\n",
        "               'indext',\n",
        "               'canal_entrada',     #The encoding creates too much columns, not very relevant (the weights are low)\n",
        "               'conyuemp',           #100% of NaN values (see below)\n",
        "               'indfall',\n",
        "               'nomprov',\n",
        "               'segmento',\n",
        "               'tipodom',\n",
        "               'cod_prov',\n",
        "               'ind_actividad_cliente']\n",
        "\n",
        "columns_date =['fecha_dato',\n",
        "               'fecha_alta',\n",
        "               'ult_fec_cli_1t']    #100% of NaN values (see below)"
      ],
      "execution_count": 0,
      "outputs": []
    },
    {
      "cell_type": "markdown",
      "metadata": {
        "id": "wN0G9BST02ru",
        "colab_type": "text"
      },
      "source": [
        "# Descriptive Statistics & Visualization"
      ]
    },
    {
      "cell_type": "code",
      "metadata": {
        "id": "AaSv3imz02rv",
        "colab_type": "code",
        "outputId": "80db8aa5-2be5-45c6-d254-ba891e96d6c9",
        "colab": {
          "base_uri": "https://localhost:8080/",
          "height": 941
        }
      },
      "source": [
        "print(\"age value statistics\", train_df['age'].describe())\n",
        "print(\"\\n \\n \\n renta value statistics \\n\\n\", train_df['renta'].describe())\n",
        "\n",
        "print(\"\\n\\n\\n categorical value statistics \\n\\n\", train_df[columns_cat].describe())\n",
        "print(\"\\n\\n\\n date value statistics \\n\\n\", train_df[columns_date].describe())"
      ],
      "execution_count": 0,
      "outputs": [
        {
          "output_type": "stream",
          "text": [
            "age value statistics count     500000\n",
            "unique       115\n",
            "top           23\n",
            "freq       39228\n",
            "Name: age, dtype: object\n",
            "\n",
            " \n",
            " \n",
            " renta value statistics \n",
            "\n",
            " count    4.110990e+05\n",
            "mean     1.318600e+05\n",
            "std      2.293840e+05\n",
            "min      1.202730e+03\n",
            "25%      6.748633e+04\n",
            "50%      9.982623e+04\n",
            "75%      1.531584e+05\n",
            "max      2.889440e+07\n",
            "Name: renta, dtype: float64\n",
            "\n",
            "\n",
            "\n",
            " categorical value statistics \n",
            "\n",
            "            ncodpers         indrel      ind_nuevo    indrel_1mes   tipodom  \\\n",
            "count  5.000000e+05  494611.000000  494611.000000  494611.000000  494611.0   \n",
            "mean   8.171304e+05       1.130769       0.000303       1.000091       1.0   \n",
            "std    4.381616e+05       3.577475       0.017412       0.013414       0.0   \n",
            "min    1.588900e+04       1.000000       0.000000       1.000000       1.0   \n",
            "25%    3.362618e+05       1.000000       0.000000       1.000000       1.0   \n",
            "50%    9.856585e+05       1.000000       0.000000       1.000000       1.0   \n",
            "75%    1.177883e+06       1.000000       0.000000       1.000000       1.0   \n",
            "max    1.379131e+06      99.000000       1.000000       3.000000       1.0   \n",
            "\n",
            "            cod_prov  ind_actividad_cliente  \n",
            "count  492205.000000          494611.000000  \n",
            "mean       26.395049               0.519503  \n",
            "std        12.844092               0.499620  \n",
            "min         1.000000               0.000000  \n",
            "25%        15.000000               0.000000  \n",
            "50%        28.000000               1.000000  \n",
            "75%        35.000000               1.000000  \n",
            "max        52.000000               1.000000  \n",
            "\n",
            "\n",
            "\n",
            " date value statistics \n",
            "\n",
            "                  fecha_dato           fecha_alta       ult_fec_cli_1t\n",
            "count                500000               494611                  660\n",
            "unique                    1                 5803                   22\n",
            "top     2015-01-28 00:00:00  2014-07-28 00:00:00  2015-07-09 00:00:00\n",
            "freq                 500000                 3278                   52\n",
            "first   2015-01-28 00:00:00  1995-01-16 00:00:00  2015-07-01 00:00:00\n",
            "last    2015-01-28 00:00:00  2015-01-30 00:00:00  2015-07-30 00:00:00\n"
          ],
          "name": "stdout"
        }
      ]
    },
    {
      "cell_type": "code",
      "metadata": {
        "id": "kLckxpNq02rx",
        "colab_type": "code",
        "colab": {}
      },
      "source": [
        "def plot_dates(datetimes, title):\n",
        "    # Size of figure\n",
        "    plt.figure(figsize=(15,8))\n",
        "\n",
        "    # Plot the values\n",
        "    sns.barplot(\n",
        "        datetimes.index, \n",
        "        datetimes.values,\n",
        "        alpha=0.7,\n",
        "        color=(0, 0, 0.9)\n",
        "    )\n",
        "\n",
        "    # Make labels x: yyyymm format\n",
        "    plt.xlabel('Year and month ', fontsize=16)\n",
        "    plt.ylabel('Number of customers on date', fontsize=16)\n",
        "\n",
        "    # Make xlabel vertical instead of horizontal\n",
        "    plt.xticks(rotation='vertical')\n",
        "    \n",
        "    plt.suptitle(title, fontsize=24)\n",
        "\n",
        "    plt.show()"
      ],
      "execution_count": 0,
      "outputs": []
    },
    {
      "cell_type": "code",
      "metadata": {
        "scrolled": false,
        "id": "XaxHJiN602r1",
        "colab_type": "code",
        "outputId": "2d3e8600-c3f8-4bbf-d438-ab1f77863c5a",
        "colab": {
          "base_uri": "https://localhost:8080/",
          "height": 587
        }
      },
      "source": [
        "yearmonth = train_df['fecha_dato'].apply(\n",
        "    lambda x: (100*x.year) + x.month\n",
        ").value_counts()\n",
        "\n",
        "plot_dates(yearmonth, 'Training data - customers')"
      ],
      "execution_count": 0,
      "outputs": [
        {
          "output_type": "display_data",
          "data": {
            "image/png": "[encoded data removed]",
            "text/plain": [
              "<Figure size 1080x576 with 1 Axes>"
            ]
          },
          "metadata": {
            "tags": [],
            "needs_background": "light"
          }
        }
      ]
    },
    {
      "cell_type": "code",
      "metadata": {
        "id": "FFieJbhs02r6",
        "colab_type": "code",
        "outputId": "da63f6e0-25bc-4c4e-dcb6-a64d8ebf9b49",
        "colab": {
          "base_uri": "https://localhost:8080/",
          "height": 587
        }
      },
      "source": [
        "test_yearmonth = test_df['fecha_dato'].apply(\n",
        "    lambda x: (100*x.year) + x.month\n",
        ").value_counts()\n",
        "\n",
        "plot_dates(test_yearmonth, 'Testing data - customers')"
      ],
      "execution_count": 0,
      "outputs": [
        {
          "output_type": "display_data",
          "data": {
            "image/png": "[encoded data removed]",
            "text/plain": [
              "<Figure size 1080x576 with 1 Axes>"
            ]
          },
          "metadata": {
            "tags": [],
            "needs_background": "light"
          }
        }
      ]
    },
    {
      "cell_type": "markdown",
      "metadata": {
        "id": "_NLy5pKz02r-",
        "colab_type": "text"
      },
      "source": [
        "# Cleaning the dataset"
      ]
    },
    {
      "cell_type": "code",
      "metadata": {
        "scrolled": false,
        "id": "JBCkD3eO02r_",
        "colab_type": "code",
        "outputId": "ecf29e0c-1618-4fc5-af32-a3dfdce1ba27",
        "colab": {
          "base_uri": "https://localhost:8080/",
          "height": 1000
        }
      },
      "source": [
        "print(\"Training NaN values percentages \\n\\n\",(train_df.isna().sum()/train_df.shape[0])*100)\n",
        "print(\"\\n\\n Testing NaN values percentages \\n\\n\",(test_df.isna().sum()/test_df.shape[0])*100)"
      ],
      "execution_count": 0,
      "outputs": [
        {
          "output_type": "stream",
          "text": [
            "Training NaN values percentages \n",
            "\n",
            " fecha_dato                0.000000\n",
            "ncodpers                  0.000000\n",
            "ind_empleado              0.203220\n",
            "pais_residencia           0.203220\n",
            "sexo                      0.203732\n",
            "age                       0.000000\n",
            "fecha_alta                0.203220\n",
            "ind_nuevo                 0.203220\n",
            "antiguedad                0.000000\n",
            "indrel                    0.203220\n",
            "ult_fec_cli_1t           99.818330\n",
            "indrel_1mes               1.097513\n",
            "tiprel_1mes               1.097513\n",
            "indresi                   0.203220\n",
            "indext                    0.203220\n",
            "conyuemp                 99.986752\n",
            "canal_entrada             1.363829\n",
            "indfall                   0.203220\n",
            "tipodom                   0.203227\n",
            "cod_prov                  0.685784\n",
            "nomprov                   0.685784\n",
            "ind_actividad_cliente     0.203220\n",
            "renta                    20.475648\n",
            "segmento                  1.387585\n",
            "ind_ahor_fin_ult1         0.000000\n",
            "ind_aval_fin_ult1         0.000000\n",
            "ind_cco_fin_ult1          0.000000\n",
            "ind_cder_fin_ult1         0.000000\n",
            "ind_cno_fin_ult1          0.000000\n",
            "ind_ctju_fin_ult1         0.000000\n",
            "ind_ctma_fin_ult1         0.000000\n",
            "ind_ctop_fin_ult1         0.000000\n",
            "ind_ctpp_fin_ult1         0.000000\n",
            "ind_deco_fin_ult1         0.000000\n",
            "ind_deme_fin_ult1         0.000000\n",
            "ind_dela_fin_ult1         0.000000\n",
            "ind_ecue_fin_ult1         0.000000\n",
            "ind_fond_fin_ult1         0.000000\n",
            "ind_hip_fin_ult1          0.000000\n",
            "ind_plan_fin_ult1         0.000000\n",
            "ind_pres_fin_ult1         0.000000\n",
            "ind_reca_fin_ult1         0.000000\n",
            "ind_tjcr_fin_ult1         0.000000\n",
            "ind_valo_fin_ult1         0.000000\n",
            "ind_viv_fin_ult1          0.000000\n",
            "ind_nomina_ult1           0.117701\n",
            "ind_nom_pens_ult1         0.117701\n",
            "ind_recibo_ult1           0.000000\n",
            "dtype: float64\n",
            "\n",
            "\n",
            " Testing NaN values percentages \n",
            "\n",
            " fecha_dato                0.000\n",
            "ncodpers                  0.000\n",
            "ind_empleado              0.000\n",
            "pais_residencia           0.000\n",
            "sexo                      0.000\n",
            "age                       0.000\n",
            "fecha_alta                0.000\n",
            "ind_nuevo                 0.000\n",
            "antiguedad                0.000\n",
            "indrel                    0.000\n",
            "ult_fec_cli_1t           99.884\n",
            "indrel_1mes               0.000\n",
            "tiprel_1mes               0.000\n",
            "indresi                   0.000\n",
            "indext                    0.000\n",
            "conyuemp                 99.998\n",
            "canal_entrada             0.002\n",
            "indfall                   0.000\n",
            "tipodom                   0.000\n",
            "cod_prov                  0.066\n",
            "nomprov                   0.066\n",
            "ind_actividad_cliente     0.000\n",
            "renta                     0.000\n",
            "segmento                  0.006\n",
            "dtype: float64\n"
          ],
          "name": "stdout"
        }
      ]
    },
    {
      "cell_type": "code",
      "metadata": {
        "id": "vbTP3Dx6VrBB",
        "colab_type": "code",
        "colab": {}
      },
      "source": [
        "def nan_value_check(value):\n",
        "    check = str(val).replace(' ', '').lower()\n",
        "    if check == '?' or check == 'na' or check == 'nan':\n",
        "        return True\n",
        "    else:\n",
        "        return False"
      ],
      "execution_count": 0,
      "outputs": []
    },
    {
      "cell_type": "markdown",
      "metadata": {
        "id": "UOKOqSrW02sB",
        "colab_type": "text"
      },
      "source": [
        "## Removing the obvious features\n",
        "\n",
        "We can clearly see that 'ult_fec_cli_1t' and 'conyuemp' should be removed, because they have almost 100% NaN values, which we cannot use for anything."
      ]
    },
    {
      "cell_type": "code",
      "metadata": {
        "id": "NguSG-MH02sB",
        "colab_type": "code",
        "colab": {}
      },
      "source": [
        "# remove columns with too many NaN values\n",
        "drop_features = ['ult_fec_cli_1t', 'conyuemp']\n",
        "#nomprov and cod_prov are the same information, and the encoding creates too many columns\n",
        "drop_features.append('nomprov')\n",
        "drop_features.append('cod_prov')\n",
        "#tipodom has only one value\n",
        "drop_features.append('tipodom')\n",
        "#the encoding of canal_entrada and pais_residencia creates too many columns\n",
        "drop_features.append('canal_entrada')\n",
        "drop_features.append('pais_residencia')"
      ],
      "execution_count": 0,
      "outputs": []
    },
    {
      "cell_type": "code",
      "metadata": {
        "id": "j4fE4jB102sF",
        "colab_type": "code",
        "colab": {}
      },
      "source": [
        "train_df = train_df.drop(drop_features, axis=1)\n",
        "test_df = test_df.drop(drop_features, axis=1)"
      ],
      "execution_count": 0,
      "outputs": []
    },
    {
      "cell_type": "code",
      "metadata": {
        "id": "fjmObaDp02sJ",
        "colab_type": "code",
        "colab": {}
      },
      "source": [
        "columns_date.remove(drop_features[0])\n",
        "columns_cat.remove(drop_features[1])\n",
        "columns_cat.remove(drop_features[2])\n",
        "columns_cat.remove(drop_features[3])\n",
        "columns_cat.remove(drop_features[4])\n",
        "columns_cat.remove(drop_features[5])\n",
        "columns_cat.remove(drop_features[6])"
      ],
      "execution_count": 0,
      "outputs": []
    },
    {
      "cell_type": "markdown",
      "metadata": {
        "id": "68wt3dgR02sM",
        "colab_type": "text"
      },
      "source": [
        "## The feature 'renta'\n",
        "\n",
        "This feature has nan values, but not enough to where we want to drop it. Instead, we choose to prepare it for imputation."
      ]
    },
    {
      "cell_type": "code",
      "metadata": {
        "id": "VXrrVByO02sM",
        "colab_type": "code",
        "colab": {}
      },
      "source": [
        "# make nan values into numpy nan values\n",
        "train_df['renta'] = train_df['renta'].fillna(np.nan)\n",
        "\n",
        "# test data is type object\n",
        "new_vals = []\n",
        "for val in test_df['renta']:\n",
        "    if nan_value_check(val):\n",
        "        val = np.nan\n",
        "    new_vals.append(val)\n",
        "    \n",
        "test_df['renta'] = np.array(new_vals, dtype=float)\n",
        "\n",
        "###test_df['renta'] = test_df['renta'].fillna(np.nan) why not only this line ?"
      ],
      "execution_count": 0,
      "outputs": []
    },
    {
      "cell_type": "markdown",
      "metadata": {
        "id": "_qcZmrHT02sP",
        "colab_type": "text"
      },
      "source": [
        "We have chosen to impute the values for renta, since the feature could potentially have good predictive power, in terms of which products a customer might want to purchase."
      ]
    },
    {
      "cell_type": "code",
      "metadata": {
        "id": "kQacRoAA02sP",
        "colab_type": "code",
        "outputId": "b854c1e4-0a29-4a00-db53-cac9f5e28c9b",
        "colab": {
          "base_uri": "https://localhost:8080/",
          "height": 136
        }
      },
      "source": [
        "print(\"Number of Nan values in column renta before the process:\")\n",
        "print(train_df['renta'].isna().sum())\n",
        "print(test_df['renta'].isna().sum())\n",
        "\n",
        "imputer = SimpleImputer(missing_values=np.nan, strategy=\"mean\")\n",
        "train_df['renta'] = imputer.fit_transform(train_df['renta'].values.reshape(-1, 1))\n",
        "\n",
        "imputer = SimpleImputer(missing_values=np.nan, strategy=\"mean\")\n",
        "test_df['renta'] = imputer.fit_transform(test_df['renta'].values.reshape(-1, 1))\n",
        "\n",
        "print(\"\\nAfter the imputation:\")\n",
        "print(train_df['renta'].isna().sum())\n",
        "print(test_df['renta'].isna().sum())"
      ],
      "execution_count": 58,
      "outputs": [
        {
          "output_type": "stream",
          "text": [
            "Number of Nan values in column renta before the process:\n",
            "2794375\n",
            "9779\n",
            "\n",
            "After the imputation:\n",
            "0\n",
            "0\n"
          ],
          "name": "stdout"
        }
      ]
    },
    {
      "cell_type": "markdown",
      "metadata": {
        "id": "A4VGPHTW02sS",
        "colab_type": "text"
      },
      "source": [
        "## The rest of the data\n",
        "\n",
        "We choose to drop the rest of the rows that contains NaN values, since it represents a low percentage."
      ]
    },
    {
      "cell_type": "code",
      "metadata": {
        "id": "H6EdN41sCWDS",
        "colab_type": "code",
        "colab": {}
      },
      "source": [
        "train_df['age'] = train_df['age'].str.strip()\n",
        "train_df['antiguedad'] = train_df['antiguedad'].str.strip()"
      ],
      "execution_count": 0,
      "outputs": []
    },
    {
      "cell_type": "code",
      "metadata": {
        "id": "nCARkbqj02sS",
        "colab_type": "code",
        "colab": {}
      },
      "source": [
        "train_df = train_df.dropna(axis=0, how='any')\n",
        "test_df = test_df.dropna(axis=0, how='any')"
      ],
      "execution_count": 0,
      "outputs": []
    },
    {
      "cell_type": "code",
      "metadata": {
        "id": "Ke0JJLPsCppr",
        "colab_type": "code",
        "colab": {}
      },
      "source": [
        "train_df['age'] = train_df['age'].astype(np.float64)\n",
        "train_df['antiguedad'] = train_df['antiguedad'].astype(np.float64)\n",
        "test_df['age'] = test_df['age'].astype(np.float64)\n",
        "test_df['antiguedad'] = test_df['antiguedad'].astype(np.float64)"
      ],
      "execution_count": 0,
      "outputs": []
    },
    {
      "cell_type": "markdown",
      "metadata": {
        "id": "Rd0N5-heje0B",
        "colab_type": "text"
      },
      "source": [
        "## The feature \"indrel_1mes\"\n",
        "\n",
        "This feature can take only 5 different values, but actually, we can more types because some of the numbers are \"float\" while others are \"string\".\n"
      ]
    },
    {
      "cell_type": "code",
      "metadata": {
        "id": "VYaHmLHYj2hm",
        "colab_type": "code",
        "colab": {}
      },
      "source": [
        "new_vals = []\n",
        "for val in test_df[\"indrel_1mes\"]:\n",
        "  if type(val)=='str':\n",
        "    val = float(val)\n",
        "  new_vals.append(val)\n",
        "test_df[\"indrel_1mes\"] = np.array(new_vals, dtype=float)\n",
        "\n",
        "new_vals = []\n",
        "for val in train_df[\"indrel_1mes\"]:\n",
        "  if type(val)=='str':\n",
        "    val = float(val)\n",
        "  new_vals.append(val)\n",
        "train_df[\"indrel_1mes\"] = np.array(new_vals, dtype=float)"
      ],
      "execution_count": 0,
      "outputs": []
    },
    {
      "cell_type": "markdown",
      "metadata": {
        "id": "V54RADq302sW",
        "colab_type": "text"
      },
      "source": [
        "## A quick check on the total number of NaN values"
      ]
    },
    {
      "cell_type": "code",
      "metadata": {
        "id": "5lUnEAKG02sW",
        "colab_type": "code",
        "outputId": "82fb69e9-4180-4eb0-b343-73ff2074ef7c",
        "colab": {
          "base_uri": "https://localhost:8080/",
          "height": 50
        }
      },
      "source": [
        "train_nan_values = 0\n",
        "test_nan_values = 0\n",
        "\n",
        "for name, values in train_df.iteritems():\n",
        "    for val in values:\n",
        "        if nan_value_check(val):\n",
        "            train_nan_values += 1\n",
        "\n",
        "for name, values in test_df.iteritems():\n",
        "    for val in values:\n",
        "        if nan_value_check(val):\n",
        "            test_nan_values += 1\n",
        "            \n",
        "print(f'There are {train_nan_values} NaN values in training dataset')\n",
        "print(f'There are {test_nan_values} NaN values in testing dataset')"
      ],
      "execution_count": 0,
      "outputs": [
        {
          "output_type": "stream",
          "text": [
            "There are 0 NaN values in training dataset\n",
            "There are 0 NaN values in testing dataset\n"
          ],
          "name": "stdout"
        }
      ]
    },
    {
      "cell_type": "markdown",
      "metadata": {
        "id": "LRYzrRxQ02sa",
        "colab_type": "text"
      },
      "source": [
        "# Preparing X and Y values\n",
        "\n",
        "In this section, we want to prepare our inputs and outputs of the model. In particular, we want to include the prior information of which products the customer is already paying for."
      ]
    },
    {
      "cell_type": "code",
      "metadata": {
        "id": "8T-_NbeT02sa",
        "colab_type": "code",
        "outputId": "57a01bcd-5f44-451a-84a7-0337b7d4b4d5",
        "colab": {
          "base_uri": "https://localhost:8080/",
          "height": 34
        }
      },
      "source": [
        "y_variables = ['ind_ahor_fin_ult1', 'ind_aval_fin_ult1',\n",
        "       'ind_cco_fin_ult1', 'ind_cder_fin_ult1', 'ind_cno_fin_ult1',\n",
        "       'ind_ctju_fin_ult1', 'ind_ctma_fin_ult1', 'ind_ctop_fin_ult1',\n",
        "       'ind_ctpp_fin_ult1', 'ind_deco_fin_ult1', 'ind_deme_fin_ult1',\n",
        "       'ind_dela_fin_ult1', 'ind_ecue_fin_ult1', 'ind_fond_fin_ult1',\n",
        "       'ind_hip_fin_ult1', 'ind_plan_fin_ult1', 'ind_pres_fin_ult1',\n",
        "       'ind_reca_fin_ult1', 'ind_tjcr_fin_ult1', 'ind_valo_fin_ult1',\n",
        "       'ind_viv_fin_ult1', 'ind_nomina_ult1', 'ind_nom_pens_ult1',\n",
        "       'ind_recibo_ult1']\n",
        "\n",
        "print(train_df.shape)"
      ],
      "execution_count": 80,
      "outputs": [
        {
          "output_type": "stream",
          "text": [
            "(3756556, 41)\n"
          ],
          "name": "stdout"
        }
      ]
    },
    {
      "cell_type": "code",
      "metadata": {
        "id": "cYM--r0hHXs3",
        "colab_type": "code",
        "outputId": "48d349b6-eca5-4f0e-fd5f-02773c05d0c8",
        "colab": {
          "base_uri": "https://localhost:8080/",
          "height": 51
        }
      },
      "source": [
        "#Need to change this later, and to take into account all the features\n",
        "X_cat = np.concatenate([pd.get_dummies(train_df[x]) for x in columns_cat], axis=1)\n",
        "#We don't need the codpers to make predictions based on the profile\n",
        "X_num = train_df[columns_num[:-1]]\n",
        "X = np.concatenate([X_cat, X_num], axis=1)\n",
        "\n",
        "mat = train_df[y_variables].values\n",
        "Y = mat[:].astype(\"int\")\n",
        "print(X.shape)\n",
        "print(Y.shape)"
      ],
      "execution_count": 81,
      "outputs": [
        {
          "output_type": "stream",
          "text": [
            "(3756556, 30)\n",
            "(3756556, 24)\n"
          ],
          "name": "stdout"
        }
      ]
    },
    {
      "cell_type": "code",
      "metadata": {
        "id": "h8EZkryOj_8a",
        "colab_type": "code",
        "colab": {}
      },
      "source": [
        "# standardize input features\n",
        "X_mean = X.mean(axis=0)\n",
        "X_std = X.std(axis=0)\n",
        "X = (X - X_mean) / X_std"
      ],
      "execution_count": 0,
      "outputs": []
    },
    {
      "cell_type": "code",
      "metadata": {
        "id": "OIgSwJreMsz2",
        "colab_type": "code",
        "colab": {}
      },
      "source": [
        "filter = []\n",
        "for i in range(Y.shape[0]):\n",
        "  filter.append(sum(Y[i]) == 1)\n",
        "\n",
        "X = X[filter]\n",
        "Y = Y[filter]"
      ],
      "execution_count": 0,
      "outputs": []
    },
    {
      "cell_type": "markdown",
      "metadata": {
        "id": "9onLwI9_02sf",
        "colab_type": "text"
      },
      "source": [
        "## Encoding the dataset\n",
        "\n",
        "To be able to use our dataset, we must encode all features, so that they appear as numbers instead of strings, datetimes, or other datatypes."
      ]
    },
    {
      "cell_type": "markdown",
      "metadata": {
        "id": "YsLztGMg02sf",
        "colab_type": "text"
      },
      "source": [
        "### Columns of type 'object'"
      ]
    },
    {
      "cell_type": "code",
      "metadata": {
        "id": "mdswoVzun_E3",
        "colab_type": "code",
        "colab": {}
      },
      "source": [
        "X_cat = np.concatenate([pd.get_dummies(X_train[x]) for x in columns_cat], axis=1)\n",
        "#print(X_cat.shape)"
      ],
      "execution_count": 0,
      "outputs": []
    },
    {
      "cell_type": "code",
      "metadata": {
        "scrolled": true,
        "id": "ujTG7IQi02sf",
        "colab_type": "code",
        "outputId": "2bd6952b-8f27-4ff0-f858-9016d9199408",
        "colab": {
          "base_uri": "https://localhost:8080/",
          "height": 232
        }
      },
      "source": [
        "totaltrain = 0\n",
        "totaltest = 0\n",
        "for column in columns_cat:\n",
        "\n",
        "  train_cat_encoded = pd.get_dummies(X_train[column])\n",
        "  test_cat_encoded = pd.get_dummies(X_test[column])\n",
        "  L = []\n",
        "  J = []\n",
        "  #print(\"___\")\n",
        "  totaltrain += train_cat_encoded.shape[1]\n",
        "  totaltest += test_cat_encoded.shape[1]\n",
        "  print(column)\n",
        "  print(train_cat_encoded.shape[1])\n",
        "  print(test_cat_encoded.shape[1])\n",
        "print(totaltrain)\n",
        "print(totaltest)"
      ],
      "execution_count": 68,
      "outputs": [
        {
          "output_type": "error",
          "ename": "IndexError",
          "evalue": "ignored",
          "traceback": [
            "\u001b[0;31m---------------------------------------------------------------------------\u001b[0m",
            "\u001b[0;31mIndexError\u001b[0m                                Traceback (most recent call last)",
            "\u001b[0;32m<ipython-input-68-72a3b84d0f07>\u001b[0m in \u001b[0;36m<module>\u001b[0;34m()\u001b[0m\n\u001b[1;32m      3\u001b[0m \u001b[0;32mfor\u001b[0m \u001b[0mcolumn\u001b[0m \u001b[0;32min\u001b[0m \u001b[0mcolumns_cat\u001b[0m\u001b[0;34m:\u001b[0m\u001b[0;34m\u001b[0m\u001b[0;34m\u001b[0m\u001b[0m\n\u001b[1;32m      4\u001b[0m \u001b[0;34m\u001b[0m\u001b[0m\n\u001b[0;32m----> 5\u001b[0;31m   \u001b[0mtrain_cat_encoded\u001b[0m \u001b[0;34m=\u001b[0m \u001b[0mpd\u001b[0m\u001b[0;34m.\u001b[0m\u001b[0mget_dummies\u001b[0m\u001b[0;34m(\u001b[0m\u001b[0mX_train\u001b[0m\u001b[0;34m[\u001b[0m\u001b[0mcolumn\u001b[0m\u001b[0;34m]\u001b[0m\u001b[0;34m)\u001b[0m\u001b[0;34m\u001b[0m\u001b[0;34m\u001b[0m\u001b[0m\n\u001b[0m\u001b[1;32m      6\u001b[0m   \u001b[0mtest_cat_encoded\u001b[0m \u001b[0;34m=\u001b[0m \u001b[0mpd\u001b[0m\u001b[0;34m.\u001b[0m\u001b[0mget_dummies\u001b[0m\u001b[0;34m(\u001b[0m\u001b[0mX_test\u001b[0m\u001b[0;34m[\u001b[0m\u001b[0mcolumn\u001b[0m\u001b[0;34m]\u001b[0m\u001b[0;34m)\u001b[0m\u001b[0;34m\u001b[0m\u001b[0;34m\u001b[0m\u001b[0m\n\u001b[1;32m      7\u001b[0m   \u001b[0mL\u001b[0m \u001b[0;34m=\u001b[0m \u001b[0;34m[\u001b[0m\u001b[0;34m]\u001b[0m\u001b[0;34m\u001b[0m\u001b[0;34m\u001b[0m\u001b[0m\n",
            "\u001b[0;31mIndexError\u001b[0m: too many indices for tensor of dimension 2"
          ]
        }
      ]
    },
    {
      "cell_type": "code",
      "metadata": {
        "id": "6HPAKOZ002sh",
        "colab_type": "code",
        "colab": {
          "base_uri": "https://localhost:8080/",
          "height": 181
        },
        "outputId": "68a52a55-cf23-4410-a8a8-5e8d84781fc2"
      },
      "source": [
        "X_train = X_train.drop(columns_cat, axis=1)\n",
        "X_test = X_test.drop(columns_cat, axis=1)"
      ],
      "execution_count": 69,
      "outputs": [
        {
          "output_type": "error",
          "ename": "AttributeError",
          "evalue": "ignored",
          "traceback": [
            "\u001b[0;31m---------------------------------------------------------------------------\u001b[0m",
            "\u001b[0;31mAttributeError\u001b[0m                            Traceback (most recent call last)",
            "\u001b[0;32m<ipython-input-69-cc5b90a3c351>\u001b[0m in \u001b[0;36m<module>\u001b[0;34m()\u001b[0m\n\u001b[0;32m----> 1\u001b[0;31m \u001b[0mX_train\u001b[0m \u001b[0;34m=\u001b[0m \u001b[0mX_train\u001b[0m\u001b[0;34m.\u001b[0m\u001b[0mdrop\u001b[0m\u001b[0;34m(\u001b[0m\u001b[0mcolumns_cat\u001b[0m\u001b[0;34m,\u001b[0m \u001b[0maxis\u001b[0m\u001b[0;34m=\u001b[0m\u001b[0;36m1\u001b[0m\u001b[0;34m)\u001b[0m\u001b[0;34m\u001b[0m\u001b[0;34m\u001b[0m\u001b[0m\n\u001b[0m\u001b[1;32m      2\u001b[0m \u001b[0mX_test\u001b[0m \u001b[0;34m=\u001b[0m \u001b[0mX_test\u001b[0m\u001b[0;34m.\u001b[0m\u001b[0mdrop\u001b[0m\u001b[0;34m(\u001b[0m\u001b[0mcolumns_cat\u001b[0m\u001b[0;34m,\u001b[0m \u001b[0maxis\u001b[0m\u001b[0;34m=\u001b[0m\u001b[0;36m1\u001b[0m\u001b[0;34m)\u001b[0m\u001b[0;34m\u001b[0m\u001b[0;34m\u001b[0m\u001b[0m\n",
            "\u001b[0;31mAttributeError\u001b[0m: 'Tensor' object has no attribute 'drop'"
          ]
        }
      ]
    },
    {
      "cell_type": "markdown",
      "metadata": {
        "id": "UuHBHnE_eVoA",
        "colab_type": "text"
      },
      "source": [
        "Here, there is a problam because the number of columns in test_cat_encoded is bigger than the numberof clums in train_cat_encoded, but it's important that our two dataset have the same number of columns"
      ]
    },
    {
      "cell_type": "code",
      "metadata": {
        "id": "gtytbh2102sj",
        "colab_type": "code",
        "colab": {}
      },
      "source": [
        "X_train = pd.concat([X_train, train_cat_encoded], axis=1)\n",
        "X_test = pd.concat([X_test, test_cat_encoded], axis=1)"
      ],
      "execution_count": 0,
      "outputs": []
    },
    {
      "cell_type": "markdown",
      "metadata": {
        "id": "B1iAw4TV02st",
        "colab_type": "text"
      },
      "source": [
        "### Columns of type 'datetime64'"
      ]
    },
    {
      "cell_type": "code",
      "metadata": {
        "id": "r8OJ3fKn02st",
        "colab_type": "code",
        "colab": {}
      },
      "source": [
        "def datetime_to_features(timestamp):\n",
        "    year = timestamp.year\n",
        "    month = timestamp.month\n",
        "    day = timestamp.day\n",
        "    \n",
        "    return year, month, day"
      ],
      "execution_count": 0,
      "outputs": []
    },
    {
      "cell_type": "code",
      "metadata": {
        "id": "iYqhV5PL02sv",
        "colab_type": "code",
        "colab": {}
      },
      "source": [
        "def datetimes_to_features(dt_features):\n",
        "    data = pd.DataFrame()\n",
        "    for name, values in dt_features.iteritems():\n",
        "        year = []\n",
        "        month = []\n",
        "        day = []\n",
        "\n",
        "        for val in values:\n",
        "            y,m,d = datetime_to_features(val)\n",
        "            year.append(y) ; month.append(m) ; day.append(d)\n",
        "\n",
        "        new_features = {name + '_year'  : year,\n",
        "                        name + '_month' : month,\n",
        "                        name + '_day'   : day}\n",
        "        \n",
        "        new_data = pd.DataFrame(new_features)\n",
        "        data = pd.concat([data, new_data], axis=1)\n",
        "        \n",
        "    return data"
      ],
      "execution_count": 0,
      "outputs": []
    },
    {
      "cell_type": "code",
      "metadata": {
        "id": "2zhAvBv-02s0",
        "colab_type": "code",
        "colab": {
          "base_uri": "https://localhost:8080/",
          "height": 181
        },
        "outputId": "f4d9b13d-8775-4002-e7fc-7dfc417536b6"
      },
      "source": [
        "train_new_features = datetimes_to_features(X_train[columns_date])\n",
        "test_new_features = datetimes_to_features(X_test[columns_date])"
      ],
      "execution_count": 72,
      "outputs": [
        {
          "output_type": "error",
          "ename": "TypeError",
          "evalue": "ignored",
          "traceback": [
            "\u001b[0;31m---------------------------------------------------------------------------\u001b[0m",
            "\u001b[0;31mTypeError\u001b[0m                                 Traceback (most recent call last)",
            "\u001b[0;32m<ipython-input-72-55ee954e124e>\u001b[0m in \u001b[0;36m<module>\u001b[0;34m()\u001b[0m\n\u001b[0;32m----> 1\u001b[0;31m \u001b[0mtrain_new_features\u001b[0m \u001b[0;34m=\u001b[0m \u001b[0mdatetimes_to_features\u001b[0m\u001b[0;34m(\u001b[0m\u001b[0mX_train\u001b[0m\u001b[0;34m[\u001b[0m\u001b[0mcolumns_date\u001b[0m\u001b[0;34m]\u001b[0m\u001b[0;34m)\u001b[0m\u001b[0;34m\u001b[0m\u001b[0;34m\u001b[0m\u001b[0m\n\u001b[0m\u001b[1;32m      2\u001b[0m \u001b[0mtest_new_features\u001b[0m \u001b[0;34m=\u001b[0m \u001b[0mdatetimes_to_features\u001b[0m\u001b[0;34m(\u001b[0m\u001b[0mX_test\u001b[0m\u001b[0;34m[\u001b[0m\u001b[0mcolumns_date\u001b[0m\u001b[0;34m]\u001b[0m\u001b[0;34m)\u001b[0m\u001b[0;34m\u001b[0m\u001b[0;34m\u001b[0m\u001b[0m\n",
            "\u001b[0;31mTypeError\u001b[0m: new(): invalid data type 'str'"
          ]
        }
      ]
    },
    {
      "cell_type": "code",
      "metadata": {
        "id": "DokhwCyc46Zg",
        "colab_type": "code",
        "colab": {
          "base_uri": "https://localhost:8080/",
          "height": 181
        },
        "outputId": "9e35e1b9-51e2-4892-ab4b-4ac853ab2a69"
      },
      "source": [
        "X_train = X_train.drop(columns_date, axis=1)\n",
        "X_test = X_test.drop(columns_date, axis=1)"
      ],
      "execution_count": 73,
      "outputs": [
        {
          "output_type": "error",
          "ename": "AttributeError",
          "evalue": "ignored",
          "traceback": [
            "\u001b[0;31m---------------------------------------------------------------------------\u001b[0m",
            "\u001b[0;31mAttributeError\u001b[0m                            Traceback (most recent call last)",
            "\u001b[0;32m<ipython-input-73-5b92cd142da2>\u001b[0m in \u001b[0;36m<module>\u001b[0;34m()\u001b[0m\n\u001b[0;32m----> 1\u001b[0;31m \u001b[0mX_train\u001b[0m \u001b[0;34m=\u001b[0m \u001b[0mX_train\u001b[0m\u001b[0;34m.\u001b[0m\u001b[0mdrop\u001b[0m\u001b[0;34m(\u001b[0m\u001b[0mcolumns_date\u001b[0m\u001b[0;34m,\u001b[0m \u001b[0maxis\u001b[0m\u001b[0;34m=\u001b[0m\u001b[0;36m1\u001b[0m\u001b[0;34m)\u001b[0m\u001b[0;34m\u001b[0m\u001b[0;34m\u001b[0m\u001b[0m\n\u001b[0m\u001b[1;32m      2\u001b[0m \u001b[0mX_test\u001b[0m \u001b[0;34m=\u001b[0m \u001b[0mX_test\u001b[0m\u001b[0;34m.\u001b[0m\u001b[0mdrop\u001b[0m\u001b[0;34m(\u001b[0m\u001b[0mcolumns_date\u001b[0m\u001b[0;34m,\u001b[0m \u001b[0maxis\u001b[0m\u001b[0;34m=\u001b[0m\u001b[0;36m1\u001b[0m\u001b[0;34m)\u001b[0m\u001b[0;34m\u001b[0m\u001b[0;34m\u001b[0m\u001b[0m\n",
            "\u001b[0;31mAttributeError\u001b[0m: 'Tensor' object has no attribute 'drop'"
          ]
        }
      ]
    },
    {
      "cell_type": "code",
      "metadata": {
        "id": "y84pRvP602s3",
        "colab_type": "code",
        "colab": {}
      },
      "source": [
        "X_train = X_train.reset_index(drop=True)\n",
        "X_test = X_test.reset_index(drop=True)\n",
        "X_train = pd.concat([X_train, train_new_features], axis=1)\n",
        "X_test = pd.concat([X_test, test_new_features], axis=1)"
      ],
      "execution_count": 0,
      "outputs": []
    },
    {
      "cell_type": "markdown",
      "metadata": {
        "id": "MtGKCTsM02tL",
        "colab_type": "text"
      },
      "source": [
        "### Checking Column Equality"
      ]
    },
    {
      "cell_type": "code",
      "metadata": {
        "id": "3SDPwgNp02tL",
        "colab_type": "code",
        "outputId": "b395236a-5d92-49a4-99ae-f28f15cd1a73",
        "colab": {
          "base_uri": "https://localhost:8080/",
          "height": 34
        }
      },
      "source": [
        "not_in_test = []\n",
        "for col in X_train.columns:\n",
        "    if col not in X_test.columns and col not in y_variables:\n",
        "        not_in_test.append(col)\n",
        "        \n",
        "print(not_in_test)"
      ],
      "execution_count": 0,
      "outputs": [
        {
          "output_type": "stream",
          "text": [
            "[]\n"
          ],
          "name": "stdout"
        }
      ]
    },
    {
      "cell_type": "code",
      "metadata": {
        "id": "mJQ9O-VI02tN",
        "colab_type": "code",
        "colab": {}
      },
      "source": [
        "X_train = X_train.drop(not_in_test, axis=1)"
      ],
      "execution_count": 0,
      "outputs": []
    },
    {
      "cell_type": "code",
      "metadata": {
        "id": "suv3FT17utPW",
        "colab_type": "code",
        "outputId": "a3608aa4-255a-4bf5-ddd4-002bc21572c1",
        "colab": {
          "base_uri": "https://localhost:8080/",
          "height": 51
        }
      },
      "source": [
        "print(X_train.shape)\n",
        "print(y_train.shape)"
      ],
      "execution_count": 0,
      "outputs": [
        {
          "output_type": "stream",
          "text": [
            "(982056, 36)\n",
            "(982056, 24)\n"
          ],
          "name": "stdout"
        }
      ]
    },
    {
      "cell_type": "code",
      "metadata": {
        "id": "iI_ajrwt02tR",
        "colab_type": "code",
        "outputId": "788e3654-b8fc-4e6d-9ae5-06660f01d34b",
        "colab": {
          "base_uri": "https://localhost:8080/",
          "height": 224
        }
      },
      "source": [
        "X_train.head(5)"
      ],
      "execution_count": 0,
      "outputs": [
        {
          "output_type": "execute_result",
          "data": {
            "text/html": [
              "<div>\n",
              "<style scoped>\n",
              "    .dataframe tbody tr th:only-of-type {\n",
              "        vertical-align: middle;\n",
              "    }\n",
              "\n",
              "    .dataframe tbody tr th {\n",
              "        vertical-align: top;\n",
              "    }\n",
              "\n",
              "    .dataframe thead th {\n",
              "        text-align: right;\n",
              "    }\n",
              "</style>\n",
              "<table border=\"1\" class=\"dataframe\">\n",
              "  <thead>\n",
              "    <tr style=\"text-align: right;\">\n",
              "      <th></th>\n",
              "      <th>ncodpers</th>\n",
              "      <th>age</th>\n",
              "      <th>antiguedad</th>\n",
              "      <th>renta</th>\n",
              "      <th>ind_ahor_fin_ult1</th>\n",
              "      <th>ind_aval_fin_ult1</th>\n",
              "      <th>ind_cco_fin_ult1</th>\n",
              "      <th>ind_cder_fin_ult1</th>\n",
              "      <th>ind_cno_fin_ult1</th>\n",
              "      <th>ind_ctju_fin_ult1</th>\n",
              "      <th>ind_ctma_fin_ult1</th>\n",
              "      <th>ind_ctop_fin_ult1</th>\n",
              "      <th>ind_ctpp_fin_ult1</th>\n",
              "      <th>ind_deco_fin_ult1</th>\n",
              "      <th>ind_deme_fin_ult1</th>\n",
              "      <th>ind_dela_fin_ult1</th>\n",
              "      <th>ind_ecue_fin_ult1</th>\n",
              "      <th>ind_fond_fin_ult1</th>\n",
              "      <th>ind_hip_fin_ult1</th>\n",
              "      <th>ind_plan_fin_ult1</th>\n",
              "      <th>ind_pres_fin_ult1</th>\n",
              "      <th>ind_reca_fin_ult1</th>\n",
              "      <th>ind_tjcr_fin_ult1</th>\n",
              "      <th>ind_valo_fin_ult1</th>\n",
              "      <th>ind_viv_fin_ult1</th>\n",
              "      <th>ind_nomina_ult1</th>\n",
              "      <th>ind_nom_pens_ult1</th>\n",
              "      <th>ind_recibo_ult1</th>\n",
              "      <th>0.0</th>\n",
              "      <th>1.0</th>\n",
              "      <th>fecha_dato_year</th>\n",
              "      <th>fecha_dato_month</th>\n",
              "      <th>fecha_dato_day</th>\n",
              "      <th>fecha_alta_year</th>\n",
              "      <th>fecha_alta_month</th>\n",
              "      <th>fecha_alta_day</th>\n",
              "    </tr>\n",
              "  </thead>\n",
              "  <tbody>\n",
              "    <tr>\n",
              "      <th>0</th>\n",
              "      <td>1375586</td>\n",
              "      <td>35.0</td>\n",
              "      <td>6.0</td>\n",
              "      <td>87218.10000</td>\n",
              "      <td>0</td>\n",
              "      <td>0</td>\n",
              "      <td>1</td>\n",
              "      <td>0</td>\n",
              "      <td>0</td>\n",
              "      <td>0</td>\n",
              "      <td>0</td>\n",
              "      <td>0</td>\n",
              "      <td>0</td>\n",
              "      <td>0</td>\n",
              "      <td>0</td>\n",
              "      <td>0</td>\n",
              "      <td>0</td>\n",
              "      <td>0</td>\n",
              "      <td>0</td>\n",
              "      <td>0</td>\n",
              "      <td>0</td>\n",
              "      <td>0</td>\n",
              "      <td>0</td>\n",
              "      <td>0</td>\n",
              "      <td>0</td>\n",
              "      <td>0.0</td>\n",
              "      <td>0.0</td>\n",
              "      <td>0</td>\n",
              "      <td>0</td>\n",
              "      <td>1</td>\n",
              "      <td>2015</td>\n",
              "      <td>1</td>\n",
              "      <td>28</td>\n",
              "      <td>2015</td>\n",
              "      <td>1</td>\n",
              "      <td>12</td>\n",
              "    </tr>\n",
              "    <tr>\n",
              "      <th>1</th>\n",
              "      <td>1050611</td>\n",
              "      <td>23.0</td>\n",
              "      <td>35.0</td>\n",
              "      <td>35548.74000</td>\n",
              "      <td>0</td>\n",
              "      <td>0</td>\n",
              "      <td>1</td>\n",
              "      <td>0</td>\n",
              "      <td>0</td>\n",
              "      <td>0</td>\n",
              "      <td>0</td>\n",
              "      <td>0</td>\n",
              "      <td>0</td>\n",
              "      <td>0</td>\n",
              "      <td>0</td>\n",
              "      <td>0</td>\n",
              "      <td>0</td>\n",
              "      <td>0</td>\n",
              "      <td>0</td>\n",
              "      <td>0</td>\n",
              "      <td>0</td>\n",
              "      <td>0</td>\n",
              "      <td>0</td>\n",
              "      <td>0</td>\n",
              "      <td>0</td>\n",
              "      <td>0.0</td>\n",
              "      <td>0.0</td>\n",
              "      <td>0</td>\n",
              "      <td>1</td>\n",
              "      <td>0</td>\n",
              "      <td>2015</td>\n",
              "      <td>1</td>\n",
              "      <td>28</td>\n",
              "      <td>2012</td>\n",
              "      <td>8</td>\n",
              "      <td>10</td>\n",
              "    </tr>\n",
              "    <tr>\n",
              "      <th>2</th>\n",
              "      <td>1050612</td>\n",
              "      <td>23.0</td>\n",
              "      <td>35.0</td>\n",
              "      <td>122179.11000</td>\n",
              "      <td>0</td>\n",
              "      <td>0</td>\n",
              "      <td>1</td>\n",
              "      <td>0</td>\n",
              "      <td>0</td>\n",
              "      <td>0</td>\n",
              "      <td>0</td>\n",
              "      <td>0</td>\n",
              "      <td>0</td>\n",
              "      <td>0</td>\n",
              "      <td>0</td>\n",
              "      <td>0</td>\n",
              "      <td>0</td>\n",
              "      <td>0</td>\n",
              "      <td>0</td>\n",
              "      <td>0</td>\n",
              "      <td>0</td>\n",
              "      <td>0</td>\n",
              "      <td>0</td>\n",
              "      <td>0</td>\n",
              "      <td>0</td>\n",
              "      <td>0.0</td>\n",
              "      <td>0.0</td>\n",
              "      <td>0</td>\n",
              "      <td>1</td>\n",
              "      <td>0</td>\n",
              "      <td>2015</td>\n",
              "      <td>1</td>\n",
              "      <td>28</td>\n",
              "      <td>2012</td>\n",
              "      <td>8</td>\n",
              "      <td>10</td>\n",
              "    </tr>\n",
              "    <tr>\n",
              "      <th>3</th>\n",
              "      <td>1050613</td>\n",
              "      <td>22.0</td>\n",
              "      <td>35.0</td>\n",
              "      <td>119775.54000</td>\n",
              "      <td>0</td>\n",
              "      <td>0</td>\n",
              "      <td>0</td>\n",
              "      <td>0</td>\n",
              "      <td>0</td>\n",
              "      <td>0</td>\n",
              "      <td>0</td>\n",
              "      <td>0</td>\n",
              "      <td>0</td>\n",
              "      <td>1</td>\n",
              "      <td>0</td>\n",
              "      <td>0</td>\n",
              "      <td>0</td>\n",
              "      <td>0</td>\n",
              "      <td>0</td>\n",
              "      <td>0</td>\n",
              "      <td>0</td>\n",
              "      <td>0</td>\n",
              "      <td>0</td>\n",
              "      <td>0</td>\n",
              "      <td>0</td>\n",
              "      <td>0.0</td>\n",
              "      <td>0.0</td>\n",
              "      <td>0</td>\n",
              "      <td>1</td>\n",
              "      <td>0</td>\n",
              "      <td>2015</td>\n",
              "      <td>1</td>\n",
              "      <td>28</td>\n",
              "      <td>2012</td>\n",
              "      <td>8</td>\n",
              "      <td>10</td>\n",
              "    </tr>\n",
              "    <tr>\n",
              "      <th>4</th>\n",
              "      <td>1050614</td>\n",
              "      <td>23.0</td>\n",
              "      <td>35.0</td>\n",
              "      <td>139646.15094</td>\n",
              "      <td>0</td>\n",
              "      <td>0</td>\n",
              "      <td>1</td>\n",
              "      <td>0</td>\n",
              "      <td>0</td>\n",
              "      <td>0</td>\n",
              "      <td>0</td>\n",
              "      <td>0</td>\n",
              "      <td>0</td>\n",
              "      <td>0</td>\n",
              "      <td>0</td>\n",
              "      <td>0</td>\n",
              "      <td>0</td>\n",
              "      <td>0</td>\n",
              "      <td>0</td>\n",
              "      <td>0</td>\n",
              "      <td>0</td>\n",
              "      <td>0</td>\n",
              "      <td>0</td>\n",
              "      <td>0</td>\n",
              "      <td>0</td>\n",
              "      <td>0.0</td>\n",
              "      <td>0.0</td>\n",
              "      <td>0</td>\n",
              "      <td>0</td>\n",
              "      <td>1</td>\n",
              "      <td>2015</td>\n",
              "      <td>1</td>\n",
              "      <td>28</td>\n",
              "      <td>2012</td>\n",
              "      <td>8</td>\n",
              "      <td>10</td>\n",
              "    </tr>\n",
              "  </tbody>\n",
              "</table>\n",
              "</div>"
            ],
            "text/plain": [
              "   ncodpers   age  antiguedad         renta  ind_ahor_fin_ult1  \\\n",
              "0   1375586  35.0         6.0   87218.10000                  0   \n",
              "1   1050611  23.0        35.0   35548.74000                  0   \n",
              "2   1050612  23.0        35.0  122179.11000                  0   \n",
              "3   1050613  22.0        35.0  119775.54000                  0   \n",
              "4   1050614  23.0        35.0  139646.15094                  0   \n",
              "\n",
              "   ind_aval_fin_ult1  ind_cco_fin_ult1  ind_cder_fin_ult1  ind_cno_fin_ult1  \\\n",
              "0                  0                 1                  0                 0   \n",
              "1                  0                 1                  0                 0   \n",
              "2                  0                 1                  0                 0   \n",
              "3                  0                 0                  0                 0   \n",
              "4                  0                 1                  0                 0   \n",
              "\n",
              "   ind_ctju_fin_ult1  ind_ctma_fin_ult1  ind_ctop_fin_ult1  ind_ctpp_fin_ult1  \\\n",
              "0                  0                  0                  0                  0   \n",
              "1                  0                  0                  0                  0   \n",
              "2                  0                  0                  0                  0   \n",
              "3                  0                  0                  0                  0   \n",
              "4                  0                  0                  0                  0   \n",
              "\n",
              "   ind_deco_fin_ult1  ind_deme_fin_ult1  ind_dela_fin_ult1  ind_ecue_fin_ult1  \\\n",
              "0                  0                  0                  0                  0   \n",
              "1                  0                  0                  0                  0   \n",
              "2                  0                  0                  0                  0   \n",
              "3                  1                  0                  0                  0   \n",
              "4                  0                  0                  0                  0   \n",
              "\n",
              "   ind_fond_fin_ult1  ind_hip_fin_ult1  ind_plan_fin_ult1  ind_pres_fin_ult1  \\\n",
              "0                  0                 0                  0                  0   \n",
              "1                  0                 0                  0                  0   \n",
              "2                  0                 0                  0                  0   \n",
              "3                  0                 0                  0                  0   \n",
              "4                  0                 0                  0                  0   \n",
              "\n",
              "   ind_reca_fin_ult1  ind_tjcr_fin_ult1  ind_valo_fin_ult1  ind_viv_fin_ult1  \\\n",
              "0                  0                  0                  0                 0   \n",
              "1                  0                  0                  0                 0   \n",
              "2                  0                  0                  0                 0   \n",
              "3                  0                  0                  0                 0   \n",
              "4                  0                  0                  0                 0   \n",
              "\n",
              "   ind_nomina_ult1  ind_nom_pens_ult1  ind_recibo_ult1  0.0  1.0  \\\n",
              "0              0.0                0.0                0    0    1   \n",
              "1              0.0                0.0                0    1    0   \n",
              "2              0.0                0.0                0    1    0   \n",
              "3              0.0                0.0                0    1    0   \n",
              "4              0.0                0.0                0    0    1   \n",
              "\n",
              "   fecha_dato_year  fecha_dato_month  fecha_dato_day  fecha_alta_year  \\\n",
              "0             2015                 1              28             2015   \n",
              "1             2015                 1              28             2012   \n",
              "2             2015                 1              28             2012   \n",
              "3             2015                 1              28             2012   \n",
              "4             2015                 1              28             2012   \n",
              "\n",
              "   fecha_alta_month  fecha_alta_day  \n",
              "0                 1              12  \n",
              "1                 8              10  \n",
              "2                 8              10  \n",
              "3                 8              10  \n",
              "4                 8              10  "
            ]
          },
          "metadata": {
            "tags": []
          },
          "execution_count": 390
        }
      ]
    },
    {
      "cell_type": "markdown",
      "metadata": {
        "id": "5X8o_T5x02tU",
        "colab_type": "text"
      },
      "source": [
        "### Baseline"
      ]
    },
    {
      "cell_type": "code",
      "metadata": {
        "id": "9EmOd6ey02ta",
        "colab_type": "code",
        "colab": {}
      },
      "source": [
        "ncodpers = X_test['ncodpers'].values\n",
        "\n",
        "pred_df = pd.DataFrame({'ncodpers':ncodpers, 'added_products': predictions})\n",
        "pred_df.to_csv('data/predictions.csv', columns=pred_df.columns)"
      ],
      "execution_count": 0,
      "outputs": []
    },
    {
      "cell_type": "markdown",
      "metadata": {
        "colab_type": "text",
        "id": "EdsMF6a14hPv"
      },
      "source": [
        "#Functions to assess the accuracy of the model"
      ]
    },
    {
      "cell_type": "markdown",
      "metadata": {
        "colab_type": "text",
        "id": "DBbIhsy44hPx"
      },
      "source": [
        "For the general accuracy:"
      ]
    },
    {
      "cell_type": "code",
      "metadata": {
        "colab_type": "code",
        "id": "LMNzCxAn4hPy",
        "colab": {}
      },
      "source": [
        "def accuracy(y_hat, y_test):\n",
        "  return 1.0*np.sum(y_hat == y_test) / len(y_test)"
      ],
      "execution_count": 0,
      "outputs": []
    },
    {
      "cell_type": "markdown",
      "metadata": {
        "colab_type": "text",
        "id": "xdh0kWH14hP4"
      },
      "source": [
        "Then, we check the number of times where a customer has bought a product, and if this product has been predicted by the model"
      ]
    },
    {
      "cell_type": "code",
      "metadata": {
        "colab_type": "code",
        "id": "iddW-uVl4hP5",
        "colab": {}
      },
      "source": [
        "def accuracy_2(y_hat, y_test):\n",
        "  correct = 0\n",
        "  for i in range(len(y_test)):\n",
        "    if y_test[i] == 1:\n",
        "      correct += y_hat[i]\n",
        "\n",
        "  if sum(y_test) > 0:\n",
        "    return 1.0*correct/sum(y_test)\n",
        "  else:\n",
        "    return \"This product has never been bought by the customers, and has been predicted \\\"bought\\\" \" + str(sum(y_hat)) + \" times by the model\""
      ],
      "execution_count": 0,
      "outputs": []
    },
    {
      "cell_type": "markdown",
      "metadata": {
        "colab_type": "text",
        "id": "_5LH77504hP8"
      },
      "source": [
        "Finally, we count the number of times where we have predicted something, and this prediction was correct"
      ]
    },
    {
      "cell_type": "code",
      "metadata": {
        "colab_type": "code",
        "id": "8kpee2kI4hP8",
        "colab": {}
      },
      "source": [
        "def accuracy_model(y_hat, y_test):\n",
        "  correct = 0\n",
        "  for i in range(len(y_hat)):\n",
        "    if y_hat[i] == 1:\n",
        "      correct += y_test[i]\n",
        "      \n",
        "  if sum(y_hat) > 0:\n",
        "    return 1.0*correct/sum(y_hat)\n",
        "  else:\n",
        "    return \"This product has never been predicted as bought by the model, and has been bought \" + str(sum(y_test)) + \" times by the customers\""
      ],
      "execution_count": 0,
      "outputs": []
    },
    {
      "cell_type": "markdown",
      "metadata": {
        "colab_type": "text",
        "id": "Hnz-IKLt4hP-"
      },
      "source": [
        "This function will compute the accuracy of a full line of predictions:"
      ]
    },
    {
      "cell_type": "code",
      "metadata": {
        "colab_type": "code",
        "id": "IuLT7hPz4hP_",
        "colab": {}
      },
      "source": [
        "def accuracy_full_line(y_hat, y_test):\n",
        "  correct = 0\n",
        "  nb_products = len(y_hat[1])\n",
        "  for i in range(len(y_hat)):\n",
        "    test = 0\n",
        "    for j in range(nb_products):\n",
        "      test += (y_hat[i][j] == y_test[i][j])\n",
        "    if test == nb_products:\n",
        "      correct += 1\n",
        "  return correct/len(y_test)"
      ],
      "execution_count": 0,
      "outputs": []
    },
    {
      "cell_type": "markdown",
      "metadata": {
        "colab_type": "text",
        "id": "3uqkD_A04hQD"
      },
      "source": [
        "Thess functions return the accuracy of the predictions by products for each line"
      ]
    },
    {
      "cell_type": "code",
      "metadata": {
        "colab_type": "code",
        "id": "lBDEK9VB4hQE",
        "colab": {}
      },
      "source": [
        "def accuracy_by_product(y_hat, y_test):\n",
        "  E = []\n",
        "  for i in range(len(y_hat[1])):\n",
        "    E.append(accuracy(y_hat[:,i],y_test[:,i]))\n",
        "  return E\n",
        "\n",
        "def accuracy_2_by_product(y_hat, y_test):\n",
        "  E = []\n",
        "  for i in range(len(y_hat[1])):\n",
        "    E.append(accuracy_2(y_hat[:,i],y_test[:,i]))\n",
        "  return E\n",
        "\n",
        "def accuracy_model_by_product(y_hat, y_test):\n",
        "  E = []\n",
        "  for i in range(len(y_hat[1])):\n",
        "    E.append(accuracy_model(y_hat[:,i],y_test[:,i]))\n",
        "  return E"
      ],
      "execution_count": 0,
      "outputs": []
    },
    {
      "cell_type": "markdown",
      "metadata": {
        "id": "XF9U79XbzTt3",
        "colab_type": "text"
      },
      "source": [
        "#Baseline"
      ]
    },
    {
      "cell_type": "code",
      "metadata": {
        "id": "M2DYVTGMkWbH",
        "colab_type": "code",
        "outputId": "62d44776-3671-40d4-fce3-1249fe59aa51",
        "colab": {
          "base_uri": "https://localhost:8080/",
          "height": 34
        }
      },
      "source": [
        "#Need to change this later, and to take into account all the features\n",
        "X_cat = np.concatenate([pd.get_dummies(train_df[x]) for x in columns_cat], axis=1)\n",
        "#We don't need the codpers to make predictions based on the profile\n",
        "X_num = train_df[columns_num[:-1]]\n",
        "X = np.concatenate([X_cat, X_num], axis=1)\n",
        "print(X.shape)\n"
      ],
      "execution_count": 0,
      "outputs": [
        {
          "output_type": "stream",
          "text": [
            "(989027, 30)\n"
          ],
          "name": "stdout"
        }
      ]
    },
    {
      "cell_type": "code",
      "metadata": {
        "id": "0DooozBxkY1q",
        "colab_type": "code",
        "colab": {}
      },
      "source": [
        "# standardize input features\n",
        "X_mean = X.mean(axis=0)\n",
        "X_std = X.std(axis=0)\n",
        "X = (X - X_mean) / X_std"
      ],
      "execution_count": 0,
      "outputs": []
    },
    {
      "cell_type": "markdown",
      "metadata": {
        "id": "rLffu40AyFzE",
        "colab_type": "text"
      },
      "source": [
        "###For only one product: (product number 7)\n",
        "For this first example, we just try to predict for one product, and the prediction is based on the features in \"columns_cat\""
      ]
    },
    {
      "cell_type": "code",
      "metadata": {
        "id": "HeWnUDMKs2xZ",
        "colab_type": "code",
        "outputId": "81366c59-b3c9-4345-f040-4a0d23eb877c",
        "colab": {
          "base_uri": "https://localhost:8080/",
          "height": 67
        }
      },
      "source": [
        "mat = train_df[y_variables].values\n",
        "Y = mat[:,7].astype(\"int\")\n",
        "print(X.shape)\n",
        "print(Y.shape)\n",
        "print(\"number of 1 values :\", sum(Y))"
      ],
      "execution_count": 0,
      "outputs": [
        {
          "output_type": "stream",
          "text": [
            "(989027, 30)\n",
            "(989027,)\n",
            "number of 1 values : 211687\n"
          ],
          "name": "stdout"
        }
      ]
    },
    {
      "cell_type": "code",
      "metadata": {
        "id": "8X0cVcy8kaYT",
        "colab_type": "code",
        "outputId": "aef80637-ae7e-4784-88ff-539197c66f3c",
        "colab": {
          "base_uri": "https://localhost:8080/",
          "height": 50
        }
      },
      "source": [
        "#Train/test split\n",
        "train_perc = 0.75 # percentage of training data\n",
        "split_point = int(train_perc*len(Y))\n",
        "perm = np.random.permutation(len(Y))\n",
        "ix_train = perm[:split_point]\n",
        "ix_test = perm[split_point:]\n",
        "X_train = X[ix_train,:]\n",
        "X_test = X[ix_test,:]\n",
        "Y_train = Y[ix_train]\n",
        "Y_test = Y[ix_test]\n",
        "print(\"num train: %d\" % len(Y_train))\n",
        "print(\"num test: %d\" % len(Y_test))"
      ],
      "execution_count": 0,
      "outputs": [
        {
          "output_type": "stream",
          "text": [
            "num train: 741770\n",
            "num test: 247257\n"
          ],
          "name": "stdout"
        }
      ]
    },
    {
      "cell_type": "code",
      "metadata": {
        "id": "4pNWFTLtkcB4",
        "colab_type": "code",
        "outputId": "9066bd56-16b7-4120-cba1-b639c2cad362",
        "colab": {
          "base_uri": "https://localhost:8080/",
          "height": 67
        }
      },
      "source": [
        "# create and fit logistic regression model\n",
        "logreg = linear_model.LogisticRegression(solver='lbfgs', multi_class='auto', max_iter = 5000)\n",
        "logreg.fit(X_train, Y_train)\n",
        "\n",
        "# make predictions for test set\n",
        "Y_hat = logreg.predict(X_test)\n",
        "print(\"predictions:\", Y_hat)\n",
        "print(\"true values:\", Y_test)\n",
        "\n",
        "# evaluate prediction accuracy\n",
        "print(\"Accuracy:\", 1.0*np.sum(Y_hat == Y_test) / len(Y_test))"
      ],
      "execution_count": 0,
      "outputs": [
        {
          "output_type": "stream",
          "text": [
            "predictions: [0 0 0 ... 0 1 0]\n",
            "true values: [0 0 0 ... 0 1 0]\n",
            "Accuracy: 0.7674848437051327\n"
          ],
          "name": "stdout"
        }
      ]
    },
    {
      "cell_type": "code",
      "metadata": {
        "id": "4qHXjF9akh0W",
        "colab_type": "code",
        "outputId": "67c2e216-aac9-43f8-9ecf-4b159b3c8594",
        "colab": {
          "base_uri": "https://localhost:8080/",
          "height": 50
        }
      },
      "source": [
        "print(sum(Y_hat))\n",
        "print(sum(Y_test))"
      ],
      "execution_count": 0,
      "outputs": [
        {
          "output_type": "stream",
          "text": [
            "29559\n",
            "52930\n"
          ],
          "name": "stdout"
        }
      ]
    },
    {
      "cell_type": "markdown",
      "metadata": {
        "id": "iLClnM9dyLmx",
        "colab_type": "text"
      },
      "source": [
        "###For all the products:"
      ]
    },
    {
      "cell_type": "code",
      "metadata": {
        "id": "ELyR2P7SyNK8",
        "colab_type": "code",
        "outputId": "64d29c41-963d-49bb-9f31-df45b639bd11",
        "colab": {
          "base_uri": "https://localhost:8080/",
          "height": 50
        }
      },
      "source": [
        "mat = train_df[y_variables].values\n",
        "Y = mat[:].astype(\"int\")\n",
        "print(X.shape)\n",
        "print(Y.shape)"
      ],
      "execution_count": 0,
      "outputs": [
        {
          "output_type": "stream",
          "text": [
            "(989027, 30)\n",
            "(989027, 24)\n"
          ],
          "name": "stdout"
        }
      ]
    },
    {
      "cell_type": "code",
      "metadata": {
        "id": "TEDKSpKQyUwo",
        "colab_type": "code",
        "outputId": "61354e85-43e3-4a99-9bb5-9d3fd5406ce5",
        "colab": {
          "base_uri": "https://localhost:8080/",
          "height": 50
        }
      },
      "source": [
        "#Train/test split\n",
        "train_perc = 0.75 # percentage of training data\n",
        "split_point = int(train_perc*len(Y))\n",
        "perm = np.random.permutation(len(Y))\n",
        "ix_train = perm[:split_point]\n",
        "ix_test = perm[split_point:]\n",
        "X_train = X[ix_train,:]\n",
        "X_test = X[ix_test,:]\n",
        "Y_train = Y[ix_train]\n",
        "Y_test = Y[ix_test]\n",
        "print(\"num train: %d\" % len(Y_train))\n",
        "print(\"num test: %d\" % len(Y_test))"
      ],
      "execution_count": 0,
      "outputs": [
        {
          "output_type": "stream",
          "text": [
            "num train: 741770\n",
            "num test: 247257\n"
          ],
          "name": "stdout"
        }
      ]
    },
    {
      "cell_type": "code",
      "metadata": {
        "id": "gUdLV7C_yiNy",
        "colab_type": "code",
        "outputId": "d37e7ed8-e93e-4f31-969a-e86af48794cb",
        "colab": {
          "base_uri": "https://localhost:8080/",
          "height": 118
        }
      },
      "source": [
        "from sklearn.tree import DecisionTreeClassifier\n",
        "\n",
        "dtc = DecisionTreeClassifier()\n",
        "dtc.fit(X_train, Y_train)"
      ],
      "execution_count": 0,
      "outputs": [
        {
          "output_type": "execute_result",
          "data": {
            "text/plain": [
              "DecisionTreeClassifier(ccp_alpha=0.0, class_weight=None, criterion='gini',\n",
              "                       max_depth=None, max_features=None, max_leaf_nodes=None,\n",
              "                       min_impurity_decrease=0.0, min_impurity_split=None,\n",
              "                       min_samples_leaf=1, min_samples_split=2,\n",
              "                       min_weight_fraction_leaf=0.0, presort='deprecated',\n",
              "                       random_state=None, splitter='best')"
            ]
          },
          "metadata": {
            "tags": []
          },
          "execution_count": 247
        }
      ]
    },
    {
      "cell_type": "code",
      "metadata": {
        "id": "XmbmBXlfy5mE",
        "colab_type": "code",
        "colab": {}
      },
      "source": [
        "Y_hat = dtc.predict(X_test)"
      ],
      "execution_count": 0,
      "outputs": []
    },
    {
      "cell_type": "code",
      "metadata": {
        "id": "b5Tgs4YIbNFN",
        "colab_type": "code",
        "outputId": "afcdff59-ea34-4a15-8ee7-fef45debc64f",
        "colab": {
          "base_uri": "https://localhost:8080/",
          "height": 104
        }
      },
      "source": [
        "print(accuracy_full_line(Y_hat, Y_test))\n",
        "print(accuracy_by_product(Y_hat, Y_test))\n",
        "print(accuracy_2_by_product(Y_hat, Y_test))\n",
        "print(accuracy_model_by_product(Y_hat, Y_test))"
      ],
      "execution_count": 0,
      "outputs": [
        {
          "output_type": "stream",
          "text": [
            "0.7257347618065414\n",
            "[0.9999555118763068, 0.9999919112502376, 0.8799750866507319, 0.9996360062606923, 0.9379107568238715, 0.9996926275090291, 0.9901115034154746, 0.9348248987895186, 0.9688866240389554, 0.9974722656992522, 0.9978888363120154, 0.9660636503718802, 0.9405032011227185, 0.9845262217045423, 0.9945198720359788, 0.9918182296153395, 0.9975086650731829, 0.9613519536352864, 0.9542500313439053, 0.9787872537481245, 0.9963074857334676, 0.949323982738608, 0.9447983272465491, 0.9021827491233817]\n",
            "[0.7692307692307693, 0.875, 0.9187685738501646, 0.5918367346938775, 0.6928834682168775, 0.9884921805842432, 0.4924, 0.8385700846660396, 0.7730133752950433, 0.4377431906614786, 0.6582597730138714, 0.734344894026975, 0.7101222903729666, 0.7051739518287243, 0.7023519870235199, 0.7041678016889131, 0.6691449814126395, 0.7148928737773638, 0.6344112115512953, 0.7144740845927579, 0.7064555420219245, 0.6275310437409106, 0.6364461018999144, 0.6905862144049548]\n",
            "[0.9375, 1.0, 0.9217798922549499, 0.7435897435897436, 0.7149970594001176, 0.9890758783584293, 0.5114250103863731, 0.8553881585260532, 0.7901085645355851, 0.40106951871657753, 0.6752910737386805, 0.7540030911901082, 0.7241084608810504, 0.720163984208928, 0.736081597960051, 0.7339579784213515, 0.7346938775510204, 0.7249380092100602, 0.6642317220351902, 0.7435085497150095, 0.7291011942174733, 0.6564657694558221, 0.6624527906000839, 0.7146541148193586]\n"
          ],
          "name": "stdout"
        }
      ]
    },
    {
      "cell_type": "markdown",
      "metadata": {
        "id": "0A2YKvO3yioC",
        "colab_type": "text"
      },
      "source": [
        "#And now we will use Pyro. First model: predictions for one product based on the profile of the customers\n",
        "\n",
        "First we use Pyro for one product"
      ]
    },
    {
      "cell_type": "code",
      "metadata": {
        "id": "pOfbU0Ras8oI",
        "colab_type": "code",
        "colab": {}
      },
      "source": [
        "#Need to change this later, and to take into account all the features\n",
        "X_cat = np.concatenate([pd.get_dummies(train_df[x]) for x in columns_cat], axis=1)\n",
        "#We don't need the codpers to make predictions based on the profile\n",
        "X_num = train_df[columns_num[:-1]]\n",
        "X = np.concatenate([X_cat, X_num], axis=1)\n",
        "# standardize input features\n",
        "X_mean = X.mean(axis=0)\n",
        "X_std = X.std(axis=0)\n",
        "X = (X - X_mean) / X_std"
      ],
      "execution_count": 0,
      "outputs": []
    },
    {
      "cell_type": "code",
      "metadata": {
        "id": "hz9iT1XZs_GS",
        "colab_type": "code",
        "outputId": "f1074663-3ebc-4738-c1b1-b3ade439a5c7",
        "colab": {
          "base_uri": "https://localhost:8080/",
          "height": 51
        }
      },
      "source": [
        "mat = train_df[y_variables].values\n",
        "Y = mat[:].astype(\"int\")\n",
        "print(X.shape)\n",
        "print(Y.shape)"
      ],
      "execution_count": 79,
      "outputs": [
        {
          "output_type": "stream",
          "text": [
            "(2321568, 30)\n",
            "(3756556, 24)\n"
          ],
          "name": "stdout"
        }
      ]
    },
    {
      "cell_type": "code",
      "metadata": {
        "id": "665r8vwguIqy",
        "colab_type": "code",
        "outputId": "ff1e7fd6-af16-49bd-9631-0bc459b64e38",
        "colab": {
          "base_uri": "https://localhost:8080/",
          "height": 51
        }
      },
      "source": [
        "#Train/test split\n",
        "train_perc = 0.75 # percentage of training data\n",
        "split_point = int(train_perc*len(Y))\n",
        "perm = np.random.permutation(len(Y))\n",
        "ix_train = perm[:split_point]\n",
        "ix_test = perm[split_point:]\n",
        "X_train = X[ix_train,:]\n",
        "X_test = X[ix_test,:]\n",
        "Y_train = Y[ix_train]\n",
        "Y_test = Y[ix_test]\n",
        "print(\"num train: %d\" % len(Y_train))\n",
        "print(\"num test: %d\" % len(Y_test))"
      ],
      "execution_count": 84,
      "outputs": [
        {
          "output_type": "stream",
          "text": [
            "num train: 1741176\n",
            "num test: 580392\n"
          ],
          "name": "stdout"
        }
      ]
    },
    {
      "cell_type": "code",
      "metadata": {
        "id": "jxhV7xh6kjQm",
        "colab_type": "code",
        "colab": {}
      },
      "source": [
        "def first_model(X, obs=None):\n",
        "    input_dim = X.shape[1]\n",
        "    n_cat = 2\n",
        "\n",
        "    alpha = pyro.sample(\"alpha\", dist.Normal(torch.zeros(1, n_cat), 5.*torch.ones(1, n_cat)))  # Prior for the bias/intercept\n",
        "    beta  = pyro.sample(\"beta\", dist.Normal(torch.zeros(input_dim, n_cat), 5.*torch.ones(input_dim, n_cat))) # Priors for the regression coeffcients\n",
        "    \n",
        "    \n",
        "    with pyro.plate(\"data\"):\n",
        "      y = pyro.sample(\"y\", dist.Categorical(logits=alpha + X.matmul(beta)), obs=obs)\n",
        "        \n",
        "    return y"
      ],
      "execution_count": 0,
      "outputs": []
    },
    {
      "cell_type": "code",
      "metadata": {
        "id": "DwmHM6JDkkwF",
        "colab_type": "code",
        "colab": {}
      },
      "source": [
        "# Prepare data for Pyro\n",
        "X_train = torch.tensor(X_train).float()\n",
        "Y_train = torch.tensor(Y_train).float()"
      ],
      "execution_count": 0,
      "outputs": []
    },
    {
      "cell_type": "code",
      "metadata": {
        "id": "GJJuCPOwkmNf",
        "colab_type": "code",
        "outputId": "58b69b27-fa56-4c52-cbf4-5df769eb64d2",
        "colab": {
          "base_uri": "https://localhost:8080/",
          "height": 218
        }
      },
      "source": [
        "%%time\n",
        "\n",
        "# Define guide function\n",
        "guide = AutoDiagonalNormal(first_model)\n",
        "\n",
        "# Reset parameter values\n",
        "pyro.clear_param_store()\n",
        "\n",
        "# Define the number of optimization steps\n",
        "n_steps = 5000\n",
        "\n",
        "# Setup the optimizer\n",
        "adam_params = {\"lr\": 0.001}\n",
        "optimizer = ClippedAdam(adam_params)\n",
        "\n",
        "# Setup the inference algorithm\n",
        "elbo = Trace_ELBO(num_particles=1)\n",
        "svi = SVI(first_model, guide, optimizer, loss=elbo)\n",
        "\n",
        "# Do gradient steps\n",
        "for step in range(n_steps):\n",
        "    elbo = svi.step(X_train, Y_train[:,7])\n",
        "    if step % 500 == 0:\n",
        "        print(\"[%d] ELBO: %.1f\" % (step, elbo))"
      ],
      "execution_count": 0,
      "outputs": [
        {
          "output_type": "stream",
          "text": [
            "[0] ELBO: 11154163.3\n",
            "[500] ELBO: 5413570.1\n",
            "[1000] ELBO: 1818106.2\n",
            "[1500] ELBO: 1109255.5\n",
            "[2000] ELBO: 1031153.9\n",
            "[2500] ELBO: 996176.1\n",
            "[3000] ELBO: 977484.0\n",
            "[3500] ELBO: 961824.8\n",
            "[4000] ELBO: 952058.8\n",
            "[4500] ELBO: 953506.7\n",
            "CPU times: user 1h 4min 22s, sys: 20.5 s, total: 1h 4min 43s\n",
            "Wall time: 31min 4s\n"
          ],
          "name": "stdout"
        }
      ]
    },
    {
      "cell_type": "markdown",
      "metadata": {
        "id": "bBJ1yd9AkpOW",
        "colab_type": "text"
      },
      "source": [
        "Once converged, let's extract the posterior samples for the latent variables in the model using Pyro's Predictive class:"
      ]
    },
    {
      "cell_type": "code",
      "metadata": {
        "id": "eVWI4DrwkrTT",
        "colab_type": "code",
        "colab": {}
      },
      "source": [
        "from pyro.infer import Predictive\n",
        "\n",
        "predictive = Predictive(first_model, guide=guide, num_samples=2000,\n",
        "                        return_sites=(\"beta\", \"alpha\"))\n",
        "samples = predictive(X_train, Y_train)"
      ],
      "execution_count": 0,
      "outputs": []
    },
    {
      "cell_type": "markdown",
      "metadata": {
        "id": "BgzwT2BPks-w",
        "colab_type": "text"
      },
      "source": [
        "Lets plot the posterior distributions of the parameters:"
      ]
    },
    {
      "cell_type": "code",
      "metadata": {
        "id": "E5ehb5a_kyM0",
        "colab_type": "code",
        "outputId": "0f511908-f305-4a83-d23e-98877b16919d",
        "colab": {
          "base_uri": "https://localhost:8080/",
          "height": 50
        }
      },
      "source": [
        "beta_samples = samples[\"beta\"].detach().numpy()\n",
        "alpha_samples = samples[\"alpha\"].detach().numpy()\n",
        "print(beta_samples.shape)\n",
        "print(alpha_samples.shape)"
      ],
      "execution_count": 0,
      "outputs": [
        {
          "output_type": "stream",
          "text": [
            "(2000, 82, 2)\n",
            "(2000, 1, 2)\n"
          ],
          "name": "stdout"
        }
      ]
    },
    {
      "cell_type": "code",
      "metadata": {
        "id": "8jDw-EInkzk7",
        "colab_type": "code",
        "outputId": "ac23e5f3-0581-40ca-f71c-69413fec619c",
        "colab": {
          "base_uri": "https://localhost:8080/",
          "height": 265
        }
      },
      "source": [
        "#attempt to plot the beta, not very successful, there are too much beta\n",
        "for c in range(beta_samples.shape[1]):\n",
        "    sns.distplot(beta_samples[:,c])\n",
        "#plt.legend([\"beta[%d]\" % c for c in range(119)])\n",
        "plt.show()"
      ],
      "execution_count": 0,
      "outputs": [
        {
          "output_type": "display_data",
          "data": {
            "image/png": "[encoded data removed]",
            "text/plain": [
              "<Figure size 432x288 with 1 Axes>"
            ]
          },
          "metadata": {
            "tags": [],
            "needs_background": "light"
          }
        }
      ]
    },
    {
      "cell_type": "markdown",
      "metadata": {
        "id": "CS8CK1_Zk6SE",
        "colab_type": "text"
      },
      "source": [
        "We can now use the inferred posteriors to make predictions:"
      ]
    },
    {
      "cell_type": "code",
      "metadata": {
        "id": "Uvq03Bghk36E",
        "colab_type": "code",
        "colab": {}
      },
      "source": [
        "# extract expected values of the parameters\n",
        "alpha_hat = samples[\"alpha\"].mean(axis=0).detach().numpy()\n",
        "beta_hat = samples[\"beta\"].mean(axis=0).detach().numpy()"
      ],
      "execution_count": 0,
      "outputs": []
    },
    {
      "cell_type": "code",
      "metadata": {
        "id": "ahjY5Q-Xk5C7",
        "colab_type": "code",
        "outputId": "22b2bfec-5747-44fe-b607-7cb5a7ad051a",
        "colab": {
          "base_uri": "https://localhost:8080/",
          "height": 67
        }
      },
      "source": [
        "# make predictions for test set\n",
        "Y_hat = alpha_hat + np.dot(X_test, beta_hat)\n",
        "Y_hat = np.argmax(Y_hat, axis=1)\n",
        "\n",
        "print(accuracy(Y_hat, Y_test[:,7]))\n",
        "print(accuracy_2(Y_hat, Y_test[:,7]))\n",
        "print(accuracy_model(Y_hat, Y_test[:,7]))"
      ],
      "execution_count": 0,
      "outputs": [
        {
          "output_type": "stream",
          "text": [
            "0.7870110856315493\n",
            "0.03697102988017594\n",
            "0.5106048703849175\n"
          ],
          "name": "stdout"
        }
      ]
    },
    {
      "cell_type": "code",
      "metadata": {
        "id": "ZZME1STCzm66",
        "colab_type": "code",
        "outputId": "44371a87-a4f0-45ed-9ee0-ed1b29b15e73",
        "colab": {
          "base_uri": "https://localhost:8080/",
          "height": 67
        }
      },
      "source": [
        "# make predictions for test set with all the lines\n",
        "Y_hat = alpha_hat + np.dot(X_test, beta_hat)\n",
        "Y_hat = np.argmax(Y_hat, axis=1)\n",
        "\n",
        "print(accuracy(Y_hat, Y_test[:,7]))\n",
        "print(accuracy_2(Y_hat, Y_test[:,7]))\n",
        "print(accuracy_model(Y_hat, Y_test[:,7]))"
      ],
      "execution_count": 0,
      "outputs": [
        {
          "output_type": "stream",
          "text": [
            "0.8334985555918772\n",
            "0.06615119733099564\n",
            "0.5583710407239819\n"
          ],
          "name": "stdout"
        }
      ]
    },
    {
      "cell_type": "markdown",
      "metadata": {
        "id": "5O7nbPI_ns8E",
        "colab_type": "text"
      },
      "source": [
        "#Second model: predictions for all the products based on the profile of the customers"
      ]
    },
    {
      "cell_type": "code",
      "metadata": {
        "id": "yn0nOcBm_ukL",
        "colab_type": "code",
        "colab": {}
      },
      "source": [
        "#Need to change this later, and to take into account all the features\n",
        "X_cat = np.concatenate([pd.get_dummies(train_df[x]) for x in columns_cat], axis=1)\n",
        "#We don't need the codpers to make predictions based on the profile\n",
        "X_num = train_df[columns_num[:-1]]\n",
        "X = np.concatenate([X_cat, X_num], axis=1)\n",
        "# standardize input features\n",
        "X_mean = X.mean(axis=0)\n",
        "X_std = X.std(axis=0)\n",
        "X = (X - X_mean) / X_std"
      ],
      "execution_count": 0,
      "outputs": []
    },
    {
      "cell_type": "code",
      "metadata": {
        "id": "leQchlvWomAI",
        "colab_type": "code",
        "outputId": "1e2d0746-6499-4032-83b1-62d952d6509f",
        "colab": {
          "base_uri": "https://localhost:8080/",
          "height": 50
        }
      },
      "source": [
        "mat = train_df[y_variables].values\n",
        "Y = mat[:].astype(\"int\")\n",
        "print(X.shape)\n",
        "print(Y.shape)\n"
      ],
      "execution_count": 0,
      "outputs": [
        {
          "output_type": "stream",
          "text": [
            "(989027, 30)\n",
            "(989027, 24)\n"
          ],
          "name": "stdout"
        }
      ]
    },
    {
      "cell_type": "code",
      "metadata": {
        "id": "2Gkzn-dKorNW",
        "colab_type": "code",
        "outputId": "0b105769-e4dc-429a-e2f0-cf6f84bb650e",
        "colab": {
          "base_uri": "https://localhost:8080/",
          "height": 50
        }
      },
      "source": [
        "#Train/test split\n",
        "train_perc = 0.75 # percentage of training data\n",
        "split_point = int(train_perc*len(Y))\n",
        "perm = np.random.permutation(len(Y))\n",
        "ix_train = perm[:split_point]\n",
        "ix_test = perm[split_point:]\n",
        "X_train = X[ix_train,:]\n",
        "X_test = X[ix_test,:]\n",
        "Y_train = Y[ix_train]\n",
        "Y_test = Y[ix_test]\n",
        "print(\"num train: %d\" % len(Y_train))\n",
        "print(\"num test: %d\" % len(Y_test))"
      ],
      "execution_count": 0,
      "outputs": [
        {
          "output_type": "stream",
          "text": [
            "num train: 741770\n",
            "num test: 247257\n"
          ],
          "name": "stdout"
        }
      ]
    },
    {
      "cell_type": "code",
      "metadata": {
        "id": "hpWV2PJI_9J-",
        "colab_type": "code",
        "colab": {}
      },
      "source": [
        "# Prepare data for Pyro\n",
        "X_train = torch.tensor(X_train[:2000,:]).float()\n",
        "Y_train = torch.tensor(Y_train[:2000,:]).float()"
      ],
      "execution_count": 0,
      "outputs": []
    },
    {
      "cell_type": "code",
      "metadata": {
        "id": "604hxdiu4s9l",
        "colab_type": "code",
        "colab": {}
      },
      "source": [
        "def categorical_model(X, obs=None):\n",
        "    input_dim = X.shape[1]\n",
        "    n_cat = obs.shape[1]\n",
        "\n",
        "    alpha = pyro.sample(\"alpha\", dist.Normal(torch.zeros(1, n_cat), 5.*torch.ones(1, n_cat)))\n",
        "    beta  = pyro.sample(\"beta\", dist.Normal(torch.zeros(input_dim, n_cat), 5.*torch.ones(input_dim, n_cat)))\n",
        "\n",
        "    with pyro.plate(\"data\"):     \n",
        "        y = pyro.sample(\"y\", dist.OneHotCategorical(logits=alpha + X.matmul(beta)), obs=obs)\n",
        "        \n",
        "    return y"
      ],
      "execution_count": 0,
      "outputs": []
    },
    {
      "cell_type": "code",
      "metadata": {
        "id": "HiHO0fjn4s9_",
        "colab_type": "code",
        "outputId": "5d88377e-ff5f-4523-bd4f-2ff055b23a93",
        "colab": {
          "base_uri": "https://localhost:8080/",
          "height": 252
        }
      },
      "source": [
        "%%time\n",
        "\n",
        "# Define guide function\n",
        "guide = AutoDiagonalNormal(categorical_model)\n",
        "\n",
        "# Reset parameter values\n",
        "pyro.clear_param_store()\n",
        "\n",
        "# Define the number of optimization steps\n",
        "n_steps = 6000\n",
        "\n",
        "# Setup the optimizer\n",
        "adam_params = {\"lr\": 0.005}\n",
        "optimizer = ClippedAdam(adam_params)\n",
        "\n",
        "# Setup the inference algorithm\n",
        "elbo = Trace_ELBO(num_particles=2)\n",
        "svi = SVI(categorical_model, guide, optimizer, loss=elbo)\n",
        "\n",
        "# Do gradient steps\n",
        "for step in range(n_steps):\n",
        "    elbo = svi.step(X_train, Y_train)\n",
        "    if step % 500 == 0:\n",
        "        print(\"[%d] ELBO: %.1f\" % (step, elbo))"
      ],
      "execution_count": 0,
      "outputs": [
        {
          "output_type": "stream",
          "text": [
            "[0] ELBO: 27839.5\n",
            "[500] ELBO: 5041.9\n",
            "[1000] ELBO: 4310.7\n",
            "[1500] ELBO: 3995.4\n",
            "[2000] ELBO: 3820.1\n",
            "[2500] ELBO: 4008.2\n",
            "[3000] ELBO: 3731.1\n",
            "[3500] ELBO: 3724.6\n",
            "[4000] ELBO: 3805.8\n",
            "[4500] ELBO: 3694.3\n",
            "[5000] ELBO: 3711.1\n",
            "[5500] ELBO: 3719.7\n",
            "CPU times: user 2min 23s, sys: 746 ms, total: 2min 24s\n",
            "Wall time: 48.3 s\n"
          ],
          "name": "stdout"
        }
      ]
    },
    {
      "cell_type": "code",
      "metadata": {
        "id": "jfHBuTzm4s-C",
        "colab_type": "code",
        "outputId": "81500064-ada1-4c0c-e326-0b4f6e83f84c",
        "colab": {
          "base_uri": "https://localhost:8080/",
          "height": 84
        }
      },
      "source": [
        "from pyro.infer import Predictive\n",
        "\n",
        "predictive = Predictive(categorical_model, guide=guide, num_samples=2000,\n",
        "                        return_sites=(\"beta\", \"alpha\"))\n",
        "\n",
        "samples = predictive(X_train, Y_train)\n",
        "\n",
        "beta_samples = samples[\"beta\"].detach().numpy()\n",
        "alpha_samples = samples[\"alpha\"].detach().numpy()\n",
        "print(beta_samples.shape)\n",
        "print(alpha_samples.shape)\n",
        "\n",
        "# extract expected values of the parameters\n",
        "alpha_hat = samples[\"alpha\"].mean(axis=0).detach().numpy()\n",
        "beta_hat = samples[\"beta\"].mean(axis=0).detach().numpy()"
      ],
      "execution_count": 0,
      "outputs": [
        {
          "output_type": "stream",
          "text": [
            "torch.Size([2000, 30])\n",
            "torch.Size([2000, 24])\n",
            "(2000, 30, 24)\n",
            "(2000, 1, 24)\n"
          ],
          "name": "stdout"
        }
      ]
    },
    {
      "cell_type": "code",
      "metadata": {
        "id": "vYkOnyw54s-F",
        "colab_type": "code",
        "outputId": "95842cc6-84fc-4079-f4bd-079b61d89105",
        "colab": {
          "base_uri": "https://localhost:8080/",
          "height": 134
        }
      },
      "source": [
        "# make predictions for test set\n",
        "Y_hat = alpha_hat + np.dot(X_test, beta_hat)\n",
        "\n",
        "#rebuild matrix\n",
        "Y_hat_arg=np.argmax(Y_hat,axis=1)\n",
        "Y_hat_pred=np.zeros((Y_hat.shape[0],Y_hat.shape[1]))\n",
        "for i in range(Y_hat.shape[0]): \n",
        "    Y_hat_pred[i,Y_hat_arg[i]]=1\n",
        "\n",
        "\n",
        "\n",
        "# evaluate prediction accuracy\n",
        "print(\"Accuracy:\",accuracy_full_line(Y_hat_pred, Y_test))\n",
        "print(sum(Y_hat))"
      ],
      "execution_count": 0,
      "outputs": [
        {
          "output_type": "stream",
          "text": [
            "Accuracy: 0.39837901454761643\n",
            "[-3382883.17643492 -3391114.76990595  1550071.35298242 -3378992.47272835\n",
            "  -464999.96931671 -2292062.81367076   -62369.48236465  1426008.50245764\n",
            "   556399.81223756 -1527962.36649473 -1317189.31481692   139308.37132694\n",
            "   816606.31206314    34352.00267389 -2493925.51511105  -473444.93292315\n",
            " -1009020.29400576  1093942.23350399   213024.92676781    -6409.747628\n",
            " -1325946.11381667 -3269174.22713931   355433.33052275  2006425.73605118]\n"
          ],
          "name": "stdout"
        }
      ]
    },
    {
      "cell_type": "markdown",
      "metadata": {
        "id": "nILrr9CSFTIh",
        "colab_type": "text"
      },
      "source": [
        "#Third model: hierarchical model\n",
        "\n",
        "So now, we complexify a little bit the model. Our assumption that we can use the same parameters beta for all the observations is too strong, because it means that all individuals give the same importance to all the features and have the same biases."
      ]
    },
    {
      "cell_type": "code",
      "metadata": {
        "id": "q6btRU3jBoPo",
        "colab_type": "code",
        "colab": {}
      },
      "source": [
        "#Need to change this later, and to take into account all the features\n",
        "X_cat = np.concatenate([pd.get_dummies(train_df[x]) for x in columns_cat], axis=1)\n",
        "#We don't need the codpers to make predictions based on the profile\n",
        "X_num = train_df[columns_num[:-1]]\n",
        "X = np.concatenate([X_cat, X_num], axis=1)\n",
        "# standardize input features\n",
        "X_mean = X.mean(axis=0)\n",
        "X_std = X.std(axis=0)\n",
        "X = (X - X_mean) / X_std"
      ],
      "execution_count": 0,
      "outputs": []
    },
    {
      "cell_type": "code",
      "metadata": {
        "id": "FlzsENsbmzYC",
        "colab_type": "code",
        "colab": {
          "base_uri": "https://localhost:8080/",
          "height": 667
        },
        "outputId": "d7089df7-5aad-4f9e-e502-7d3f6f3d6c44"
      },
      "source": [
        "from sklearn.datasets import make_blobs\n",
        "from yellowbrick.cluster import KElbowVisualizer\n",
        "\n",
        "# Instantiate the clustering model and visualizer\n",
        "model = KMeans()\n",
        "visualizer = KElbowVisualizer(model, k=(5,20))\n",
        "\n",
        "visualizer.fit(X)        # Fit the data to the visualizer\n",
        "visualizer.show()        # Finalize and render the figure"
      ],
      "execution_count": 85,
      "outputs": [
        {
          "output_type": "stream",
          "text": [
            "/usr/local/lib/python3.6/dist-packages/sklearn/utils/deprecation.py:144: FutureWarning: The sklearn.metrics.classification module is  deprecated in version 0.22 and will be removed in version 0.24. The corresponding classes / functions should instead be imported from sklearn.metrics. Anything that cannot be imported from sklearn.metrics is now part of the private API.\n",
            "  warnings.warn(message, FutureWarning)\n"
          ],
          "name": "stderr"
        },
        {
          "output_type": "error",
          "ename": "AttributeError",
          "evalue": "ignored",
          "traceback": [
            "\u001b[0;31m---------------------------------------------------------------------------\u001b[0m",
            "\u001b[0;31mAttributeError\u001b[0m                            Traceback (most recent call last)",
            "\u001b[0;32m<ipython-input-85-769c7871250a>\u001b[0m in \u001b[0;36m<module>\u001b[0;34m()\u001b[0m\n\u001b[1;32m      7\u001b[0m \u001b[0;34m\u001b[0m\u001b[0m\n\u001b[1;32m      8\u001b[0m \u001b[0mvisualizer\u001b[0m\u001b[0;34m.\u001b[0m\u001b[0mfit\u001b[0m\u001b[0;34m(\u001b[0m\u001b[0mX\u001b[0m\u001b[0;34m)\u001b[0m        \u001b[0;31m# Fit the data to the visualizer\u001b[0m\u001b[0;34m\u001b[0m\u001b[0;34m\u001b[0m\u001b[0m\n\u001b[0;32m----> 9\u001b[0;31m \u001b[0mvisualizer\u001b[0m\u001b[0;34m.\u001b[0m\u001b[0mshow\u001b[0m\u001b[0;34m(\u001b[0m\u001b[0;34m)\u001b[0m        \u001b[0;31m# Finalize and render the figure\u001b[0m\u001b[0;34m\u001b[0m\u001b[0;34m\u001b[0m\u001b[0m\n\u001b[0m",
            "\u001b[0;32m/usr/local/lib/python3.6/dist-packages/yellowbrick/utils/wrapper.py\u001b[0m in \u001b[0;36m__getattr__\u001b[0;34m(self, attr)\u001b[0m\n\u001b[1;32m     40\u001b[0m     \u001b[0;32mdef\u001b[0m \u001b[0m__getattr__\u001b[0m\u001b[0;34m(\u001b[0m\u001b[0mself\u001b[0m\u001b[0;34m,\u001b[0m \u001b[0mattr\u001b[0m\u001b[0;34m)\u001b[0m\u001b[0;34m:\u001b[0m\u001b[0;34m\u001b[0m\u001b[0;34m\u001b[0m\u001b[0m\n\u001b[1;32m     41\u001b[0m         \u001b[0;31m# proxy to the wrapped object\u001b[0m\u001b[0;34m\u001b[0m\u001b[0;34m\u001b[0m\u001b[0;34m\u001b[0m\u001b[0m\n\u001b[0;32m---> 42\u001b[0;31m         \u001b[0;32mreturn\u001b[0m \u001b[0mgetattr\u001b[0m\u001b[0;34m(\u001b[0m\u001b[0mself\u001b[0m\u001b[0;34m.\u001b[0m\u001b[0m_wrapped\u001b[0m\u001b[0;34m,\u001b[0m \u001b[0mattr\u001b[0m\u001b[0;34m)\u001b[0m\u001b[0;34m\u001b[0m\u001b[0;34m\u001b[0m\u001b[0m\n\u001b[0m",
            "\u001b[0;31mAttributeError\u001b[0m: 'KMeans' object has no attribute 'show'"
          ]
        },
        {
          "output_type": "display_data",
          "data": {
            "image/png": "[encoded data removed]",
            "text/plain": [
              "<Figure size 576x396 with 2 Axes>"
            ]
          },
          "metadata": {
            "tags": []
          }
        }
      ]
    },
    {
      "cell_type": "code",
      "metadata": {
        "id": "_zTiaqajBq8x",
        "colab_type": "code",
        "colab": {
          "base_uri": "https://localhost:8080/",
          "height": 68
        },
        "outputId": "194f59e7-6b4a-47aa-d7d7-9f9bc61798d3"
      },
      "source": [
        "km = KMeans(n_clusters = 5)\n",
        "km.fit(X)"
      ],
      "execution_count": 95,
      "outputs": [
        {
          "output_type": "execute_result",
          "data": {
            "text/plain": [
              "KMeans(algorithm='auto', copy_x=True, init='k-means++', max_iter=300,\n",
              "       n_clusters=5, n_init=10, n_jobs=None, precompute_distances='auto',\n",
              "       random_state=None, tol=0.0001, verbose=0)"
            ]
          },
          "metadata": {
            "tags": []
          },
          "execution_count": 95
        }
      ]
    },
    {
      "cell_type": "code",
      "metadata": {
        "id": "Z3xEcnCkju6S",
        "colab_type": "code",
        "colab": {}
      },
      "source": [
        "ind = km.labels_"
      ],
      "execution_count": 0,
      "outputs": []
    },
    {
      "cell_type": "code",
      "metadata": {
        "id": "fb_C1lGTBvzY",
        "colab_type": "code",
        "colab": {}
      },
      "source": [
        "#Train/test split\n",
        "train_perc = 0.75 # percentage of training data\n",
        "split_point = int(train_perc*len(Y))\n",
        "perm = np.random.permutation(len(Y))\n",
        "ix_train = perm[:split_point]\n",
        "ix_test = perm[split_point:]\n",
        "X_train = X[ix_train,:]\n",
        "X_test = X[ix_test,:]\n",
        "ind_train = ind[ix_train]\n",
        "ind_test = ind[ix_test]\n",
        "Y_train = Y[ix_train]\n",
        "Y_test = Y[ix_test]"
      ],
      "execution_count": 0,
      "outputs": []
    },
    {
      "cell_type": "code",
      "metadata": {
        "id": "J5aE1qZcByoo",
        "colab_type": "code",
        "colab": {}
      },
      "source": [
        "# Prepare data for Pyro\n",
        "X_train = torch.tensor(X_train[:,:]).float()\n",
        "Y_train = torch.tensor(Y_train[:,:]).float()\n",
        "ind_train = torch.tensor(ind_train[:]).long()\n",
        "n_ind = max(ind_train) + 1"
      ],
      "execution_count": 0,
      "outputs": []
    },
    {
      "cell_type": "code",
      "metadata": {
        "id": "1_hF37cWF5_z",
        "colab_type": "code",
        "colab": {}
      },
      "source": [
        "def hierarchical_model(X, ind, n_ind, obs=None):\n",
        "    input_dim = X.shape[1]\n",
        "    n_cat = 24\n",
        "\n",
        "    alpha_mu = pyro.sample(\"alpha_mu\", dist.Normal(torch.zeros(n_cat), 10.*torch.ones(n_cat))) # Prior for the bias mean\n",
        "    alpha_sigma = pyro.sample(\"alpha_sigma\",  dist.HalfCauchy(10.*torch.ones(n_cat))) # Prior for the bias standard deviation\n",
        "\n",
        "    beta  = pyro.sample(\"beta\", dist.Normal(torch.zeros(input_dim, n_cat), 10.*torch.ones(input_dim, n_cat))) # Priors for the regression coefficents\n",
        "    \n",
        "    with pyro.plate(\"ind\", n_ind):\n",
        "        alpha = pyro.sample(\"alpha\", dist.Normal(alpha_mu, alpha_sigma).to_event(1)) # Draw the individual parameter for each individual\n",
        "\n",
        "    with pyro.plate(\"data\", X.shape[0]):\n",
        "        logits = alpha[ind] + X.matmul(beta)\n",
        "        y = pyro.sample(\"y\", dist.OneHotCategorical(logits=logits), obs=obs) # If you use logits you don't need to do sigmoid\n",
        "        \n",
        "    return y"
      ],
      "execution_count": 0,
      "outputs": []
    },
    {
      "cell_type": "code",
      "metadata": {
        "id": "a41XNE45F-IG",
        "colab_type": "code",
        "outputId": "5e5861ce-f267-4651-8abc-bb0b2ae11487",
        "colab": {
          "base_uri": "https://localhost:8080/",
          "height": 221
        }
      },
      "source": [
        "%%time\n",
        "\n",
        "# Define guide function\n",
        "guide = AutoDiagonalNormal(hierarchical_model)\n",
        "\n",
        "# Reset parameter values\n",
        "pyro.clear_param_store()\n",
        "\n",
        "# Define the number of optimization steps\n",
        "n_steps = 1000\n",
        "\n",
        "# Setup the optimizer\n",
        "adam_params = {\"lr\": 0.005}\n",
        "optimizer = ClippedAdam(adam_params)\n",
        "\n",
        "# Setup the inference algorithm\n",
        "elbo = Trace_ELBO(num_particles=2)\n",
        "svi = SVI(hierarchical_model, guide, optimizer, loss=elbo)\n",
        "\n",
        "# Do gradient steps\n",
        "for step in range(n_steps):\n",
        "    elbo = svi.step(X_train, ind_train, n_ind, Y_train)\n",
        "    if step % 100 == 0:\n",
        "        print(\"[%d] ELBO: %.1f\" % (step, elbo))"
      ],
      "execution_count": 100,
      "outputs": [
        {
          "output_type": "stream",
          "text": [
            "[0] ELBO: 51556734.2\n",
            "[100] ELBO: 40042020.4\n",
            "[200] ELBO: 30202072.4\n",
            "[300] ELBO: 22622902.3\n",
            "[400] ELBO: 16744209.0\n",
            "[500] ELBO: 12783776.1\n",
            "[600] ELBO: 9890944.4\n",
            "[700] ELBO: 7836864.6\n",
            "[800] ELBO: 6378499.1\n",
            "[900] ELBO: 5043834.3\n",
            "CPU times: user 56min 58s, sys: 46.7 s, total: 57min 44s\n",
            "Wall time: 30min 34s\n"
          ],
          "name": "stdout"
        }
      ]
    },
    {
      "cell_type": "code",
      "metadata": {
        "id": "AjW0VGmjGVAc",
        "colab_type": "code",
        "colab": {}
      },
      "source": [
        "from pyro.infer import Predictive\n",
        "\n",
        "predictive = Predictive(hierarchical_model, guide=guide, num_samples=2000,\n",
        "                        return_sites=(\"beta\", \"alpha\", \"alpha_mu\", \"alpha_sigma\"))\n",
        "samples = predictive(X_train, ind_train, n_ind, Y_train)"
      ],
      "execution_count": 0,
      "outputs": []
    },
    {
      "cell_type": "code",
      "metadata": {
        "id": "mnrLNV4kGcVP",
        "colab_type": "code",
        "colab": {}
      },
      "source": [
        "# extract expected values of the parameters\n",
        "alpha_hat = samples[\"alpha\"].mean(axis=0).detach().numpy()\n",
        "beta_hat = samples[\"beta\"].mean(axis=0).detach().numpy()"
      ],
      "execution_count": 0,
      "outputs": []
    },
    {
      "cell_type": "code",
      "metadata": {
        "id": "WZ54KiHIGhQF",
        "colab_type": "code",
        "outputId": "f626a1d6-95fb-4e0f-ec2b-7ad0021818ca",
        "colab": {
          "base_uri": "https://localhost:8080/",
          "height": 34
        }
      },
      "source": [
        "# make predictions for test set\n",
        "Y_hat = alpha_hat[ind_test,:] + np.dot(X_test, beta_hat)\n",
        "\n",
        "Y_hat_arg=np.argmax(Y_hat,axis=1)\n",
        "Y_hat_pred=np.zeros((Y_hat.shape[0],Y_hat.shape[1]))\n",
        "for i in range(Y_hat.shape[0]): \n",
        "    Y_hat_pred[i,Y_hat_arg[i]]=1\n",
        "\n",
        "# evaluate prediction accuracy\n",
        "print(\"Accuracy:\",accuracy_full_line(Y_hat_pred, Y_test))"
      ],
      "execution_count": 103,
      "outputs": [
        {
          "output_type": "stream",
          "text": [
            "Accuracy: 0.48689334105225435\n"
          ],
          "name": "stdout"
        }
      ]
    },
    {
      "cell_type": "code",
      "metadata": {
        "id": "Sjrl4nSKzyWB",
        "colab_type": "code",
        "outputId": "c1c9dbf1-25bb-4762-e2bf-eb421ed83934",
        "colab": {
          "base_uri": "https://localhost:8080/",
          "height": 34
        }
      },
      "source": [
        "# make predictions for test set with codprov\n",
        "Y_hat = alpha_hat[ind_test,:] + np.dot(X_test, beta_hat)\n",
        "\n",
        "Y_hat_arg=np.argmax(Y_hat,axis=1)\n",
        "Y_hat_pred=np.zeros((Y_hat.shape[0],Y_hat.shape[1]))\n",
        "for i in range(Y_hat.shape[0]): \n",
        "    Y_hat_pred[i,Y_hat_arg[i]]=1\n",
        "\n",
        "# evaluate prediction accuracy\n",
        "print(\"Accuracy:\",accuracy_full_line(Y_hat_pred, Y_test))"
      ],
      "execution_count": 104,
      "outputs": [
        {
          "output_type": "stream",
          "text": [
            "Accuracy: 0.48689334105225435\n"
          ],
          "name": "stdout"
        }
      ]
    },
    {
      "cell_type": "markdown",
      "metadata": {
        "id": "kldpNOU9J6Wn",
        "colab_type": "text"
      },
      "source": [
        "#Fourth model: add the product trends\n",
        "\n",
        "The dataset contains information about the products previously bought by some customers. We can use this to observ which products are the most popular"
      ]
    },
    {
      "cell_type": "code",
      "metadata": {
        "id": "IbPjCvNNDNee",
        "colab_type": "code",
        "outputId": "e65cf87a-d4d8-4160-cc7e-b9d15a8af77c",
        "colab": {
          "base_uri": "https://localhost:8080/",
          "height": 34
        }
      },
      "source": [
        "products = train_df[y_variables]\n",
        "\n",
        "popular_products_vector = np.zeros(products.shape[1])\n",
        "\n",
        "for i, (name, values) in enumerate(products.iteritems()):\n",
        "    for val in values:\n",
        "      popular_products_vector[i] += val\n",
        "\n",
        "popular_products_vector /= products.shape[0]\n",
        "\n",
        "#normalization\n",
        "popular_products_vector = (popular_products_vector-min(popular_products_vector)) / (max(popular_products_vector)-min(popular_products_vector))"
      ],
      "execution_count": 0,
      "outputs": [
        {
          "output_type": "stream",
          "text": [
            "(24,)\n"
          ],
          "name": "stdout"
        }
      ]
    },
    {
      "cell_type": "code",
      "metadata": {
        "id": "q1nIdWjlb6cP",
        "colab_type": "code",
        "colab": {}
      },
      "source": [
        "#Need to change this later, and to take into account all the features\n",
        "X_cat = np.concatenate([pd.get_dummies(train_df[x]) for x in columns_cat], axis=1)\n",
        "#We don't need the codpers to make predictions based on the profile\n",
        "X_num = train_df[columns_num[:-1]]\n",
        "X = np.concatenate([X_cat, X_num], axis=1)\n",
        "\n",
        "# standardize input features\n",
        "X_mean = X.mean(axis=0)\n",
        "X_std = X.std(axis=0)\n",
        "X = (X - X_mean) / X_std"
      ],
      "execution_count": 0,
      "outputs": []
    },
    {
      "cell_type": "code",
      "metadata": {
        "id": "nqTTFbE4erZz",
        "colab_type": "code",
        "colab": {}
      },
      "source": [
        "sexo = pd.get_dummies(train_df[\"sexo\"])\n",
        "stamp = sexo.values\n",
        "ind = stamp[:,0]"
      ],
      "execution_count": 0,
      "outputs": []
    },
    {
      "cell_type": "code",
      "metadata": {
        "id": "OzK0dY43et0I",
        "colab_type": "code",
        "colab": {}
      },
      "source": [
        "#Train/test split\n",
        "train_perc = 0.75 # percentage of training data\n",
        "split_point = int(train_perc*len(Y))\n",
        "perm = np.random.permutation(len(Y))\n",
        "ix_train = perm[:split_point]\n",
        "ix_test = perm[split_point:]\n",
        "X_train = X[ix_train,:]\n",
        "X_test = X[ix_test,:]\n",
        "ind_train = ind[ix_train]\n",
        "ind_test = ind[ix_test]\n",
        "Y_train = Y[ix_train]\n",
        "Y_test = Y[ix_test]"
      ],
      "execution_count": 0,
      "outputs": []
    },
    {
      "cell_type": "code",
      "metadata": {
        "id": "IszQ9mynewEp",
        "colab_type": "code",
        "colab": {}
      },
      "source": [
        "# Prepare data for Pyro\n",
        "X_train = torch.tensor(X_train[:2000,:]).float()\n",
        "Y_train = torch.tensor(Y_train[:2000,:]).float()\n",
        "ind_train = torch.tensor(ind_train[:2000]).long()\n",
        "n_ind = max(ind_train) + 1\n",
        "popular_products_vector = torch.tensor(popular_products_vector).float()"
      ],
      "execution_count": 0,
      "outputs": []
    },
    {
      "cell_type": "code",
      "metadata": {
        "id": "uWHlsLn_e09C",
        "colab_type": "code",
        "colab": {}
      },
      "source": [
        "def final_model(X, ind, n_ind, products, obs=None):\n",
        "    input_dim = X.shape[1]\n",
        "    n_cat = 24\n",
        "    n_products = products.shape[0]\n",
        "\n",
        "    alpha_mu = pyro.sample(\"alpha_mu\", dist.Normal(torch.zeros(n_cat), 10.*torch.ones(n_cat))) # Prior for the bias mean\n",
        "    alpha_sigma = pyro.sample(\"alpha_sigma\",  dist.HalfCauchy(10.*torch.ones(n_cat))) # Prior for the bias standard deviation\n",
        "\n",
        "    beta  = pyro.sample(\"beta\", dist.Normal(torch.zeros(input_dim, n_cat), 10.*torch.ones(input_dim, n_cat))) # Priors for the regression coefficents\n",
        "    beta_products = pyro.sample(\"beta_product\", dist.Normal(torch.zeros(n_products, n_cat), 10.*torch.ones(n_products, n_cat)))\n",
        "\n",
        "    with pyro.plate(\"ind\", n_ind):\n",
        "        alpha = pyro.sample(\"alpha\", dist.Normal(alpha_mu, alpha_sigma).to_event(1)) # Draw the individual parameter for each individual\n",
        "\n",
        "    with pyro.plate(\"data\", X.shape[0]):\n",
        "        logits = alpha[ind] + X.matmul(beta) + products.matmul(beta_products)\n",
        "        y = pyro.sample(\"y\", dist.OneHotCategorical(logits=logits), obs=obs) # If you use logits you don't need to do sigmoid\n",
        "        \n",
        "    return y"
      ],
      "execution_count": 0,
      "outputs": []
    },
    {
      "cell_type": "code",
      "metadata": {
        "id": "4JSoWu05v16m",
        "colab_type": "code",
        "outputId": "730e7e66-eb32-44e9-e722-0cad39284b9f",
        "colab": {
          "base_uri": "https://localhost:8080/",
          "height": 218
        }
      },
      "source": [
        "%%time\n",
        "# Define guide function\n",
        "guide = AutoDiagonalNormal(final_model)\n",
        "\n",
        "# Reset parameter values\n",
        "pyro.clear_param_store()\n",
        "\n",
        "# Define the number of optimization steps\n",
        "n_steps = 5000\n",
        "\n",
        "# Setup the optimizer\n",
        "adam_params = {\"lr\": 0.005}\n",
        "optimizer = ClippedAdam(adam_params)\n",
        "\n",
        "# Setup the inference algorithm\n",
        "elbo = Trace_ELBO(num_particles=2)\n",
        "svi = SVI(final_model, guide, optimizer, loss=elbo)\n",
        "\n",
        "# Do gradient steps\n",
        "for step in range(n_steps):\n",
        "    elbo = svi.step(X_train, ind_train, n_ind, popular_products_vector, Y_train)\n",
        "    if step % 500 == 0:\n",
        "        print(\"[%d] ELBO: %.1f\" % (step, elbo))"
      ],
      "execution_count": 0,
      "outputs": [
        {
          "output_type": "stream",
          "text": [
            "[0] ELBO: 58155.7\n",
            "[500] ELBO: 12784.4\n",
            "[1000] ELBO: 5238.3\n",
            "[1500] ELBO: 5080.0\n",
            "[2000] ELBO: 4661.6\n",
            "[2500] ELBO: 4657.8\n",
            "[3000] ELBO: 4754.1\n",
            "[3500] ELBO: 4614.3\n",
            "[4000] ELBO: 4691.6\n",
            "[4500] ELBO: 5258.6\n",
            "CPU times: user 3min 49s, sys: 870 ms, total: 3min 50s\n",
            "Wall time: 1min 17s\n"
          ],
          "name": "stdout"
        }
      ]
    },
    {
      "cell_type": "code",
      "metadata": {
        "colab_type": "code",
        "id": "u2rVTBFTwEnz",
        "colab": {}
      },
      "source": [
        "from pyro.infer import Predictive\n",
        "\n",
        "predictive = Predictive(final_model, guide=guide, num_samples=2000,\n",
        "                        return_sites=(\"beta\", \"alpha\", \"alpha_mu\", \"alpha_sigma\", \"beta_product\"))\n",
        "samples = predictive(X_train, ind_train, n_ind, popular_products_vector, Y_train)"
      ],
      "execution_count": 0,
      "outputs": []
    },
    {
      "cell_type": "code",
      "metadata": {
        "colab_type": "code",
        "id": "xx1Sek4ZwEn1",
        "colab": {}
      },
      "source": [
        "# extract expected values of the parameters\n",
        "alpha_hat = samples[\"alpha\"].mean(axis=0).detach().numpy()\n",
        "beta_hat = samples[\"beta\"].mean(axis=0).detach().numpy()\n",
        "beta_product_hat = samples[\"beta_product\"].mean(axis=0).detach().numpy()"
      ],
      "execution_count": 0,
      "outputs": []
    },
    {
      "cell_type": "code",
      "metadata": {
        "colab_type": "code",
        "outputId": "dc41cb90-0006-454f-8781-3aa4f66ddcc5",
        "id": "XtcXxtXiwEn4",
        "colab": {
          "base_uri": "https://localhost:8080/",
          "height": 34
        }
      },
      "source": [
        "# make predictions for test set\n",
        "Y_hat = alpha_hat[ind_test,:] + np.dot(X_test, beta_hat) + np.dot(popular_products_vector, beta_product_hat)\n",
        "\n",
        "Y_hat_arg=np.argmax(Y_hat,axis=1)\n",
        "Y_hat_pred=np.zeros((Y_hat.shape[0],Y_hat.shape[1]))\n",
        "for i in range(Y_hat.shape[0]): \n",
        "    Y_hat_pred[i,Y_hat_arg[i]]=1\n",
        "\n",
        "# evaluate prediction accuracy\n",
        "print(\"Accuracy:\",accuracy_full_line(Y_hat_pred, Y_test))"
      ],
      "execution_count": 0,
      "outputs": [
        {
          "output_type": "stream",
          "text": [
            "Accuracy: 0.410657736686929\n"
          ],
          "name": "stdout"
        }
      ]
    }
  ]
}